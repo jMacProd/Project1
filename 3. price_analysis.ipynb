{
 "cells": [
  {
   "cell_type": "code",
   "execution_count": 1,
   "metadata": {},
   "outputs": [],
   "source": [
    "import matplotlib.pyplot as plt\n",
    "import pandas as pd\n",
    "import scipy.stats as sts\n",
    "import numpy as np\n",
    "from scipy.stats import linregress\n"
   ]
  },
  {
   "cell_type": "code",
   "execution_count": 2,
   "metadata": {
    "scrolled": true
   },
   "outputs": [
    {
     "data": {
      "text/html": [
       "<div>\n",
       "<style scoped>\n",
       "    .dataframe tbody tr th:only-of-type {\n",
       "        vertical-align: middle;\n",
       "    }\n",
       "\n",
       "    .dataframe tbody tr th {\n",
       "        vertical-align: top;\n",
       "    }\n",
       "\n",
       "    .dataframe thead th {\n",
       "        text-align: right;\n",
       "    }\n",
       "</style>\n",
       "<table border=\"1\" class=\"dataframe\">\n",
       "  <thead>\n",
       "    <tr style=\"text-align: right;\">\n",
       "      <th></th>\n",
       "      <th>id</th>\n",
       "      <th>host_id</th>\n",
       "      <th>host_name</th>\n",
       "      <th>host_is_superhost</th>\n",
       "      <th>host_total_listings_count</th>\n",
       "      <th>street</th>\n",
       "      <th>neighbourhood_cleansed</th>\n",
       "      <th>city</th>\n",
       "      <th>state</th>\n",
       "      <th>zipcode</th>\n",
       "      <th>...</th>\n",
       "      <th>review_scores_rating</th>\n",
       "      <th>review_scores_accuracy</th>\n",
       "      <th>review_scores_cleanliness</th>\n",
       "      <th>review_scores_checkin</th>\n",
       "      <th>review_scores_communication</th>\n",
       "      <th>review_scores_location</th>\n",
       "      <th>review_scores_value</th>\n",
       "      <th>reviews_per_month</th>\n",
       "      <th>distance_from_cbd</th>\n",
       "      <th>station_distance</th>\n",
       "    </tr>\n",
       "  </thead>\n",
       "  <tbody>\n",
       "    <tr>\n",
       "      <th>0</th>\n",
       "      <td>12936</td>\n",
       "      <td>50121</td>\n",
       "      <td>Frank &amp; Vince</td>\n",
       "      <td>t</td>\n",
       "      <td>17</td>\n",
       "      <td>St Kilda, VIC, Australia</td>\n",
       "      <td>Port Phillip</td>\n",
       "      <td>St Kilda</td>\n",
       "      <td>Vic</td>\n",
       "      <td>3182</td>\n",
       "      <td>...</td>\n",
       "      <td>94</td>\n",
       "      <td>9</td>\n",
       "      <td>10</td>\n",
       "      <td>94</td>\n",
       "      <td>9</td>\n",
       "      <td>9</td>\n",
       "      <td>9</td>\n",
       "      <td>0.15</td>\n",
       "      <td>5.205174</td>\n",
       "      <td>1.4</td>\n",
       "    </tr>\n",
       "    <tr>\n",
       "      <th>1</th>\n",
       "      <td>47100</td>\n",
       "      <td>212071</td>\n",
       "      <td>Loren</td>\n",
       "      <td>t</td>\n",
       "      <td>4</td>\n",
       "      <td>Richmond, VIC, Australia</td>\n",
       "      <td>Yarra</td>\n",
       "      <td>Richmond</td>\n",
       "      <td>Vic</td>\n",
       "      <td>3121</td>\n",
       "      <td>...</td>\n",
       "      <td>98</td>\n",
       "      <td>10</td>\n",
       "      <td>10</td>\n",
       "      <td>98</td>\n",
       "      <td>10</td>\n",
       "      <td>10</td>\n",
       "      <td>10</td>\n",
       "      <td>1.75</td>\n",
       "      <td>3.649571</td>\n",
       "      <td>1.1</td>\n",
       "    </tr>\n",
       "    <tr>\n",
       "      <th>2</th>\n",
       "      <td>50492</td>\n",
       "      <td>50121</td>\n",
       "      <td>Frank &amp; Vince</td>\n",
       "      <td>t</td>\n",
       "      <td>17</td>\n",
       "      <td>St Kilda, VIC, Australia</td>\n",
       "      <td>Port Phillip</td>\n",
       "      <td>St Kilda</td>\n",
       "      <td>Vic</td>\n",
       "      <td>3182</td>\n",
       "      <td>...</td>\n",
       "      <td>97</td>\n",
       "      <td>10</td>\n",
       "      <td>10</td>\n",
       "      <td>97</td>\n",
       "      <td>10</td>\n",
       "      <td>9</td>\n",
       "      <td>10</td>\n",
       "      <td>0.60</td>\n",
       "      <td>5.437003</td>\n",
       "      <td>1.2</td>\n",
       "    </tr>\n",
       "    <tr>\n",
       "      <th>3</th>\n",
       "      <td>51592</td>\n",
       "      <td>190879</td>\n",
       "      <td>Michelle</td>\n",
       "      <td>t</td>\n",
       "      <td>1</td>\n",
       "      <td>Melbourne, VIC, Australia</td>\n",
       "      <td>Melbourne</td>\n",
       "      <td>Melbourne</td>\n",
       "      <td>Vic</td>\n",
       "      <td>3000</td>\n",
       "      <td>...</td>\n",
       "      <td>99</td>\n",
       "      <td>10</td>\n",
       "      <td>9</td>\n",
       "      <td>99</td>\n",
       "      <td>10</td>\n",
       "      <td>10</td>\n",
       "      <td>10</td>\n",
       "      <td>2.07</td>\n",
       "      <td>0.072335</td>\n",
       "      <td>0.5</td>\n",
       "    </tr>\n",
       "    <tr>\n",
       "      <th>4</th>\n",
       "      <td>66754</td>\n",
       "      <td>50121</td>\n",
       "      <td>Frank &amp; Vince</td>\n",
       "      <td>t</td>\n",
       "      <td>17</td>\n",
       "      <td>Richmond, VIC, Australia</td>\n",
       "      <td>Yarra</td>\n",
       "      <td>Richmond</td>\n",
       "      <td>Vic</td>\n",
       "      <td>3121</td>\n",
       "      <td>...</td>\n",
       "      <td>95</td>\n",
       "      <td>9</td>\n",
       "      <td>10</td>\n",
       "      <td>95</td>\n",
       "      <td>10</td>\n",
       "      <td>10</td>\n",
       "      <td>9</td>\n",
       "      <td>0.46</td>\n",
       "      <td>2.794548</td>\n",
       "      <td>0.5</td>\n",
       "    </tr>\n",
       "  </tbody>\n",
       "</table>\n",
       "<p>5 rows × 44 columns</p>\n",
       "</div>"
      ],
      "text/plain": [
       "      id  host_id      host_name host_is_superhost  host_total_listings_count  \\\n",
       "0  12936    50121  Frank & Vince                 t                         17   \n",
       "1  47100   212071          Loren                 t                          4   \n",
       "2  50492    50121  Frank & Vince                 t                         17   \n",
       "3  51592   190879       Michelle                 t                          1   \n",
       "4  66754    50121  Frank & Vince                 t                         17   \n",
       "\n",
       "                      street neighbourhood_cleansed       city state zipcode  \\\n",
       "0   St Kilda, VIC, Australia           Port Phillip   St Kilda   Vic    3182   \n",
       "1   Richmond, VIC, Australia                  Yarra   Richmond   Vic    3121   \n",
       "2   St Kilda, VIC, Australia           Port Phillip   St Kilda   Vic    3182   \n",
       "3  Melbourne, VIC, Australia              Melbourne  Melbourne   Vic    3000   \n",
       "4   Richmond, VIC, Australia                  Yarra   Richmond   Vic    3121   \n",
       "\n",
       "   ...  review_scores_rating  review_scores_accuracy  \\\n",
       "0  ...                    94                       9   \n",
       "1  ...                    98                      10   \n",
       "2  ...                    97                      10   \n",
       "3  ...                    99                      10   \n",
       "4  ...                    95                       9   \n",
       "\n",
       "  review_scores_cleanliness  review_scores_checkin  \\\n",
       "0                        10                     94   \n",
       "1                        10                     98   \n",
       "2                        10                     97   \n",
       "3                         9                     99   \n",
       "4                        10                     95   \n",
       "\n",
       "   review_scores_communication  review_scores_location  review_scores_value  \\\n",
       "0                            9                       9                    9   \n",
       "1                           10                      10                   10   \n",
       "2                           10                       9                   10   \n",
       "3                           10                      10                   10   \n",
       "4                           10                      10                    9   \n",
       "\n",
       "  reviews_per_month distance_from_cbd  station_distance  \n",
       "0              0.15          5.205174               1.4  \n",
       "1              1.75          3.649571               1.1  \n",
       "2              0.60          5.437003               1.2  \n",
       "3              2.07          0.072335               0.5  \n",
       "4              0.46          2.794548               0.5  \n",
       "\n",
       "[5 rows x 44 columns]"
      ]
     },
     "execution_count": 2,
     "metadata": {},
     "output_type": "execute_result"
    }
   ],
   "source": [
    "# Read raw csv file and view it.\n",
    "listing_data = pd.read_csv(\"clean_data_rs/airbnbFINAL_Swobabika.csv\", low_memory=False, encoding=\"UTF-8\")\n",
    "listing_data.head()"
   ]
  },
  {
   "cell_type": "markdown",
   "metadata": {},
   "source": [
    "## Basic clean up and filtering of relevant Data."
   ]
  },
  {
   "cell_type": "code",
   "execution_count": 3,
   "metadata": {},
   "outputs": [
    {
     "data": {
      "text/plain": [
       "Index(['id', 'host_id', 'host_name', 'host_is_superhost',\n",
       "       'host_total_listings_count', 'street', 'neighbourhood_cleansed', 'city',\n",
       "       'state', 'zipcode', 'latitude', 'longitude', 'property_type',\n",
       "       'accommodates', 'bathrooms', 'bedrooms', 'beds', 'bed_type',\n",
       "       'amenities', 'price', 'weekly_price', 'monthly_price',\n",
       "       'security_deposit', 'cleaning_fee', 'guests_included', 'extra_people',\n",
       "       'minimum_nights', 'maximum_nights', 'has_availability',\n",
       "       'availability_30', 'availability_60', 'availability_90',\n",
       "       'availability_365', 'number_of_reviews', 'review_scores_rating',\n",
       "       'review_scores_accuracy', 'review_scores_cleanliness',\n",
       "       'review_scores_checkin', 'review_scores_communication',\n",
       "       'review_scores_location', 'review_scores_value', 'reviews_per_month',\n",
       "       'distance_from_cbd', 'station_distance'],\n",
       "      dtype='object')"
      ]
     },
     "execution_count": 3,
     "metadata": {},
     "output_type": "execute_result"
    }
   ],
   "source": [
    "# Get the column names so that necessary column names can be extracted.\n",
    "listing_data.columns"
   ]
  },
  {
   "cell_type": "code",
   "execution_count": 4,
   "metadata": {},
   "outputs": [
    {
     "data": {
      "text/html": [
       "<div>\n",
       "<style scoped>\n",
       "    .dataframe tbody tr th:only-of-type {\n",
       "        vertical-align: middle;\n",
       "    }\n",
       "\n",
       "    .dataframe tbody tr th {\n",
       "        vertical-align: top;\n",
       "    }\n",
       "\n",
       "    .dataframe thead th {\n",
       "        text-align: right;\n",
       "    }\n",
       "</style>\n",
       "<table border=\"1\" class=\"dataframe\">\n",
       "  <thead>\n",
       "    <tr style=\"text-align: right;\">\n",
       "      <th></th>\n",
       "      <th>city</th>\n",
       "      <th>property_type</th>\n",
       "      <th>accommodates</th>\n",
       "      <th>price</th>\n",
       "    </tr>\n",
       "  </thead>\n",
       "  <tbody>\n",
       "    <tr>\n",
       "      <th>0</th>\n",
       "      <td>St Kilda</td>\n",
       "      <td>Apartment</td>\n",
       "      <td>3</td>\n",
       "      <td>159.0</td>\n",
       "    </tr>\n",
       "    <tr>\n",
       "      <th>1</th>\n",
       "      <td>Richmond</td>\n",
       "      <td>Apartment</td>\n",
       "      <td>2</td>\n",
       "      <td>98.0</td>\n",
       "    </tr>\n",
       "    <tr>\n",
       "      <th>2</th>\n",
       "      <td>St Kilda</td>\n",
       "      <td>Apartment</td>\n",
       "      <td>4</td>\n",
       "      <td>190.0</td>\n",
       "    </tr>\n",
       "    <tr>\n",
       "      <th>3</th>\n",
       "      <td>Melbourne</td>\n",
       "      <td>Loft</td>\n",
       "      <td>4</td>\n",
       "      <td>228.0</td>\n",
       "    </tr>\n",
       "    <tr>\n",
       "      <th>4</th>\n",
       "      <td>Richmond</td>\n",
       "      <td>Apartment</td>\n",
       "      <td>4</td>\n",
       "      <td>138.0</td>\n",
       "    </tr>\n",
       "    <tr>\n",
       "      <th>...</th>\n",
       "      <td>...</td>\n",
       "      <td>...</td>\n",
       "      <td>...</td>\n",
       "      <td>...</td>\n",
       "    </tr>\n",
       "    <tr>\n",
       "      <th>8922</th>\n",
       "      <td>Melbourne</td>\n",
       "      <td>Apartment</td>\n",
       "      <td>5</td>\n",
       "      <td>156.0</td>\n",
       "    </tr>\n",
       "    <tr>\n",
       "      <th>8923</th>\n",
       "      <td>Brunswick West</td>\n",
       "      <td>House</td>\n",
       "      <td>6</td>\n",
       "      <td>199.0</td>\n",
       "    </tr>\n",
       "    <tr>\n",
       "      <th>8924</th>\n",
       "      <td>Port Melbourne</td>\n",
       "      <td>Apartment</td>\n",
       "      <td>4</td>\n",
       "      <td>140.0</td>\n",
       "    </tr>\n",
       "    <tr>\n",
       "      <th>8925</th>\n",
       "      <td>Preston</td>\n",
       "      <td>Apartment</td>\n",
       "      <td>2</td>\n",
       "      <td>71.0</td>\n",
       "    </tr>\n",
       "    <tr>\n",
       "      <th>8926</th>\n",
       "      <td>Richmond</td>\n",
       "      <td>House</td>\n",
       "      <td>4</td>\n",
       "      <td>120.0</td>\n",
       "    </tr>\n",
       "  </tbody>\n",
       "</table>\n",
       "<p>8927 rows × 4 columns</p>\n",
       "</div>"
      ],
      "text/plain": [
       "                city property_type  accommodates  price\n",
       "0           St Kilda     Apartment             3  159.0\n",
       "1           Richmond     Apartment             2   98.0\n",
       "2           St Kilda     Apartment             4  190.0\n",
       "3          Melbourne          Loft             4  228.0\n",
       "4           Richmond     Apartment             4  138.0\n",
       "...              ...           ...           ...    ...\n",
       "8922       Melbourne     Apartment             5  156.0\n",
       "8923  Brunswick West         House             6  199.0\n",
       "8924  Port Melbourne     Apartment             4  140.0\n",
       "8925         Preston     Apartment             2   71.0\n",
       "8926        Richmond         House             4  120.0\n",
       "\n",
       "[8927 rows x 4 columns]"
      ]
     },
     "execution_count": 4,
     "metadata": {},
     "output_type": "execute_result"
    }
   ],
   "source": [
    "# Get the data with relevant columns into a new dataframe and view it.\n",
    "price_airbnb_data = listing_data[[\"city\",\"property_type\",\"accommodates\",\"price\"]]\n",
    "price_airbnb_data"
   ]
  },
  {
   "cell_type": "code",
   "execution_count": 5,
   "metadata": {},
   "outputs": [
    {
     "data": {
      "text/html": [
       "<div>\n",
       "<style scoped>\n",
       "    .dataframe tbody tr th:only-of-type {\n",
       "        vertical-align: middle;\n",
       "    }\n",
       "\n",
       "    .dataframe tbody tr th {\n",
       "        vertical-align: top;\n",
       "    }\n",
       "\n",
       "    .dataframe thead th {\n",
       "        text-align: right;\n",
       "    }\n",
       "</style>\n",
       "<table border=\"1\" class=\"dataframe\">\n",
       "  <thead>\n",
       "    <tr style=\"text-align: right;\">\n",
       "      <th></th>\n",
       "      <th>Suburbs</th>\n",
       "      <th>property_type</th>\n",
       "      <th>accommodates</th>\n",
       "      <th>Price/Day($)</th>\n",
       "    </tr>\n",
       "  </thead>\n",
       "  <tbody>\n",
       "    <tr>\n",
       "      <th>0</th>\n",
       "      <td>St Kilda</td>\n",
       "      <td>Apartment</td>\n",
       "      <td>3</td>\n",
       "      <td>159.0</td>\n",
       "    </tr>\n",
       "    <tr>\n",
       "      <th>1</th>\n",
       "      <td>Richmond</td>\n",
       "      <td>Apartment</td>\n",
       "      <td>2</td>\n",
       "      <td>98.0</td>\n",
       "    </tr>\n",
       "    <tr>\n",
       "      <th>2</th>\n",
       "      <td>St Kilda</td>\n",
       "      <td>Apartment</td>\n",
       "      <td>4</td>\n",
       "      <td>190.0</td>\n",
       "    </tr>\n",
       "    <tr>\n",
       "      <th>3</th>\n",
       "      <td>Melbourne</td>\n",
       "      <td>Loft</td>\n",
       "      <td>4</td>\n",
       "      <td>228.0</td>\n",
       "    </tr>\n",
       "    <tr>\n",
       "      <th>4</th>\n",
       "      <td>Richmond</td>\n",
       "      <td>Apartment</td>\n",
       "      <td>4</td>\n",
       "      <td>138.0</td>\n",
       "    </tr>\n",
       "    <tr>\n",
       "      <th>...</th>\n",
       "      <td>...</td>\n",
       "      <td>...</td>\n",
       "      <td>...</td>\n",
       "      <td>...</td>\n",
       "    </tr>\n",
       "    <tr>\n",
       "      <th>8922</th>\n",
       "      <td>Melbourne</td>\n",
       "      <td>Apartment</td>\n",
       "      <td>5</td>\n",
       "      <td>156.0</td>\n",
       "    </tr>\n",
       "    <tr>\n",
       "      <th>8923</th>\n",
       "      <td>Brunswick West</td>\n",
       "      <td>House</td>\n",
       "      <td>6</td>\n",
       "      <td>199.0</td>\n",
       "    </tr>\n",
       "    <tr>\n",
       "      <th>8924</th>\n",
       "      <td>Port Melbourne</td>\n",
       "      <td>Apartment</td>\n",
       "      <td>4</td>\n",
       "      <td>140.0</td>\n",
       "    </tr>\n",
       "    <tr>\n",
       "      <th>8925</th>\n",
       "      <td>Preston</td>\n",
       "      <td>Apartment</td>\n",
       "      <td>2</td>\n",
       "      <td>71.0</td>\n",
       "    </tr>\n",
       "    <tr>\n",
       "      <th>8926</th>\n",
       "      <td>Richmond</td>\n",
       "      <td>House</td>\n",
       "      <td>4</td>\n",
       "      <td>120.0</td>\n",
       "    </tr>\n",
       "  </tbody>\n",
       "</table>\n",
       "<p>8927 rows × 4 columns</p>\n",
       "</div>"
      ],
      "text/plain": [
       "             Suburbs property_type  accommodates  Price/Day($)\n",
       "0           St Kilda     Apartment             3         159.0\n",
       "1           Richmond     Apartment             2          98.0\n",
       "2           St Kilda     Apartment             4         190.0\n",
       "3          Melbourne          Loft             4         228.0\n",
       "4           Richmond     Apartment             4         138.0\n",
       "...              ...           ...           ...           ...\n",
       "8922       Melbourne     Apartment             5         156.0\n",
       "8923  Brunswick West         House             6         199.0\n",
       "8924  Port Melbourne     Apartment             4         140.0\n",
       "8925         Preston     Apartment             2          71.0\n",
       "8926        Richmond         House             4         120.0\n",
       "\n",
       "[8927 rows x 4 columns]"
      ]
     },
     "execution_count": 5,
     "metadata": {},
     "output_type": "execute_result"
    }
   ],
   "source": [
    "# Rename columns for better readability\n",
    "price_data_renamed=price_airbnb_data.rename(columns={\"city\":\"Suburbs\", \n",
    "                                                     \"price\":\"Price/Day($)\" })\n",
    "price_data_renamed"
   ]
  },
  {
   "cell_type": "code",
   "execution_count": 6,
   "metadata": {},
   "outputs": [
    {
     "data": {
      "text/plain": [
       "Suburbs           object\n",
       "property_type     object\n",
       "accommodates       int64\n",
       "Price/Day($)     float64\n",
       "dtype: object"
      ]
     },
     "execution_count": 6,
     "metadata": {},
     "output_type": "execute_result"
    }
   ],
   "source": [
    "# check datatype to make sure price columns are numerical\n",
    "price_data_renamed.dtypes"
   ]
  },
  {
   "cell_type": "code",
   "execution_count": 7,
   "metadata": {},
   "outputs": [
    {
     "data": {
      "text/plain": [
       "Suburbs          object\n",
       "property_type    object\n",
       "accommodates      int64\n",
       "Price/Day($)      int64\n",
       "dtype: object"
      ]
     },
     "execution_count": 7,
     "metadata": {},
     "output_type": "execute_result"
    }
   ],
   "source": [
    "# Convert Price/Day Column to integer type\n",
    "price_data_renamed[\"Price/Day($)\"] = price_data_renamed[\"Price/Day($)\"].astype('int64')\n",
    "price_data_renamed.dtypes"
   ]
  },
  {
   "cell_type": "code",
   "execution_count": 8,
   "metadata": {},
   "outputs": [
    {
     "data": {
      "text/plain": [
       "<matplotlib.axes._subplots.AxesSubplot at 0x1cdaa226668>"
      ]
     },
     "execution_count": 8,
     "metadata": {},
     "output_type": "execute_result"
    },
    {
     "data": {
      "image/png": "[encoded data removed]",
      "text/plain": [
       "<Figure size 432x288 with 1 Axes>"
      ]
     },
     "metadata": {
      "needs_background": "light"
     },
     "output_type": "display_data"
    }
   ],
   "source": [
    "# Check via box and whisker plot if there are extreme values in the dataset.\n",
    "price_data_renamed.boxplot(column='Price/Day($)', return_type='axes')"
   ]
  },
  {
   "cell_type": "code",
   "execution_count": 9,
   "metadata": {},
   "outputs": [
    {
     "name": "stdout",
     "output_type": "stream",
     "text": [
      "[   0   12   30   39   40   46   47   48   50   53   54   55   57   58\n",
      "   60   61   62   64   65   66   68   69   71   72   73   75   76   78\n",
      "   79   80   82   83   84   86   87   89   90   91   93   94   96   97\n",
      "   98  100  101  102  104  105  107  108  109  111  112  114  115  116\n",
      "  118  119  120  121  122  123  125  126  127  129  130  132  133  134\n",
      "  136  137  138  140  141  143  144  145  147  148  150  151  152  154\n",
      "  155  156  158  159  161  162  163  165  166  168  169  170  172  173\n",
      "  174  176  177  179  180  181  183  184  186  187  188  190  191  192\n",
      "  194  195  197  198  199  202  203  205  206  208  209  210  212  213\n",
      "  215  216  217  219  220  221  224  226  227  228  230  233  234  235\n",
      "  237  238  239  241  242  244  245  246  248  249  251  255  256  257\n",
      "  259  260  262  264  266  269  270  271  275  277  278  280  285  287\n",
      "  288  289  291  293  295  296  298  299  300  302  305  307  309  310\n",
      "  316  317  318  320  321  323  324  325  327  329  332  334  335  336\n",
      "  338  339  341  343  345  347  349  350  354  357  359  360  361  365\n",
      "  370  371  372  375  379  385  388  390  395  396  397  399  400  406\n",
      "  408  410  415  419  425  429  435  440  444  449  450  455  460  464\n",
      "  465  471  475  480  485  489  490  496  498  500  505  509  519  529\n",
      "  530  534  539  545  550  561  566  580  586  590  595  598  599  610\n",
      "  615  646  651  653  670  680  695  699  700  710  720  750  779  792\n",
      "  795  799  800  808  820  829  850  862  875  885  890  898  900  921\n",
      "  934  950  959  975  995  999 1023 1045 1139 1200 1250 1395 1449 1501\n",
      " 1771 1800 2171 2475]\n"
     ]
    }
   ],
   "source": [
    "# Making sure unique values show extreme values\n",
    "c=price_data_renamed['Price/Day($)'].unique()\n",
    "c.sort()\n",
    "print(c)"
   ]
  },
  {
   "cell_type": "code",
   "execution_count": 10,
   "metadata": {},
   "outputs": [
    {
     "data": {
      "text/plain": [
       "8924"
      ]
     },
     "execution_count": 10,
     "metadata": {},
     "output_type": "execute_result"
    }
   ],
   "source": [
    "# Clean price data for extreme values i.e. rows with values=0 and <2500 price/day values.\n",
    "price_data_cleaned = price_data_renamed.loc[(price_data_renamed[\"Price/Day($)\"] > 0) &\n",
    "                                            (price_data_renamed[\"Price/Day($)\"] < 2500)]\n",
    "len(price_data_cleaned)"
   ]
  },
  {
   "cell_type": "code",
   "execution_count": 11,
   "metadata": {},
   "outputs": [
    {
     "name": "stdout",
     "output_type": "stream",
     "text": [
      "[  12   30   39   40   46   47   48   50   53   54   55   57   58   60\n",
      "   61   62   64   65   66   68   69   71   72   73   75   76   78   79\n",
      "   80   82   83   84   86   87   89   90   91   93   94   96   97   98\n",
      "  100  101  102  104  105  107  108  109  111  112  114  115  116  118\n",
      "  119  120  121  122  123  125  126  127  129  130  132  133  134  136\n",
      "  137  138  140  141  143  144  145  147  148  150  151  152  154  155\n",
      "  156  158  159  161  162  163  165  166  168  169  170  172  173  174\n",
      "  176  177  179  180  181  183  184  186  187  188  190  191  192  194\n",
      "  195  197  198  199  202  203  205  206  208  209  210  212  213  215\n",
      "  216  217  219  220  221  224  226  227  228  230  233  234  235  237\n",
      "  238  239  241  242  244  245  246  248  249  251  255  256  257  259\n",
      "  260  262  264  266  269  270  271  275  277  278  280  285  287  288\n",
      "  289  291  293  295  296  298  299  300  302  305  307  309  310  316\n",
      "  317  318  320  321  323  324  325  327  329  332  334  335  336  338\n",
      "  339  341  343  345  347  349  350  354  357  359  360  361  365  370\n",
      "  371  372  375  379  385  388  390  395  396  397  399  400  406  408\n",
      "  410  415  419  425  429  435  440  444  449  450  455  460  464  465\n",
      "  471  475  480  485  489  490  496  498  500  505  509  519  529  530\n",
      "  534  539  545  550  561  566  580  586  590  595  598  599  610  615\n",
      "  646  651  653  670  680  695  699  700  710  720  750  779  792  795\n",
      "  799  800  808  820  829  850  862  875  885  890  898  900  921  934\n",
      "  950  959  975  995  999 1023 1045 1139 1200 1250 1395 1449 1501 1771\n",
      " 1800 2171 2475]\n"
     ]
    }
   ],
   "source": [
    "# Making sure extereme values are removed from dataset.\n",
    "b= price_data_cleaned['Price/Day($)'].unique()\n",
    "b.sort()\n",
    "print(b)"
   ]
  },
  {
   "cell_type": "markdown",
   "metadata": {},
   "source": [
    "### Generating Price/Day/Person data for further analysis"
   ]
  },
  {
   "cell_type": "code",
   "execution_count": 12,
   "metadata": {},
   "outputs": [],
   "source": [
    "# Create a copy to retain original.\n",
    "price_data_cleaned2 = price_data_cleaned.copy()"
   ]
  },
  {
   "cell_type": "code",
   "execution_count": 13,
   "metadata": {},
   "outputs": [
    {
     "data": {
      "text/html": [
       "<div>\n",
       "<style scoped>\n",
       "    .dataframe tbody tr th:only-of-type {\n",
       "        vertical-align: middle;\n",
       "    }\n",
       "\n",
       "    .dataframe tbody tr th {\n",
       "        vertical-align: top;\n",
       "    }\n",
       "\n",
       "    .dataframe thead th {\n",
       "        text-align: right;\n",
       "    }\n",
       "</style>\n",
       "<table border=\"1\" class=\"dataframe\">\n",
       "  <thead>\n",
       "    <tr style=\"text-align: right;\">\n",
       "      <th></th>\n",
       "      <th>Suburbs</th>\n",
       "      <th>property_type</th>\n",
       "      <th>accommodates</th>\n",
       "      <th>Price/Day($)</th>\n",
       "      <th>Price/Day/Person($)</th>\n",
       "    </tr>\n",
       "  </thead>\n",
       "  <tbody>\n",
       "    <tr>\n",
       "      <th>0</th>\n",
       "      <td>St Kilda</td>\n",
       "      <td>Apartment</td>\n",
       "      <td>3</td>\n",
       "      <td>159</td>\n",
       "      <td>53.00</td>\n",
       "    </tr>\n",
       "    <tr>\n",
       "      <th>1</th>\n",
       "      <td>Richmond</td>\n",
       "      <td>Apartment</td>\n",
       "      <td>2</td>\n",
       "      <td>98</td>\n",
       "      <td>49.00</td>\n",
       "    </tr>\n",
       "    <tr>\n",
       "      <th>2</th>\n",
       "      <td>St Kilda</td>\n",
       "      <td>Apartment</td>\n",
       "      <td>4</td>\n",
       "      <td>190</td>\n",
       "      <td>47.50</td>\n",
       "    </tr>\n",
       "    <tr>\n",
       "      <th>3</th>\n",
       "      <td>Melbourne</td>\n",
       "      <td>Loft</td>\n",
       "      <td>4</td>\n",
       "      <td>228</td>\n",
       "      <td>57.00</td>\n",
       "    </tr>\n",
       "    <tr>\n",
       "      <th>4</th>\n",
       "      <td>Richmond</td>\n",
       "      <td>Apartment</td>\n",
       "      <td>4</td>\n",
       "      <td>138</td>\n",
       "      <td>34.50</td>\n",
       "    </tr>\n",
       "    <tr>\n",
       "      <th>...</th>\n",
       "      <td>...</td>\n",
       "      <td>...</td>\n",
       "      <td>...</td>\n",
       "      <td>...</td>\n",
       "      <td>...</td>\n",
       "    </tr>\n",
       "    <tr>\n",
       "      <th>8922</th>\n",
       "      <td>Melbourne</td>\n",
       "      <td>Apartment</td>\n",
       "      <td>5</td>\n",
       "      <td>156</td>\n",
       "      <td>31.20</td>\n",
       "    </tr>\n",
       "    <tr>\n",
       "      <th>8923</th>\n",
       "      <td>Brunswick West</td>\n",
       "      <td>House</td>\n",
       "      <td>6</td>\n",
       "      <td>199</td>\n",
       "      <td>33.17</td>\n",
       "    </tr>\n",
       "    <tr>\n",
       "      <th>8924</th>\n",
       "      <td>Port Melbourne</td>\n",
       "      <td>Apartment</td>\n",
       "      <td>4</td>\n",
       "      <td>140</td>\n",
       "      <td>35.00</td>\n",
       "    </tr>\n",
       "    <tr>\n",
       "      <th>8925</th>\n",
       "      <td>Preston</td>\n",
       "      <td>Apartment</td>\n",
       "      <td>2</td>\n",
       "      <td>71</td>\n",
       "      <td>35.50</td>\n",
       "    </tr>\n",
       "    <tr>\n",
       "      <th>8926</th>\n",
       "      <td>Richmond</td>\n",
       "      <td>House</td>\n",
       "      <td>4</td>\n",
       "      <td>120</td>\n",
       "      <td>30.00</td>\n",
       "    </tr>\n",
       "  </tbody>\n",
       "</table>\n",
       "<p>8924 rows × 5 columns</p>\n",
       "</div>"
      ],
      "text/plain": [
       "             Suburbs property_type  accommodates  Price/Day($)  \\\n",
       "0           St Kilda     Apartment             3           159   \n",
       "1           Richmond     Apartment             2            98   \n",
       "2           St Kilda     Apartment             4           190   \n",
       "3          Melbourne          Loft             4           228   \n",
       "4           Richmond     Apartment             4           138   \n",
       "...              ...           ...           ...           ...   \n",
       "8922       Melbourne     Apartment             5           156   \n",
       "8923  Brunswick West         House             6           199   \n",
       "8924  Port Melbourne     Apartment             4           140   \n",
       "8925         Preston     Apartment             2            71   \n",
       "8926        Richmond         House             4           120   \n",
       "\n",
       "      Price/Day/Person($)  \n",
       "0                   53.00  \n",
       "1                   49.00  \n",
       "2                   47.50  \n",
       "3                   57.00  \n",
       "4                   34.50  \n",
       "...                   ...  \n",
       "8922                31.20  \n",
       "8923                33.17  \n",
       "8924                35.00  \n",
       "8925                35.50  \n",
       "8926                30.00  \n",
       "\n",
       "[8924 rows x 5 columns]"
      ]
     },
     "execution_count": 13,
     "metadata": {},
     "output_type": "execute_result"
    }
   ],
   "source": [
    "# Create a new column for price/day/person and fill calculated values\n",
    "price_per_person = round((price_data_cleaned2['Price/Day($)']/price_data_cleaned2['accommodates']),2)\n",
    "price_data_cleaned2['Price/Day/Person($)'] = price_per_person\n",
    "price_data_cleaned2"
   ]
  },
  {
   "cell_type": "markdown",
   "metadata": {},
   "source": [
    "## Price/Day/Person Analysis based on Property_Type"
   ]
  },
  {
   "cell_type": "code",
   "execution_count": 14,
   "metadata": {},
   "outputs": [
    {
     "data": {
      "text/plain": [
       "property_type\n",
       "Apartment             44.434740\n",
       "Townhouse             45.454167\n",
       "House                 47.868563\n",
       "Loft                  51.663689\n",
       "Serviced apartment    58.880394\n",
       "Name: Price/Day/Person($), dtype: float64"
      ]
     },
     "execution_count": 14,
     "metadata": {},
     "output_type": "execute_result"
    }
   ],
   "source": [
    "# Groupby on propert types and find the mean price/day/person for each type.\n",
    "grouped_property_type = price_data_cleaned2.groupby('property_type')[\"Price/Day/Person($)\"].mean().sort_values()\n",
    "grouped_property_type"
   ]
  },
  {
   "cell_type": "code",
   "execution_count": 17,
   "metadata": {},
   "outputs": [
    {
     "data": {
      "image/png": "[encoded data removed]",
      "text/plain": [
       "<Figure size 720x576 with 1 Axes>"
      ]
     },
     "metadata": {
      "needs_background": "light"
     },
     "output_type": "display_data"
    }
   ],
   "source": [
    "# Plot the average price/day/person based on property_type.\n",
    "bplot3=grouped_property_type.plot(kind=\"barh\",figsize=(10,8),color=\"blue\")\n",
    "plt.xlabel(\"Average Price/Day/Person (in $)\")\n",
    "plt.title(\"Average Price/Day/Person for each Property Type\")\n",
    "for b in bplot3.patches:\n",
    "    width = b.get_width()\n",
    "    plt.text(2+b.get_width(), b.get_y()+0.55*b.get_height(),\n",
    "             '{:1.2f}'.format(width),\n",
    "             ha='center', va='center')\n",
    "plt.savefig(\"Presentation Slides/Price_Output/PropertyType_Price.png\")"
   ]
  },
  {
   "cell_type": "code",
   "execution_count": 18,
   "metadata": {},
   "outputs": [
    {
     "data": {
      "text/html": [
       "<div>\n",
       "<style scoped>\n",
       "    .dataframe tbody tr th:only-of-type {\n",
       "        vertical-align: middle;\n",
       "    }\n",
       "\n",
       "    .dataframe tbody tr th {\n",
       "        vertical-align: top;\n",
       "    }\n",
       "\n",
       "    .dataframe thead th {\n",
       "        text-align: right;\n",
       "    }\n",
       "</style>\n",
       "<table border=\"1\" class=\"dataframe\">\n",
       "  <thead>\n",
       "    <tr style=\"text-align: right;\">\n",
       "      <th></th>\n",
       "      <th>property_type</th>\n",
       "      <th>Price/Day/Person($)</th>\n",
       "    </tr>\n",
       "  </thead>\n",
       "  <tbody>\n",
       "    <tr>\n",
       "      <th>0</th>\n",
       "      <td>Apartment</td>\n",
       "      <td>44.434740</td>\n",
       "    </tr>\n",
       "    <tr>\n",
       "      <th>1</th>\n",
       "      <td>Townhouse</td>\n",
       "      <td>45.454167</td>\n",
       "    </tr>\n",
       "    <tr>\n",
       "      <th>2</th>\n",
       "      <td>House</td>\n",
       "      <td>47.868563</td>\n",
       "    </tr>\n",
       "    <tr>\n",
       "      <th>3</th>\n",
       "      <td>Loft</td>\n",
       "      <td>51.663689</td>\n",
       "    </tr>\n",
       "    <tr>\n",
       "      <th>4</th>\n",
       "      <td>Serviced apartment</td>\n",
       "      <td>58.880394</td>\n",
       "    </tr>\n",
       "  </tbody>\n",
       "</table>\n",
       "</div>"
      ],
      "text/plain": [
       "        property_type  Price/Day/Person($)\n",
       "0           Apartment            44.434740\n",
       "1           Townhouse            45.454167\n",
       "2               House            47.868563\n",
       "3                Loft            51.663689\n",
       "4  Serviced apartment            58.880394"
      ]
     },
     "execution_count": 18,
     "metadata": {},
     "output_type": "execute_result"
    }
   ],
   "source": [
    "# convert grouped property type dataseries to a Dataframe\n",
    "property_type_DF =pd.DataFrame(grouped_property_type)\n",
    "property_type_DF.reset_index(level=0, inplace=True)\n",
    "property_type_DF"
   ]
  },
  {
   "cell_type": "code",
   "execution_count": 19,
   "metadata": {},
   "outputs": [
    {
     "name": "stdout",
     "output_type": "stream",
     "text": [
      "Average Airbnb Prices based on property types in Melbourne metropolitan area are: \n",
      "-----------------------------------------------------------------------------------\n",
      "Average Price/Day/Person for a Apartment in Metropolitan Melbourne is $44.0\n",
      "Average Price/Day/Person for a Townhouse in Metropolitan Melbourne is $45.0\n",
      "Average Price/Day/Person for a House in Metropolitan Melbourne is $48.0\n",
      "Average Price/Day/Person for a Loft in Metropolitan Melbourne is $52.0\n",
      "Average Price/Day/Person for a Serviced apartment in Metropolitan Melbourne is $59.0\n"
     ]
    }
   ],
   "source": [
    "# Print Output Data.\n",
    "print(\"Average Airbnb Prices based on property types in Melbourne metropolitan area are: \")\n",
    "print(\"-----------------------------------------------------------------------------------\")\n",
    "for i in range(0,5):\n",
    "    property_type=property_type_DF.iloc[i,0]\n",
    "    price = round(property_type_DF.iloc[i,1],0)\n",
    "    print(f\"Average Price/Day/Person for a {property_type} in Metropolitan Melbourne is ${price}\")"
   ]
  },
  {
   "cell_type": "markdown",
   "metadata": {},
   "source": [
    "##  Suburb Analysis. "
   ]
  },
  {
   "cell_type": "code",
   "execution_count": 20,
   "metadata": {},
   "outputs": [
    {
     "data": {
      "text/plain": [
       "<class 'str'>    8924\n",
       "Name: Suburbs, dtype: int64"
      ]
     },
     "execution_count": 20,
     "metadata": {},
     "output_type": "execute_result"
    }
   ],
   "source": [
    "# Check if entire row is the same datatype.\n",
    "price_data_cleaned2['Suburbs'].apply(type).value_counts()"
   ]
  },
  {
   "cell_type": "code",
   "execution_count": 21,
   "metadata": {},
   "outputs": [
    {
     "name": "stdout",
     "output_type": "stream",
     "text": [
      "['St Kilda' 'Richmond' 'Melbourne' 'Fitzroy' 'Thornbury' 'Clifton Hill'\n",
      " 'St Kilda East' 'Yarraville' 'Elwood' 'Middle Park' 'North Melbourne'\n",
      " 'Caulfield North' 'Collingwood' 'Southbank' 'South Yarra' 'Windsor'\n",
      " 'Abbotsford' 'East Melbourne' 'Balaclava' 'Brunswick' 'Elsternwick'\n",
      " 'Flemington' 'Hawthorn East' 'South Melbourne' 'Port Melbourne'\n",
      " 'Brighton' 'Caulfield South' 'St Kilda West' 'Brunswick East' 'Carlton'\n",
      " 'Northcote' 'Fitzroy North' 'Kew' 'Toorak' 'Glen Iris' 'Prahran' 'Coburg'\n",
      " 'Parkville' 'Docklands' 'Cremorne' 'Heidelberg' 'Maribyrnong' 'Footscray'\n",
      " 'Brunswick West' 'Malvern East' 'West Melbourne' 'Kensington'\n",
      " 'Albert Park' 'Camberwell' 'Hawthorn' 'Preston' 'Williamstown'\n",
      " 'Ascot Vale' 'Armadale' 'Carlton North']\n",
      "55\n"
     ]
    }
   ],
   "source": [
    "suburb_names = price_data_cleaned2['Suburbs'].unique()\n",
    "print(suburb_names)\n",
    "print(len(suburb_names))"
   ]
  },
  {
   "cell_type": "code",
   "execution_count": 22,
   "metadata": {},
   "outputs": [
    {
     "name": "stdout",
     "output_type": "stream",
     "text": [
      "Apartment             7225\n",
      "House                  974\n",
      "Townhouse              324\n",
      "Serviced apartment     279\n",
      "Loft                   122\n",
      "Name: property_type, dtype: int64\n"
     ]
    }
   ],
   "source": [
    "# Get all unique property types.\n",
    "unique_property = price_data_cleaned2['property_type'].value_counts()\n",
    "print(unique_property)"
   ]
  },
  {
   "cell_type": "code",
   "execution_count": 23,
   "metadata": {},
   "outputs": [
    {
     "data": {
      "text/html": [
       "<div>\n",
       "<style scoped>\n",
       "    .dataframe tbody tr th:only-of-type {\n",
       "        vertical-align: middle;\n",
       "    }\n",
       "\n",
       "    .dataframe tbody tr th {\n",
       "        vertical-align: top;\n",
       "    }\n",
       "\n",
       "    .dataframe thead th {\n",
       "        text-align: right;\n",
       "    }\n",
       "</style>\n",
       "<table border=\"1\" class=\"dataframe\">\n",
       "  <thead>\n",
       "    <tr style=\"text-align: right;\">\n",
       "      <th></th>\n",
       "      <th>Suburbs</th>\n",
       "      <th>property_type</th>\n",
       "      <th>accommodates</th>\n",
       "      <th>Price/Day($)</th>\n",
       "      <th>Price/Day/Person($)</th>\n",
       "    </tr>\n",
       "  </thead>\n",
       "  <tbody>\n",
       "    <tr>\n",
       "      <th>0</th>\n",
       "      <td>St Kilda</td>\n",
       "      <td>Apartment</td>\n",
       "      <td>3</td>\n",
       "      <td>159</td>\n",
       "      <td>53.00</td>\n",
       "    </tr>\n",
       "    <tr>\n",
       "      <th>1</th>\n",
       "      <td>Richmond</td>\n",
       "      <td>Apartment</td>\n",
       "      <td>2</td>\n",
       "      <td>98</td>\n",
       "      <td>49.00</td>\n",
       "    </tr>\n",
       "    <tr>\n",
       "      <th>2</th>\n",
       "      <td>St Kilda</td>\n",
       "      <td>Apartment</td>\n",
       "      <td>4</td>\n",
       "      <td>190</td>\n",
       "      <td>47.50</td>\n",
       "    </tr>\n",
       "    <tr>\n",
       "      <th>4</th>\n",
       "      <td>Richmond</td>\n",
       "      <td>Apartment</td>\n",
       "      <td>4</td>\n",
       "      <td>138</td>\n",
       "      <td>34.50</td>\n",
       "    </tr>\n",
       "    <tr>\n",
       "      <th>7</th>\n",
       "      <td>Clifton Hill</td>\n",
       "      <td>Apartment</td>\n",
       "      <td>4</td>\n",
       "      <td>180</td>\n",
       "      <td>45.00</td>\n",
       "    </tr>\n",
       "    <tr>\n",
       "      <th>...</th>\n",
       "      <td>...</td>\n",
       "      <td>...</td>\n",
       "      <td>...</td>\n",
       "      <td>...</td>\n",
       "      <td>...</td>\n",
       "    </tr>\n",
       "    <tr>\n",
       "      <th>8920</th>\n",
       "      <td>Melbourne</td>\n",
       "      <td>Apartment</td>\n",
       "      <td>2</td>\n",
       "      <td>134</td>\n",
       "      <td>67.00</td>\n",
       "    </tr>\n",
       "    <tr>\n",
       "      <th>8921</th>\n",
       "      <td>Melbourne</td>\n",
       "      <td>Apartment</td>\n",
       "      <td>3</td>\n",
       "      <td>112</td>\n",
       "      <td>37.33</td>\n",
       "    </tr>\n",
       "    <tr>\n",
       "      <th>8922</th>\n",
       "      <td>Melbourne</td>\n",
       "      <td>Apartment</td>\n",
       "      <td>5</td>\n",
       "      <td>156</td>\n",
       "      <td>31.20</td>\n",
       "    </tr>\n",
       "    <tr>\n",
       "      <th>8924</th>\n",
       "      <td>Port Melbourne</td>\n",
       "      <td>Apartment</td>\n",
       "      <td>4</td>\n",
       "      <td>140</td>\n",
       "      <td>35.00</td>\n",
       "    </tr>\n",
       "    <tr>\n",
       "      <th>8925</th>\n",
       "      <td>Preston</td>\n",
       "      <td>Apartment</td>\n",
       "      <td>2</td>\n",
       "      <td>71</td>\n",
       "      <td>35.50</td>\n",
       "    </tr>\n",
       "  </tbody>\n",
       "</table>\n",
       "<p>7225 rows × 5 columns</p>\n",
       "</div>"
      ],
      "text/plain": [
       "             Suburbs property_type  accommodates  Price/Day($)  \\\n",
       "0           St Kilda     Apartment             3           159   \n",
       "1           Richmond     Apartment             2            98   \n",
       "2           St Kilda     Apartment             4           190   \n",
       "4           Richmond     Apartment             4           138   \n",
       "7       Clifton Hill     Apartment             4           180   \n",
       "...              ...           ...           ...           ...   \n",
       "8920       Melbourne     Apartment             2           134   \n",
       "8921       Melbourne     Apartment             3           112   \n",
       "8922       Melbourne     Apartment             5           156   \n",
       "8924  Port Melbourne     Apartment             4           140   \n",
       "8925         Preston     Apartment             2            71   \n",
       "\n",
       "      Price/Day/Person($)  \n",
       "0                   53.00  \n",
       "1                   49.00  \n",
       "2                   47.50  \n",
       "4                   34.50  \n",
       "7                   45.00  \n",
       "...                   ...  \n",
       "8920                67.00  \n",
       "8921                37.33  \n",
       "8922                31.20  \n",
       "8924                35.00  \n",
       "8925                35.50  \n",
       "\n",
       "[7225 rows x 5 columns]"
      ]
     },
     "execution_count": 23,
     "metadata": {},
     "output_type": "execute_result"
    }
   ],
   "source": [
    "# Getting data for entire apartments only.\n",
    "only_apartment = price_data_cleaned2.loc[(price_data_cleaned2[\"property_type\"]==\"Apartment\"),:]\n",
    "only_apartment"
   ]
  },
  {
   "cell_type": "code",
   "execution_count": 24,
   "metadata": {},
   "outputs": [
    {
     "data": {
      "text/html": [
       "<div>\n",
       "<style scoped>\n",
       "    .dataframe tbody tr th:only-of-type {\n",
       "        vertical-align: middle;\n",
       "    }\n",
       "\n",
       "    .dataframe tbody tr th {\n",
       "        vertical-align: top;\n",
       "    }\n",
       "\n",
       "    .dataframe thead th {\n",
       "        text-align: right;\n",
       "    }\n",
       "</style>\n",
       "<table border=\"1\" class=\"dataframe\">\n",
       "  <thead>\n",
       "    <tr style=\"text-align: right;\">\n",
       "      <th></th>\n",
       "      <th>Suburbs</th>\n",
       "      <th>property_type</th>\n",
       "      <th>accommodates</th>\n",
       "      <th>Price/Day($)</th>\n",
       "      <th>Price/Day/Person($)</th>\n",
       "    </tr>\n",
       "  </thead>\n",
       "  <tbody>\n",
       "    <tr>\n",
       "      <th>36</th>\n",
       "      <td>Southbank</td>\n",
       "      <td>Serviced apartment</td>\n",
       "      <td>7</td>\n",
       "      <td>357</td>\n",
       "      <td>51.00</td>\n",
       "    </tr>\n",
       "    <tr>\n",
       "      <th>74</th>\n",
       "      <td>Southbank</td>\n",
       "      <td>Serviced apartment</td>\n",
       "      <td>5</td>\n",
       "      <td>230</td>\n",
       "      <td>46.00</td>\n",
       "    </tr>\n",
       "    <tr>\n",
       "      <th>509</th>\n",
       "      <td>St Kilda</td>\n",
       "      <td>Serviced apartment</td>\n",
       "      <td>6</td>\n",
       "      <td>120</td>\n",
       "      <td>20.00</td>\n",
       "    </tr>\n",
       "    <tr>\n",
       "      <th>566</th>\n",
       "      <td>East Melbourne</td>\n",
       "      <td>Serviced apartment</td>\n",
       "      <td>3</td>\n",
       "      <td>145</td>\n",
       "      <td>48.33</td>\n",
       "    </tr>\n",
       "    <tr>\n",
       "      <th>572</th>\n",
       "      <td>Melbourne</td>\n",
       "      <td>Serviced apartment</td>\n",
       "      <td>2</td>\n",
       "      <td>165</td>\n",
       "      <td>82.50</td>\n",
       "    </tr>\n",
       "    <tr>\n",
       "      <th>...</th>\n",
       "      <td>...</td>\n",
       "      <td>...</td>\n",
       "      <td>...</td>\n",
       "      <td>...</td>\n",
       "      <td>...</td>\n",
       "    </tr>\n",
       "    <tr>\n",
       "      <th>8733</th>\n",
       "      <td>Docklands</td>\n",
       "      <td>Serviced apartment</td>\n",
       "      <td>4</td>\n",
       "      <td>300</td>\n",
       "      <td>75.00</td>\n",
       "    </tr>\n",
       "    <tr>\n",
       "      <th>8776</th>\n",
       "      <td>South Melbourne</td>\n",
       "      <td>Serviced apartment</td>\n",
       "      <td>8</td>\n",
       "      <td>498</td>\n",
       "      <td>62.25</td>\n",
       "    </tr>\n",
       "    <tr>\n",
       "      <th>8824</th>\n",
       "      <td>Carlton</td>\n",
       "      <td>Serviced apartment</td>\n",
       "      <td>2</td>\n",
       "      <td>100</td>\n",
       "      <td>50.00</td>\n",
       "    </tr>\n",
       "    <tr>\n",
       "      <th>8878</th>\n",
       "      <td>Docklands</td>\n",
       "      <td>Serviced apartment</td>\n",
       "      <td>4</td>\n",
       "      <td>166</td>\n",
       "      <td>41.50</td>\n",
       "    </tr>\n",
       "    <tr>\n",
       "      <th>8919</th>\n",
       "      <td>Southbank</td>\n",
       "      <td>Serviced apartment</td>\n",
       "      <td>12</td>\n",
       "      <td>174</td>\n",
       "      <td>14.50</td>\n",
       "    </tr>\n",
       "  </tbody>\n",
       "</table>\n",
       "<p>279 rows × 5 columns</p>\n",
       "</div>"
      ],
      "text/plain": [
       "              Suburbs       property_type  accommodates  Price/Day($)  \\\n",
       "36          Southbank  Serviced apartment             7           357   \n",
       "74          Southbank  Serviced apartment             5           230   \n",
       "509          St Kilda  Serviced apartment             6           120   \n",
       "566    East Melbourne  Serviced apartment             3           145   \n",
       "572         Melbourne  Serviced apartment             2           165   \n",
       "...               ...                 ...           ...           ...   \n",
       "8733        Docklands  Serviced apartment             4           300   \n",
       "8776  South Melbourne  Serviced apartment             8           498   \n",
       "8824          Carlton  Serviced apartment             2           100   \n",
       "8878        Docklands  Serviced apartment             4           166   \n",
       "8919        Southbank  Serviced apartment            12           174   \n",
       "\n",
       "      Price/Day/Person($)  \n",
       "36                  51.00  \n",
       "74                  46.00  \n",
       "509                 20.00  \n",
       "566                 48.33  \n",
       "572                 82.50  \n",
       "...                   ...  \n",
       "8733                75.00  \n",
       "8776                62.25  \n",
       "8824                50.00  \n",
       "8878                41.50  \n",
       "8919                14.50  \n",
       "\n",
       "[279 rows x 5 columns]"
      ]
     },
     "execution_count": 24,
     "metadata": {},
     "output_type": "execute_result"
    }
   ],
   "source": [
    "# Getting data for entire townhouses only.\n",
    "only_servapts = price_data_cleaned2.loc[(price_data_cleaned2[\"property_type\"]==\"Serviced apartment\"),:]\n",
    "only_servapts"
   ]
  },
  {
   "cell_type": "markdown",
   "metadata": {},
   "source": [
    "## APARTMENTS ONLY"
   ]
  },
  {
   "cell_type": "markdown",
   "metadata": {},
   "source": [
    "### Analyse price data distribution with Price/Day/Person Column"
   ]
  },
  {
   "cell_type": "code",
   "execution_count": 25,
   "metadata": {},
   "outputs": [
    {
     "data": {
      "text/plain": [
       "NormaltestResult(statistic=88.57659939688824, pvalue=5.832245921556736e-20)"
      ]
     },
     "execution_count": 25,
     "metadata": {},
     "output_type": "execute_result"
    }
   ],
   "source": [
    "# check if price/day data is normally distributed\n",
    "# plt.hist(only_apartment['Price/Day/Person($)'])\n",
    "normal_test = sts.normaltest(only_apartment['Price/Day/Person($)'].sample(70))\n",
    "normal_test"
   ]
  },
  {
   "cell_type": "code",
   "execution_count": 26,
   "metadata": {},
   "outputs": [
    {
     "data": {
      "text/plain": [
       "<matplotlib.axes._subplots.AxesSubplot at 0x1cdab6cd7b8>"
      ]
     },
     "execution_count": 26,
     "metadata": {},
     "output_type": "execute_result"
    },
    {
     "data": {
      "image/png": "[encoded data removed]",
      "text/plain": [
       "<Figure size 432x288 with 1 Axes>"
      ]
     },
     "metadata": {
      "needs_background": "light"
     },
     "output_type": "display_data"
    }
   ],
   "source": [
    "only_apartment.boxplot(column='Price/Day/Person($)', return_type='axes')"
   ]
  },
  {
   "cell_type": "code",
   "execution_count": 27,
   "metadata": {},
   "outputs": [
    {
     "name": "stdout",
     "output_type": "stream",
     "text": [
      "The lower quartile of price/day for entire apartments is: 29.75\n",
      "The upper quartile of price/day for entire apartment is: 51.0\n",
      "The interquartile range of price/day for entire apartment is: 21.25\n",
      "The the median of price/days for entire apartment is: 38.75 \n",
      "Values below -2.125 could be outliers.\n",
      "Values above 82.875 could be outliers.\n"
     ]
    }
   ],
   "source": [
    "prices2=only_apartment['Price/Day/Person($)']\n",
    "quartiles = prices2.quantile([.25,.5,.75])\n",
    "lowerq = quartiles[0.25]\n",
    "upperq = quartiles[0.75]\n",
    "iqr = upperq-lowerq\n",
    "\n",
    "print(f\"The lower quartile of price/day for entire apartments is: {lowerq}\")\n",
    "print(f\"The upper quartile of price/day for entire apartment is: {upperq}\")\n",
    "print(f\"The interquartile range of price/day for entire apartment is: {iqr}\")\n",
    "print(f\"The the median of price/days for entire apartment is: {quartiles[0.5]} \")\n",
    "\n",
    "lower_bound = lowerq - (1.5*iqr)\n",
    "upper_bound = upperq + (1.5*iqr)\n",
    "print(f\"Values below {lower_bound} could be outliers.\")\n",
    "print(f\"Values above {upper_bound} could be outliers.\")"
   ]
  },
  {
   "cell_type": "code",
   "execution_count": 28,
   "metadata": {},
   "outputs": [
    {
     "data": {
      "text/plain": [
       "6878"
      ]
     },
     "execution_count": 28,
     "metadata": {},
     "output_type": "execute_result"
    }
   ],
   "source": [
    "# Remove outliers and check number of data points  \n",
    "outlier_filtered2 = only_apartment.loc[(only_apartment['Price/Day/Person($)'] > lower_bound)\n",
    "                                        &(only_apartment['Price/Day/Person($)'] < upper_bound)]\n",
    "len(outlier_filtered2)"
   ]
  },
  {
   "cell_type": "code",
   "execution_count": 29,
   "metadata": {},
   "outputs": [
    {
     "data": {
      "text/plain": [
       "<matplotlib.axes._subplots.AxesSubplot at 0x1cdab732860>"
      ]
     },
     "execution_count": 29,
     "metadata": {},
     "output_type": "execute_result"
    },
    {
     "data": {
      "image/png": "[encoded data removed]",
      "text/plain": [
       "<Figure size 432x288 with 1 Axes>"
      ]
     },
     "metadata": {
      "needs_background": "light"
     },
     "output_type": "display_data"
    }
   ],
   "source": [
    "# Create box and whisker plot to check if data is rid of ouliers.\n",
    "outlier_filtered2.boxplot(column='Price/Day/Person($)', return_type='axes')"
   ]
  },
  {
   "cell_type": "markdown",
   "metadata": {},
   "source": [
    "### TOP 10 Suburbs (for apartments only)"
   ]
  },
  {
   "cell_type": "code",
   "execution_count": 30,
   "metadata": {},
   "outputs": [
    {
     "data": {
      "text/plain": [
       "Suburbs\n",
       "Williamstown      45.296250\n",
       "Windsor           45.326104\n",
       "South Yarra       45.816029\n",
       "East Melbourne    45.842889\n",
       "Middle Park       45.886000\n",
       "Port Melbourne    46.054103\n",
       "Cremorne          46.427500\n",
       "Prahran           46.573222\n",
       "Albert Park       50.615385\n",
       "Fitzroy           50.746160\n",
       "Name: Price/Day/Person($), dtype: float64"
      ]
     },
     "execution_count": 30,
     "metadata": {},
     "output_type": "execute_result"
    }
   ],
   "source": [
    "# Grouping apartments accomodating small groupsizes of 2-6 based on suburbs, find average price/day and get top 10 suburbs.\n",
    "grouped_top = outlier_filtered2.groupby(\"Suburbs\")['Price/Day/Person($)'].mean().sort_values().tail(10)\n",
    "grouped_top"
   ]
  },
  {
   "cell_type": "code",
   "execution_count": 31,
   "metadata": {},
   "outputs": [],
   "source": [
    "# Checking with median values\n",
    "#grouped_top_median = outlier_filtered2.groupby(\"Suburbs\")['Price/Day/Person($)'].median().sort_values().tail(10)\n",
    "#grouped_top_median"
   ]
  },
  {
   "cell_type": "code",
   "execution_count": 32,
   "metadata": {
    "scrolled": false
   },
   "outputs": [
    {
     "data": {
      "image/png": "[encoded data removed]",
      "text/plain": [
       "<Figure size 720x576 with 1 Axes>"
      ]
     },
     "metadata": {
      "needs_background": "light"
     },
     "output_type": "display_data"
    }
   ],
   "source": [
    "# Plot the top 10 suburbs with highest average per/day prices.\n",
    "bplot=grouped_top.plot(kind=\"barh\",figsize=(10,8),color=\"green\")\n",
    "plt.xlabel(\"Average Price/Day/Person (in $)\")\n",
    "plt.title(\"Top 10 Suburbs for Apartments with Highest Average Price/Day/Person\")\n",
    "for b in bplot.patches:\n",
    "    width = b.get_width()\n",
    "    plt.text(4+b.get_width(), b.get_y()+0.55*b.get_height(),\n",
    "             '{:1.2f}'.format(width),\n",
    "             ha='center', va='center')\n",
    "plt.savefig(\"Presentation Slides/Price_Output/Apt_Top10_Price.png\")"
   ]
  },
  {
   "cell_type": "code",
   "execution_count": 33,
   "metadata": {},
   "outputs": [
    {
     "data": {
      "text/html": [
       "<div>\n",
       "<style scoped>\n",
       "    .dataframe tbody tr th:only-of-type {\n",
       "        vertical-align: middle;\n",
       "    }\n",
       "\n",
       "    .dataframe tbody tr th {\n",
       "        vertical-align: top;\n",
       "    }\n",
       "\n",
       "    .dataframe thead th {\n",
       "        text-align: right;\n",
       "    }\n",
       "</style>\n",
       "<table border=\"1\" class=\"dataframe\">\n",
       "  <thead>\n",
       "    <tr style=\"text-align: right;\">\n",
       "      <th></th>\n",
       "      <th>Suburbs</th>\n",
       "      <th>Price/Day/Person($)</th>\n",
       "    </tr>\n",
       "  </thead>\n",
       "  <tbody>\n",
       "    <tr>\n",
       "      <th>0</th>\n",
       "      <td>Williamstown</td>\n",
       "      <td>45.296250</td>\n",
       "    </tr>\n",
       "    <tr>\n",
       "      <th>1</th>\n",
       "      <td>Windsor</td>\n",
       "      <td>45.326104</td>\n",
       "    </tr>\n",
       "    <tr>\n",
       "      <th>2</th>\n",
       "      <td>South Yarra</td>\n",
       "      <td>45.816029</td>\n",
       "    </tr>\n",
       "    <tr>\n",
       "      <th>3</th>\n",
       "      <td>East Melbourne</td>\n",
       "      <td>45.842889</td>\n",
       "    </tr>\n",
       "    <tr>\n",
       "      <th>4</th>\n",
       "      <td>Middle Park</td>\n",
       "      <td>45.886000</td>\n",
       "    </tr>\n",
       "    <tr>\n",
       "      <th>5</th>\n",
       "      <td>Port Melbourne</td>\n",
       "      <td>46.054103</td>\n",
       "    </tr>\n",
       "    <tr>\n",
       "      <th>6</th>\n",
       "      <td>Cremorne</td>\n",
       "      <td>46.427500</td>\n",
       "    </tr>\n",
       "    <tr>\n",
       "      <th>7</th>\n",
       "      <td>Prahran</td>\n",
       "      <td>46.573222</td>\n",
       "    </tr>\n",
       "    <tr>\n",
       "      <th>8</th>\n",
       "      <td>Albert Park</td>\n",
       "      <td>50.615385</td>\n",
       "    </tr>\n",
       "    <tr>\n",
       "      <th>9</th>\n",
       "      <td>Fitzroy</td>\n",
       "      <td>50.746160</td>\n",
       "    </tr>\n",
       "  </tbody>\n",
       "</table>\n",
       "</div>"
      ],
      "text/plain": [
       "          Suburbs  Price/Day/Person($)\n",
       "0    Williamstown            45.296250\n",
       "1         Windsor            45.326104\n",
       "2     South Yarra            45.816029\n",
       "3  East Melbourne            45.842889\n",
       "4     Middle Park            45.886000\n",
       "5  Port Melbourne            46.054103\n",
       "6        Cremorne            46.427500\n",
       "7         Prahran            46.573222\n",
       "8     Albert Park            50.615385\n",
       "9         Fitzroy            50.746160"
      ]
     },
     "execution_count": 33,
     "metadata": {},
     "output_type": "execute_result"
    }
   ],
   "source": [
    "# convert top10 dataseries to a Dataframe\n",
    "top_apt_DF=pd.DataFrame(grouped_top)\n",
    "top_apt_DF.reset_index(level=0, inplace=True)\n",
    "top_apt_DF"
   ]
  },
  {
   "cell_type": "code",
   "execution_count": 34,
   "metadata": {},
   "outputs": [
    {
     "name": "stdout",
     "output_type": "stream",
     "text": [
      "Top 10 Suburbs with Highest Average Price/Day/Person for Apartments are : \n",
      "-----------------------------------------\n",
      "Williamstown has an average price/day/person of $45.0\n",
      "Windsor has an average price/day/person of $45.0\n",
      "South Yarra has an average price/day/person of $46.0\n",
      "East Melbourne has an average price/day/person of $46.0\n",
      "Middle Park has an average price/day/person of $46.0\n",
      "Port Melbourne has an average price/day/person of $46.0\n",
      "Cremorne has an average price/day/person of $46.0\n",
      "Prahran has an average price/day/person of $47.0\n",
      "Albert Park has an average price/day/person of $51.0\n",
      "Fitzroy has an average price/day/person of $51.0\n"
     ]
    }
   ],
   "source": [
    "## Print Output Data.\n",
    "print(\"Top 10 Suburbs with Highest Average Price/Day/Person for Apartments are : \")\n",
    "print(\"-----------------------------------------\")\n",
    "for i in range(0,10):\n",
    "    suburb_name=top_apt_DF.iloc[i,0]\n",
    "    suburb_price=round(top_apt_DF.iloc[i,1],0)\n",
    "    print(f\"{suburb_name} has an average price/day/person of ${suburb_price}\")"
   ]
  },
  {
   "cell_type": "markdown",
   "metadata": {},
   "source": [
    "## BOTTOM 10 Suburbs (for apartments only)"
   ]
  },
  {
   "cell_type": "code",
   "execution_count": 35,
   "metadata": {},
   "outputs": [
    {
     "data": {
      "text/plain": [
       "Suburbs\n",
       "Coburg             28.046667\n",
       "Ascot Vale         30.252222\n",
       "Kew                31.938824\n",
       "Elsternwick        32.328421\n",
       "Thornbury          33.256774\n",
       "Glen Iris          35.132778\n",
       "Maribyrnong        35.263077\n",
       "Kensington         35.658000\n",
       "Caulfield South    35.862222\n",
       "Brunswick West     35.911667\n",
       "Name: Price/Day/Person($), dtype: float64"
      ]
     },
     "execution_count": 35,
     "metadata": {},
     "output_type": "execute_result"
    }
   ],
   "source": [
    "# Grouping apartments accomodating small groupsizes of 2-6 based on suburbs, find average price/day and get top 10 suburbs.\n",
    "grouped_bottom = outlier_filtered2.groupby(\"Suburbs\")['Price/Day/Person($)'].mean().sort_values().head(10)\n",
    "grouped_bottom"
   ]
  },
  {
   "cell_type": "code",
   "execution_count": 36,
   "metadata": {},
   "outputs": [
    {
     "data": {
      "image/png": "[encoded data removed]",
      "text/plain": [
       "<Figure size 720x576 with 1 Axes>"
      ]
     },
     "metadata": {
      "needs_background": "light"
     },
     "output_type": "display_data"
    }
   ],
   "source": [
    "# Plot the bottom 10 suburbs with lowest averageper/day prices.\n",
    "bplot2=grouped_bottom.plot(kind=\"barh\",figsize=(10,8),color=\"orange\")\n",
    "plt.xlabel(\"Average Price/Day/Person (in $)\")\n",
    "plt.title(\"Bottom 10 Suburbs for Apartments with Lowest Average Price/Day/Person\")\n",
    "for b in bplot2.patches:\n",
    "    width = b.get_width()\n",
    "    plt.text(1+b.get_width(), b.get_y()+0.55*b.get_height(),\n",
    "             '{:1.2f}'.format(width),\n",
    "             ha='center', va='center')\n",
    "plt.savefig(\"Presentation Slides/Price_Output/Apt_Bottom10_Price.png\")"
   ]
  },
  {
   "cell_type": "code",
   "execution_count": 37,
   "metadata": {},
   "outputs": [
    {
     "data": {
      "text/html": [
       "<div>\n",
       "<style scoped>\n",
       "    .dataframe tbody tr th:only-of-type {\n",
       "        vertical-align: middle;\n",
       "    }\n",
       "\n",
       "    .dataframe tbody tr th {\n",
       "        vertical-align: top;\n",
       "    }\n",
       "\n",
       "    .dataframe thead th {\n",
       "        text-align: right;\n",
       "    }\n",
       "</style>\n",
       "<table border=\"1\" class=\"dataframe\">\n",
       "  <thead>\n",
       "    <tr style=\"text-align: right;\">\n",
       "      <th></th>\n",
       "      <th>Suburbs</th>\n",
       "      <th>Price/Day/Person($)</th>\n",
       "    </tr>\n",
       "  </thead>\n",
       "  <tbody>\n",
       "    <tr>\n",
       "      <th>0</th>\n",
       "      <td>Coburg</td>\n",
       "      <td>28.046667</td>\n",
       "    </tr>\n",
       "    <tr>\n",
       "      <th>1</th>\n",
       "      <td>Ascot Vale</td>\n",
       "      <td>30.252222</td>\n",
       "    </tr>\n",
       "    <tr>\n",
       "      <th>2</th>\n",
       "      <td>Kew</td>\n",
       "      <td>31.938824</td>\n",
       "    </tr>\n",
       "    <tr>\n",
       "      <th>3</th>\n",
       "      <td>Elsternwick</td>\n",
       "      <td>32.328421</td>\n",
       "    </tr>\n",
       "    <tr>\n",
       "      <th>4</th>\n",
       "      <td>Thornbury</td>\n",
       "      <td>33.256774</td>\n",
       "    </tr>\n",
       "    <tr>\n",
       "      <th>5</th>\n",
       "      <td>Glen Iris</td>\n",
       "      <td>35.132778</td>\n",
       "    </tr>\n",
       "    <tr>\n",
       "      <th>6</th>\n",
       "      <td>Maribyrnong</td>\n",
       "      <td>35.263077</td>\n",
       "    </tr>\n",
       "    <tr>\n",
       "      <th>7</th>\n",
       "      <td>Kensington</td>\n",
       "      <td>35.658000</td>\n",
       "    </tr>\n",
       "    <tr>\n",
       "      <th>8</th>\n",
       "      <td>Caulfield South</td>\n",
       "      <td>35.862222</td>\n",
       "    </tr>\n",
       "    <tr>\n",
       "      <th>9</th>\n",
       "      <td>Brunswick West</td>\n",
       "      <td>35.911667</td>\n",
       "    </tr>\n",
       "  </tbody>\n",
       "</table>\n",
       "</div>"
      ],
      "text/plain": [
       "           Suburbs  Price/Day/Person($)\n",
       "0           Coburg            28.046667\n",
       "1       Ascot Vale            30.252222\n",
       "2              Kew            31.938824\n",
       "3      Elsternwick            32.328421\n",
       "4        Thornbury            33.256774\n",
       "5        Glen Iris            35.132778\n",
       "6      Maribyrnong            35.263077\n",
       "7       Kensington            35.658000\n",
       "8  Caulfield South            35.862222\n",
       "9   Brunswick West            35.911667"
      ]
     },
     "execution_count": 37,
     "metadata": {},
     "output_type": "execute_result"
    }
   ],
   "source": [
    "# convert bottom 10 dataseries to a Dataframe\n",
    "bottom_apt_DF=pd.DataFrame(grouped_bottom)\n",
    "bottom_apt_DF.reset_index(level=0, inplace=True)\n",
    "bottom_apt_DF\n"
   ]
  },
  {
   "cell_type": "code",
   "execution_count": 38,
   "metadata": {},
   "outputs": [
    {
     "name": "stdout",
     "output_type": "stream",
     "text": [
      "Top 10 Suburbs with Lowest Average Price/Day/Person for Apartments are : \n",
      "-----------------------------------------\n",
      "Coburg has an average Price/Day/Person of $28.0\n",
      "Ascot Vale has an average Price/Day/Person of $30.0\n",
      "Kew has an average Price/Day/Person of $32.0\n",
      "Elsternwick has an average Price/Day/Person of $32.0\n",
      "Thornbury has an average Price/Day/Person of $33.0\n",
      "Glen Iris has an average Price/Day/Person of $35.0\n",
      "Maribyrnong has an average Price/Day/Person of $35.0\n",
      "Kensington has an average Price/Day/Person of $36.0\n",
      "Caulfield South has an average Price/Day/Person of $36.0\n",
      "Brunswick West has an average Price/Day/Person of $36.0\n"
     ]
    }
   ],
   "source": [
    "# Print Output Data.\n",
    "print(\"Top 10 Suburbs with Lowest Average Price/Day/Person for Apartments are : \")\n",
    "print(\"-----------------------------------------\")\n",
    "for i in range(0,10):\n",
    "    suburb_name=bottom_apt_DF.iloc[i,0]\n",
    "    suburb_price=round(bottom_apt_DF.iloc[i,1],0)\n",
    "    print(f\"{suburb_name} has an average Price/Day/Person of ${suburb_price}\")"
   ]
  },
  {
   "cell_type": "markdown",
   "metadata": {},
   "source": [
    "## SERVICED APARTMENTS ONLY"
   ]
  },
  {
   "cell_type": "markdown",
   "metadata": {},
   "source": [
    "### Analyse price data distribution with Price/Day/Person Column"
   ]
  },
  {
   "cell_type": "code",
   "execution_count": 39,
   "metadata": {},
   "outputs": [
    {
     "data": {
      "text/plain": [
       "279"
      ]
     },
     "execution_count": 39,
     "metadata": {},
     "output_type": "execute_result"
    }
   ],
   "source": [
    "len(only_servapts)"
   ]
  },
  {
   "cell_type": "code",
   "execution_count": 40,
   "metadata": {},
   "outputs": [
    {
     "data": {
      "text/plain": [
       "NormaltestResult(statistic=33.11214064214451, pvalue=6.453421290928729e-08)"
      ]
     },
     "execution_count": 40,
     "metadata": {},
     "output_type": "execute_result"
    },
    {
     "data": {
      "image/png": "[encoded data removed]",
      "text/plain": [
       "<Figure size 432x288 with 1 Axes>"
      ]
     },
     "metadata": {
      "needs_background": "light"
     },
     "output_type": "display_data"
    }
   ],
   "source": [
    "# check if price/day data is normally distributed\n",
    "plt.hist(price_data_renamed['Price/Day($)'])\n",
    "normal_test = sts.normaltest(only_servapts['Price/Day/Person($)'].sample(70))\n",
    "normal_test"
   ]
  },
  {
   "cell_type": "code",
   "execution_count": 41,
   "metadata": {},
   "outputs": [
    {
     "data": {
      "text/plain": [
       "<matplotlib.axes._subplots.AxesSubplot at 0x1cdaab785f8>"
      ]
     },
     "execution_count": 41,
     "metadata": {},
     "output_type": "execute_result"
    },
    {
     "data": {
      "image/png": "[encoded data removed]",
      "text/plain": [
       "<Figure size 432x288 with 1 Axes>"
      ]
     },
     "metadata": {
      "needs_background": "light"
     },
     "output_type": "display_data"
    }
   ],
   "source": [
    "only_servapts.boxplot(column='Price/Day/Person($)', return_type='axes')"
   ]
  },
  {
   "cell_type": "code",
   "execution_count": 42,
   "metadata": {},
   "outputs": [
    {
     "name": "stdout",
     "output_type": "stream",
     "text": [
      "The lower quartile of price/day for serviced apartments is: 29.5\n",
      "The upper quartile of price/day for serviced apartment is: 68.0\n",
      "The interquartile range of price/day for serviced apartment is: 38.5\n",
      "The the median of price/days for entire serviced is: 46.0 \n",
      "Values below -28.25 could be outliers.\n",
      "Values above 125.75 could be outliers.\n"
     ]
    }
   ],
   "source": [
    "prices2=only_servapts['Price/Day/Person($)']\n",
    "quartiles = prices2.quantile([.25,.5,.75])\n",
    "lowerq = quartiles[0.25]\n",
    "upperq = quartiles[0.75]\n",
    "iqr = upperq-lowerq\n",
    "\n",
    "print(f\"The lower quartile of price/day for serviced apartments is: {lowerq}\")\n",
    "print(f\"The upper quartile of price/day for serviced apartment is: {upperq}\")\n",
    "print(f\"The interquartile range of price/day for serviced apartment is: {iqr}\")\n",
    "print(f\"The the median of price/days for entire serviced is: {quartiles[0.5]} \")\n",
    "\n",
    "lower_bound = lowerq - (1.5*iqr)\n",
    "upper_bound = upperq + (1.5*iqr)\n",
    "print(f\"Values below {lower_bound} could be outliers.\")\n",
    "print(f\"Values above {upper_bound} could be outliers.\")"
   ]
  },
  {
   "cell_type": "code",
   "execution_count": 43,
   "metadata": {},
   "outputs": [
    {
     "data": {
      "text/plain": [
       "256"
      ]
     },
     "execution_count": 43,
     "metadata": {},
     "output_type": "execute_result"
    }
   ],
   "source": [
    "# Remove outliers and check number of data points  \n",
    "outlier_filtered3 = only_servapts.loc[(only_servapts['Price/Day/Person($)'] > lower_bound)\n",
    "                                        &(only_servapts['Price/Day/Person($)'] < upper_bound)]\n",
    "len(outlier_filtered3)"
   ]
  },
  {
   "cell_type": "code",
   "execution_count": 44,
   "metadata": {},
   "outputs": [
    {
     "data": {
      "text/plain": [
       "<matplotlib.axes._subplots.AxesSubplot at 0x1cdaabd4198>"
      ]
     },
     "execution_count": 44,
     "metadata": {},
     "output_type": "execute_result"
    },
    {
     "data": {
      "image/png": "[encoded data removed]",
      "text/plain": [
       "<Figure size 432x288 with 1 Axes>"
      ]
     },
     "metadata": {
      "needs_background": "light"
     },
     "output_type": "display_data"
    }
   ],
   "source": [
    "# Create box and whisker plot to check if data is rid of ouliers.\n",
    "outlier_filtered3.boxplot(column='Price/Day/Person($)', return_type='axes')"
   ]
  },
  {
   "cell_type": "markdown",
   "metadata": {},
   "source": [
    "### TOP 10 Suburbs (for serviced apartments only)"
   ]
  },
  {
   "cell_type": "code",
   "execution_count": 45,
   "metadata": {},
   "outputs": [
    {
     "data": {
      "text/plain": [
       "Suburbs\n",
       "Northcote          50.750000\n",
       "Melbourne          54.341364\n",
       "South Yarra        54.400000\n",
       "Collingwood        56.750000\n",
       "Brighton           57.500000\n",
       "Carlton            57.927500\n",
       "Port Melbourne     91.750000\n",
       "Richmond          115.000000\n",
       "Brunswick East    119.800000\n",
       "Abbotsford        125.000000\n",
       "Name: Price/Day/Person($), dtype: float64"
      ]
     },
     "execution_count": 45,
     "metadata": {},
     "output_type": "execute_result"
    }
   ],
   "source": [
    "# Grouping apartments on suburbs and finding average price/day and get top 10 suburbs.\n",
    "grouped_top = outlier_filtered3.groupby(\"Suburbs\")['Price/Day/Person($)'].mean().sort_values().tail(10)\n",
    "grouped_top"
   ]
  },
  {
   "cell_type": "code",
   "execution_count": 46,
   "metadata": {},
   "outputs": [
    {
     "data": {
      "text/plain": [
       "Suburbs\n",
       "Richmond          44.500\n",
       "Yarraville        44.750\n",
       "East Melbourne    44.875\n",
       "Brunswick East    45.000\n",
       "Fitzroy North     45.000\n",
       "South Yarra       45.000\n",
       "Windsor           45.000\n",
       "Albert Park       47.500\n",
       "Cremorne          47.600\n",
       "Fitzroy           50.000\n",
       "Name: Price/Day/Person($), dtype: float64"
      ]
     },
     "execution_count": 46,
     "metadata": {},
     "output_type": "execute_result"
    }
   ],
   "source": [
    "# Checking with median values\n",
    "grouped_top_median = outlier_filtered2.groupby(\"Suburbs\")['Price/Day/Person($)'].median().sort_values().tail(10)\n",
    "grouped_top_median"
   ]
  },
  {
   "cell_type": "code",
   "execution_count": 47,
   "metadata": {},
   "outputs": [
    {
     "data": {
      "image/png": "[encoded data removed]",
      "text/plain": [
       "<Figure size 720x576 with 1 Axes>"
      ]
     },
     "metadata": {
      "needs_background": "light"
     },
     "output_type": "display_data"
    }
   ],
   "source": [
    "# Plot the top 10 suburbs with highest averageper/day prices.\n",
    "bplot=grouped_top.plot(kind=\"barh\",figsize=(10,8),color=\"green\")\n",
    "plt.xlabel(\"Average Price/Day/Person (in $)\")\n",
    "plt.title(\"Top 10 Suburbs with Highest Average Price/Day/Person for Service Apartments\")\n",
    "for b in bplot.patches:\n",
    "    width = b.get_width()\n",
    "    plt.text(4+b.get_width(), b.get_y()+0.55*b.get_height(),\n",
    "             '{:1.2f}'.format(width),\n",
    "             ha='center', va='center')\n",
    "plt.savefig(\"Presentation Slides/Price_Output/ServApt_Top10_Price.png\")"
   ]
  },
  {
   "cell_type": "code",
   "execution_count": 48,
   "metadata": {},
   "outputs": [
    {
     "data": {
      "text/html": [
       "<div>\n",
       "<style scoped>\n",
       "    .dataframe tbody tr th:only-of-type {\n",
       "        vertical-align: middle;\n",
       "    }\n",
       "\n",
       "    .dataframe tbody tr th {\n",
       "        vertical-align: top;\n",
       "    }\n",
       "\n",
       "    .dataframe thead th {\n",
       "        text-align: right;\n",
       "    }\n",
       "</style>\n",
       "<table border=\"1\" class=\"dataframe\">\n",
       "  <thead>\n",
       "    <tr style=\"text-align: right;\">\n",
       "      <th></th>\n",
       "      <th>Suburbs</th>\n",
       "      <th>Price/Day/Person($)</th>\n",
       "    </tr>\n",
       "  </thead>\n",
       "  <tbody>\n",
       "    <tr>\n",
       "      <th>0</th>\n",
       "      <td>Northcote</td>\n",
       "      <td>50.750000</td>\n",
       "    </tr>\n",
       "    <tr>\n",
       "      <th>1</th>\n",
       "      <td>Melbourne</td>\n",
       "      <td>54.341364</td>\n",
       "    </tr>\n",
       "    <tr>\n",
       "      <th>2</th>\n",
       "      <td>South Yarra</td>\n",
       "      <td>54.400000</td>\n",
       "    </tr>\n",
       "    <tr>\n",
       "      <th>3</th>\n",
       "      <td>Collingwood</td>\n",
       "      <td>56.750000</td>\n",
       "    </tr>\n",
       "    <tr>\n",
       "      <th>4</th>\n",
       "      <td>Brighton</td>\n",
       "      <td>57.500000</td>\n",
       "    </tr>\n",
       "    <tr>\n",
       "      <th>5</th>\n",
       "      <td>Carlton</td>\n",
       "      <td>57.927500</td>\n",
       "    </tr>\n",
       "    <tr>\n",
       "      <th>6</th>\n",
       "      <td>Port Melbourne</td>\n",
       "      <td>91.750000</td>\n",
       "    </tr>\n",
       "    <tr>\n",
       "      <th>7</th>\n",
       "      <td>Richmond</td>\n",
       "      <td>115.000000</td>\n",
       "    </tr>\n",
       "    <tr>\n",
       "      <th>8</th>\n",
       "      <td>Brunswick East</td>\n",
       "      <td>119.800000</td>\n",
       "    </tr>\n",
       "    <tr>\n",
       "      <th>9</th>\n",
       "      <td>Abbotsford</td>\n",
       "      <td>125.000000</td>\n",
       "    </tr>\n",
       "  </tbody>\n",
       "</table>\n",
       "</div>"
      ],
      "text/plain": [
       "          Suburbs  Price/Day/Person($)\n",
       "0       Northcote            50.750000\n",
       "1       Melbourne            54.341364\n",
       "2     South Yarra            54.400000\n",
       "3     Collingwood            56.750000\n",
       "4        Brighton            57.500000\n",
       "5         Carlton            57.927500\n",
       "6  Port Melbourne            91.750000\n",
       "7        Richmond           115.000000\n",
       "8  Brunswick East           119.800000\n",
       "9      Abbotsford           125.000000"
      ]
     },
     "execution_count": 48,
     "metadata": {},
     "output_type": "execute_result"
    }
   ],
   "source": [
    "# convert top10 dataseries to a Dataframe\n",
    "top_servapt_DF=pd.DataFrame(grouped_top)\n",
    "top_servapt_DF.reset_index(level=0, inplace=True)\n",
    "top_servapt_DF"
   ]
  },
  {
   "cell_type": "code",
   "execution_count": 49,
   "metadata": {},
   "outputs": [
    {
     "name": "stdout",
     "output_type": "stream",
     "text": [
      "Top 10 Suburbs with Highest Average Price/Day/Person for serviced Apartments: \n",
      "-----------------------------------------\n",
      "Northcote has an average price/day/person of $51.0\n",
      "Melbourne has an average price/day/person of $54.0\n",
      "South Yarra has an average price/day/person of $54.0\n",
      "Collingwood has an average price/day/person of $57.0\n",
      "Brighton has an average price/day/person of $58.0\n",
      "Carlton has an average price/day/person of $58.0\n",
      "Port Melbourne has an average price/day/person of $92.0\n",
      "Richmond has an average price/day/person of $115.0\n",
      "Brunswick East has an average price/day/person of $120.0\n",
      "Abbotsford has an average price/day/person of $125.0\n"
     ]
    }
   ],
   "source": [
    "# Print Output Data.\n",
    "print(\"Top 10 Suburbs with Highest Average Price/Day/Person for serviced Apartments: \")\n",
    "print(\"-----------------------------------------\")\n",
    "for i in range(0,10):\n",
    "    suburb_name=top_servapt_DF.iloc[i,0]\n",
    "    suburb_price=round(top_servapt_DF.iloc[i,1],0)\n",
    "    print(f\"{suburb_name} has an average price/day/person of ${suburb_price}\")"
   ]
  },
  {
   "cell_type": "markdown",
   "metadata": {},
   "source": [
    "## BOTTOM 10 Suburbs (for serviced apartments only)"
   ]
  },
  {
   "cell_type": "code",
   "execution_count": 50,
   "metadata": {},
   "outputs": [
    {
     "data": {
      "text/plain": [
       "Suburbs\n",
       "Kensington         21.600000\n",
       "North Melbourne    28.195385\n",
       "East Melbourne     31.110000\n",
       "Balaclava          34.000000\n",
       "Docklands          36.256400\n",
       "Caulfield North    38.750000\n",
       "South Melbourne    39.610000\n",
       "West Melbourne     42.191500\n",
       "St Kilda           42.273077\n",
       "Kew                44.000000\n",
       "Name: Price/Day/Person($), dtype: float64"
      ]
     },
     "execution_count": 50,
     "metadata": {},
     "output_type": "execute_result"
    }
   ],
   "source": [
    "# Grouping apartments on suburbs and finding average price/day and get top 10 suburbs.\n",
    "grouped_bottom = outlier_filtered3.groupby(\"Suburbs\")['Price/Day/Person($)'].mean().sort_values().head(10)\n",
    "grouped_bottom"
   ]
  },
  {
   "cell_type": "code",
   "execution_count": 51,
   "metadata": {},
   "outputs": [
    {
     "data": {
      "image/png": "[encoded data removed]",
      "text/plain": [
       "<Figure size 720x576 with 1 Axes>"
      ]
     },
     "metadata": {
      "needs_background": "light"
     },
     "output_type": "display_data"
    }
   ],
   "source": [
    "# Plot the bottom 10 suburbs with lowest averageper/day prices.\n",
    "bplot2=grouped_bottom.plot(kind=\"barh\",figsize=(10,8),color=\"orange\")\n",
    "plt.xlabel(\"Average Price/Day/Person (in $)\")\n",
    "plt.title(\"Bottom 10 Suburbs with Lowest Average Price/Day/Person for Service Apartments\")\n",
    "for b in bplot2.patches:\n",
    "    width = b.get_width()\n",
    "    plt.text(1+b.get_width(), b.get_y()+0.55*b.get_height(),\n",
    "             '{:1.2f}'.format(width),\n",
    "             ha='center', va='center')\n",
    "plt.savefig(\"Presentation Slides/Price_Output/ServApt_Bottom10_Price.png\")"
   ]
  },
  {
   "cell_type": "code",
   "execution_count": 52,
   "metadata": {},
   "outputs": [
    {
     "data": {
      "text/html": [
       "<div>\n",
       "<style scoped>\n",
       "    .dataframe tbody tr th:only-of-type {\n",
       "        vertical-align: middle;\n",
       "    }\n",
       "\n",
       "    .dataframe tbody tr th {\n",
       "        vertical-align: top;\n",
       "    }\n",
       "\n",
       "    .dataframe thead th {\n",
       "        text-align: right;\n",
       "    }\n",
       "</style>\n",
       "<table border=\"1\" class=\"dataframe\">\n",
       "  <thead>\n",
       "    <tr style=\"text-align: right;\">\n",
       "      <th></th>\n",
       "      <th>Suburbs</th>\n",
       "      <th>Price/Day/Person($)</th>\n",
       "    </tr>\n",
       "  </thead>\n",
       "  <tbody>\n",
       "    <tr>\n",
       "      <th>0</th>\n",
       "      <td>Kensington</td>\n",
       "      <td>21.600000</td>\n",
       "    </tr>\n",
       "    <tr>\n",
       "      <th>1</th>\n",
       "      <td>North Melbourne</td>\n",
       "      <td>28.195385</td>\n",
       "    </tr>\n",
       "    <tr>\n",
       "      <th>2</th>\n",
       "      <td>East Melbourne</td>\n",
       "      <td>31.110000</td>\n",
       "    </tr>\n",
       "    <tr>\n",
       "      <th>3</th>\n",
       "      <td>Balaclava</td>\n",
       "      <td>34.000000</td>\n",
       "    </tr>\n",
       "    <tr>\n",
       "      <th>4</th>\n",
       "      <td>Docklands</td>\n",
       "      <td>36.256400</td>\n",
       "    </tr>\n",
       "    <tr>\n",
       "      <th>5</th>\n",
       "      <td>Caulfield North</td>\n",
       "      <td>38.750000</td>\n",
       "    </tr>\n",
       "    <tr>\n",
       "      <th>6</th>\n",
       "      <td>South Melbourne</td>\n",
       "      <td>39.610000</td>\n",
       "    </tr>\n",
       "    <tr>\n",
       "      <th>7</th>\n",
       "      <td>West Melbourne</td>\n",
       "      <td>42.191500</td>\n",
       "    </tr>\n",
       "    <tr>\n",
       "      <th>8</th>\n",
       "      <td>St Kilda</td>\n",
       "      <td>42.273077</td>\n",
       "    </tr>\n",
       "    <tr>\n",
       "      <th>9</th>\n",
       "      <td>Kew</td>\n",
       "      <td>44.000000</td>\n",
       "    </tr>\n",
       "  </tbody>\n",
       "</table>\n",
       "</div>"
      ],
      "text/plain": [
       "           Suburbs  Price/Day/Person($)\n",
       "0       Kensington            21.600000\n",
       "1  North Melbourne            28.195385\n",
       "2   East Melbourne            31.110000\n",
       "3        Balaclava            34.000000\n",
       "4        Docklands            36.256400\n",
       "5  Caulfield North            38.750000\n",
       "6  South Melbourne            39.610000\n",
       "7   West Melbourne            42.191500\n",
       "8         St Kilda            42.273077\n",
       "9              Kew            44.000000"
      ]
     },
     "execution_count": 52,
     "metadata": {},
     "output_type": "execute_result"
    }
   ],
   "source": [
    "# convert bottom 10 dataseries to a Dataframe\n",
    "bottom_servapt_DF=pd.DataFrame(grouped_bottom)\n",
    "bottom_servapt_DF.reset_index(level=0, inplace=True)\n",
    "bottom_servapt_DF"
   ]
  },
  {
   "cell_type": "code",
   "execution_count": 53,
   "metadata": {},
   "outputs": [
    {
     "name": "stdout",
     "output_type": "stream",
     "text": [
      "Bottom 10 Suburbs with Lowest Average Price/Day/Person for Service Apartments are : \n",
      "-----------------------------------------\n",
      "Kensington has an average Price/Day/Person of $22.0\n",
      "North Melbourne has an average Price/Day/Person of $28.0\n",
      "East Melbourne has an average Price/Day/Person of $31.0\n",
      "Balaclava has an average Price/Day/Person of $34.0\n",
      "Docklands has an average Price/Day/Person of $36.0\n",
      "Caulfield North has an average Price/Day/Person of $39.0\n",
      "South Melbourne has an average Price/Day/Person of $40.0\n",
      "West Melbourne has an average Price/Day/Person of $42.0\n",
      "St Kilda has an average Price/Day/Person of $42.0\n",
      "Kew has an average Price/Day/Person of $44.0\n"
     ]
    }
   ],
   "source": [
    "# Print Output Data.\n",
    "print(\"Bottom 10 Suburbs with Lowest Average Price/Day/Person for Service Apartments are : \")\n",
    "print(\"-----------------------------------------\")\n",
    "for i in range(0,10):\n",
    "    suburb_name=bottom_servapt_DF.iloc[i,0]\n",
    "    suburb_price=round(bottom_servapt_DF.iloc[i,1],0)\n",
    "    print(f\"{suburb_name} has an average Price/Day/Person of ${suburb_price}\")"
   ]
  },
  {
   "cell_type": "code",
   "execution_count": null,
   "metadata": {},
   "outputs": [],
   "source": []
  }
 ],
 "metadata": {
  "kernelspec": {
   "display_name": "Python [conda env:PythonData] *",
   "language": "python",
   "name": "conda-env-PythonData-py"
  },
  "language_info": {
   "codemirror_mode": {
    "name": "ipython",
    "version": 3
   },
   "file_extension": ".py",
   "mimetype": "text/x-python",
   "name": "python",
   "nbconvert_exporter": "python",
   "pygments_lexer": "ipython3",
   "version": "3.6.10"
  }
 },
 "nbformat": 4,
 "nbformat_minor": 4
}
