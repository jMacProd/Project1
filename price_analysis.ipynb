{
 "cells": [
  {
   "cell_type": "code",
   "execution_count": 1,
   "metadata": {},
   "outputs": [],
   "source": [
    "import matplotlib.pyplot as plt\n",
    "import pandas as pd\n",
    "import scipy.stats as sts\n",
    "import numpy as np\n",
    "from scipy.stats import linregress\n"
   ]
  },
  {
   "cell_type": "code",
   "execution_count": 2,
   "metadata": {
    "scrolled": true
   },
   "outputs": [
    {
     "data": {
      "text/html": [
       "<div>\n",
       "<style scoped>\n",
       "    .dataframe tbody tr th:only-of-type {\n",
       "        vertical-align: middle;\n",
       "    }\n",
       "\n",
       "    .dataframe tbody tr th {\n",
       "        vertical-align: top;\n",
       "    }\n",
       "\n",
       "    .dataframe thead th {\n",
       "        text-align: right;\n",
       "    }\n",
       "</style>\n",
       "<table border=\"1\" class=\"dataframe\">\n",
       "  <thead>\n",
       "    <tr style=\"text-align: right;\">\n",
       "      <th></th>\n",
       "      <th>id</th>\n",
       "      <th>host_id</th>\n",
       "      <th>host_name</th>\n",
       "      <th>host_is_superhost</th>\n",
       "      <th>host_total_listings_count</th>\n",
       "      <th>street</th>\n",
       "      <th>neighbourhood_cleansed</th>\n",
       "      <th>city</th>\n",
       "      <th>state</th>\n",
       "      <th>zipcode</th>\n",
       "      <th>...</th>\n",
       "      <th>number_of_reviews</th>\n",
       "      <th>review_scores_rating</th>\n",
       "      <th>review_scores_accuracy</th>\n",
       "      <th>review_scores_cleanliness</th>\n",
       "      <th>review_scores_checkin</th>\n",
       "      <th>review_scores_communication</th>\n",
       "      <th>review_scores_location</th>\n",
       "      <th>review_scores_value</th>\n",
       "      <th>reviews_per_month</th>\n",
       "      <th>distance_from_cbd</th>\n",
       "    </tr>\n",
       "  </thead>\n",
       "  <tbody>\n",
       "    <tr>\n",
       "      <th>0</th>\n",
       "      <td>12936</td>\n",
       "      <td>50121</td>\n",
       "      <td>Frank &amp; Vince</td>\n",
       "      <td>t</td>\n",
       "      <td>17</td>\n",
       "      <td>St Kilda, VIC, Australia</td>\n",
       "      <td>Port Phillip</td>\n",
       "      <td>St Kilda</td>\n",
       "      <td>Vic</td>\n",
       "      <td>3182</td>\n",
       "      <td>...</td>\n",
       "      <td>15</td>\n",
       "      <td>94</td>\n",
       "      <td>9</td>\n",
       "      <td>10</td>\n",
       "      <td>94</td>\n",
       "      <td>9</td>\n",
       "      <td>9</td>\n",
       "      <td>9</td>\n",
       "      <td>0.15</td>\n",
       "      <td>5.205174</td>\n",
       "    </tr>\n",
       "    <tr>\n",
       "      <th>1</th>\n",
       "      <td>47100</td>\n",
       "      <td>212071</td>\n",
       "      <td>Loren</td>\n",
       "      <td>t</td>\n",
       "      <td>4</td>\n",
       "      <td>Richmond, VIC, Australia</td>\n",
       "      <td>Yarra</td>\n",
       "      <td>Richmond</td>\n",
       "      <td>Vic</td>\n",
       "      <td>3121</td>\n",
       "      <td>...</td>\n",
       "      <td>176</td>\n",
       "      <td>98</td>\n",
       "      <td>10</td>\n",
       "      <td>10</td>\n",
       "      <td>98</td>\n",
       "      <td>10</td>\n",
       "      <td>10</td>\n",
       "      <td>10</td>\n",
       "      <td>1.75</td>\n",
       "      <td>3.649571</td>\n",
       "    </tr>\n",
       "    <tr>\n",
       "      <th>2</th>\n",
       "      <td>50492</td>\n",
       "      <td>50121</td>\n",
       "      <td>Frank &amp; Vince</td>\n",
       "      <td>t</td>\n",
       "      <td>17</td>\n",
       "      <td>St Kilda, VIC, Australia</td>\n",
       "      <td>Port Phillip</td>\n",
       "      <td>St Kilda</td>\n",
       "      <td>Vic</td>\n",
       "      <td>3182</td>\n",
       "      <td>...</td>\n",
       "      <td>44</td>\n",
       "      <td>97</td>\n",
       "      <td>10</td>\n",
       "      <td>10</td>\n",
       "      <td>97</td>\n",
       "      <td>10</td>\n",
       "      <td>9</td>\n",
       "      <td>10</td>\n",
       "      <td>0.60</td>\n",
       "      <td>5.437003</td>\n",
       "    </tr>\n",
       "    <tr>\n",
       "      <th>3</th>\n",
       "      <td>51592</td>\n",
       "      <td>190879</td>\n",
       "      <td>Michelle</td>\n",
       "      <td>t</td>\n",
       "      <td>1</td>\n",
       "      <td>Melbourne, VIC, Australia</td>\n",
       "      <td>Melbourne</td>\n",
       "      <td>Melbourne</td>\n",
       "      <td>Vic</td>\n",
       "      <td>3000</td>\n",
       "      <td>...</td>\n",
       "      <td>196</td>\n",
       "      <td>99</td>\n",
       "      <td>10</td>\n",
       "      <td>9</td>\n",
       "      <td>99</td>\n",
       "      <td>10</td>\n",
       "      <td>10</td>\n",
       "      <td>10</td>\n",
       "      <td>2.07</td>\n",
       "      <td>0.072335</td>\n",
       "    </tr>\n",
       "    <tr>\n",
       "      <th>4</th>\n",
       "      <td>66754</td>\n",
       "      <td>50121</td>\n",
       "      <td>Frank &amp; Vince</td>\n",
       "      <td>t</td>\n",
       "      <td>17</td>\n",
       "      <td>Richmond, VIC, Australia</td>\n",
       "      <td>Yarra</td>\n",
       "      <td>Richmond</td>\n",
       "      <td>Vic</td>\n",
       "      <td>3121</td>\n",
       "      <td>...</td>\n",
       "      <td>43</td>\n",
       "      <td>95</td>\n",
       "      <td>9</td>\n",
       "      <td>10</td>\n",
       "      <td>95</td>\n",
       "      <td>10</td>\n",
       "      <td>10</td>\n",
       "      <td>9</td>\n",
       "      <td>0.46</td>\n",
       "      <td>2.794548</td>\n",
       "    </tr>\n",
       "    <tr>\n",
       "      <th>...</th>\n",
       "      <td>...</td>\n",
       "      <td>...</td>\n",
       "      <td>...</td>\n",
       "      <td>...</td>\n",
       "      <td>...</td>\n",
       "      <td>...</td>\n",
       "      <td>...</td>\n",
       "      <td>...</td>\n",
       "      <td>...</td>\n",
       "      <td>...</td>\n",
       "      <td>...</td>\n",
       "      <td>...</td>\n",
       "      <td>...</td>\n",
       "      <td>...</td>\n",
       "      <td>...</td>\n",
       "      <td>...</td>\n",
       "      <td>...</td>\n",
       "      <td>...</td>\n",
       "      <td>...</td>\n",
       "      <td>...</td>\n",
       "      <td>...</td>\n",
       "    </tr>\n",
       "    <tr>\n",
       "      <th>9303</th>\n",
       "      <td>30410904</td>\n",
       "      <td>127327853</td>\n",
       "      <td>Nathan</td>\n",
       "      <td>f</td>\n",
       "      <td>1</td>\n",
       "      <td>Melbourne, VIC, Australia</td>\n",
       "      <td>Melbourne</td>\n",
       "      <td>Melbourne</td>\n",
       "      <td>Vic</td>\n",
       "      <td>3000</td>\n",
       "      <td>...</td>\n",
       "      <td>2</td>\n",
       "      <td>100</td>\n",
       "      <td>10</td>\n",
       "      <td>10</td>\n",
       "      <td>100</td>\n",
       "      <td>10</td>\n",
       "      <td>10</td>\n",
       "      <td>10</td>\n",
       "      <td>2.00</td>\n",
       "      <td>0.700146</td>\n",
       "    </tr>\n",
       "    <tr>\n",
       "      <th>9304</th>\n",
       "      <td>30468406</td>\n",
       "      <td>30322920</td>\n",
       "      <td>Robyn</td>\n",
       "      <td>f</td>\n",
       "      <td>1</td>\n",
       "      <td>Brunswick West, VIC, Australia</td>\n",
       "      <td>Moreland</td>\n",
       "      <td>Brunswick West</td>\n",
       "      <td>Vic</td>\n",
       "      <td>3055</td>\n",
       "      <td>...</td>\n",
       "      <td>1</td>\n",
       "      <td>0</td>\n",
       "      <td>0</td>\n",
       "      <td>0</td>\n",
       "      <td>0</td>\n",
       "      <td>0</td>\n",
       "      <td>0</td>\n",
       "      <td>0</td>\n",
       "      <td>1.00</td>\n",
       "      <td>5.893982</td>\n",
       "    </tr>\n",
       "    <tr>\n",
       "      <th>9305</th>\n",
       "      <td>30470482</td>\n",
       "      <td>36410227</td>\n",
       "      <td>Sabrina</td>\n",
       "      <td>f</td>\n",
       "      <td>276</td>\n",
       "      <td>Port Melbourne, Australia</td>\n",
       "      <td>Port Phillip</td>\n",
       "      <td>Port Melbourne</td>\n",
       "      <td>Vic</td>\n",
       "      <td>3207</td>\n",
       "      <td>...</td>\n",
       "      <td>1</td>\n",
       "      <td>0</td>\n",
       "      <td>0</td>\n",
       "      <td>0</td>\n",
       "      <td>0</td>\n",
       "      <td>0</td>\n",
       "      <td>0</td>\n",
       "      <td>0</td>\n",
       "      <td>1.00</td>\n",
       "      <td>3.780995</td>\n",
       "    </tr>\n",
       "    <tr>\n",
       "      <th>9306</th>\n",
       "      <td>30483362</td>\n",
       "      <td>154023219</td>\n",
       "      <td>Aishah</td>\n",
       "      <td>f</td>\n",
       "      <td>1</td>\n",
       "      <td>Preston, VIC, Australia</td>\n",
       "      <td>Darebin</td>\n",
       "      <td>Preston</td>\n",
       "      <td>Vic</td>\n",
       "      <td>3072</td>\n",
       "      <td>...</td>\n",
       "      <td>1</td>\n",
       "      <td>0</td>\n",
       "      <td>0</td>\n",
       "      <td>0</td>\n",
       "      <td>0</td>\n",
       "      <td>0</td>\n",
       "      <td>0</td>\n",
       "      <td>0</td>\n",
       "      <td>1.00</td>\n",
       "      <td>8.746854</td>\n",
       "    </tr>\n",
       "    <tr>\n",
       "      <th>9307</th>\n",
       "      <td>30490522</td>\n",
       "      <td>12676584</td>\n",
       "      <td>Eli</td>\n",
       "      <td>f</td>\n",
       "      <td>1</td>\n",
       "      <td>Richmond, VIC, Australia</td>\n",
       "      <td>Yarra</td>\n",
       "      <td>Richmond</td>\n",
       "      <td>Vic</td>\n",
       "      <td>3121</td>\n",
       "      <td>...</td>\n",
       "      <td>1</td>\n",
       "      <td>0</td>\n",
       "      <td>0</td>\n",
       "      <td>0</td>\n",
       "      <td>0</td>\n",
       "      <td>0</td>\n",
       "      <td>0</td>\n",
       "      <td>0</td>\n",
       "      <td>1.00</td>\n",
       "      <td>3.648557</td>\n",
       "    </tr>\n",
       "  </tbody>\n",
       "</table>\n",
       "<p>9308 rows × 43 columns</p>\n",
       "</div>"
      ],
      "text/plain": [
       "            id    host_id      host_name host_is_superhost  \\\n",
       "0        12936      50121  Frank & Vince                 t   \n",
       "1        47100     212071          Loren                 t   \n",
       "2        50492      50121  Frank & Vince                 t   \n",
       "3        51592     190879       Michelle                 t   \n",
       "4        66754      50121  Frank & Vince                 t   \n",
       "...        ...        ...            ...               ...   \n",
       "9303  30410904  127327853         Nathan                 f   \n",
       "9304  30468406   30322920          Robyn                 f   \n",
       "9305  30470482   36410227        Sabrina                 f   \n",
       "9306  30483362  154023219         Aishah                 f   \n",
       "9307  30490522   12676584            Eli                 f   \n",
       "\n",
       "      host_total_listings_count                          street  \\\n",
       "0                            17        St Kilda, VIC, Australia   \n",
       "1                             4        Richmond, VIC, Australia   \n",
       "2                            17        St Kilda, VIC, Australia   \n",
       "3                             1       Melbourne, VIC, Australia   \n",
       "4                            17        Richmond, VIC, Australia   \n",
       "...                         ...                             ...   \n",
       "9303                          1       Melbourne, VIC, Australia   \n",
       "9304                          1  Brunswick West, VIC, Australia   \n",
       "9305                        276       Port Melbourne, Australia   \n",
       "9306                          1         Preston, VIC, Australia   \n",
       "9307                          1        Richmond, VIC, Australia   \n",
       "\n",
       "     neighbourhood_cleansed            city state zipcode  ...  \\\n",
       "0              Port Phillip        St Kilda   Vic    3182  ...   \n",
       "1                     Yarra        Richmond   Vic    3121  ...   \n",
       "2              Port Phillip        St Kilda   Vic    3182  ...   \n",
       "3                 Melbourne       Melbourne   Vic    3000  ...   \n",
       "4                     Yarra        Richmond   Vic    3121  ...   \n",
       "...                     ...             ...   ...     ...  ...   \n",
       "9303              Melbourne       Melbourne   Vic    3000  ...   \n",
       "9304               Moreland  Brunswick West   Vic    3055  ...   \n",
       "9305           Port Phillip  Port Melbourne   Vic    3207  ...   \n",
       "9306                Darebin         Preston   Vic    3072  ...   \n",
       "9307                  Yarra        Richmond   Vic    3121  ...   \n",
       "\n",
       "      number_of_reviews  review_scores_rating review_scores_accuracy  \\\n",
       "0                    15                    94                      9   \n",
       "1                   176                    98                     10   \n",
       "2                    44                    97                     10   \n",
       "3                   196                    99                     10   \n",
       "4                    43                    95                      9   \n",
       "...                 ...                   ...                    ...   \n",
       "9303                  2                   100                     10   \n",
       "9304                  1                     0                      0   \n",
       "9305                  1                     0                      0   \n",
       "9306                  1                     0                      0   \n",
       "9307                  1                     0                      0   \n",
       "\n",
       "      review_scores_cleanliness  review_scores_checkin  \\\n",
       "0                            10                     94   \n",
       "1                            10                     98   \n",
       "2                            10                     97   \n",
       "3                             9                     99   \n",
       "4                            10                     95   \n",
       "...                         ...                    ...   \n",
       "9303                         10                    100   \n",
       "9304                          0                      0   \n",
       "9305                          0                      0   \n",
       "9306                          0                      0   \n",
       "9307                          0                      0   \n",
       "\n",
       "      review_scores_communication  review_scores_location review_scores_value  \\\n",
       "0                               9                       9                   9   \n",
       "1                              10                      10                  10   \n",
       "2                              10                       9                  10   \n",
       "3                              10                      10                  10   \n",
       "4                              10                      10                   9   \n",
       "...                           ...                     ...                 ...   \n",
       "9303                           10                      10                  10   \n",
       "9304                            0                       0                   0   \n",
       "9305                            0                       0                   0   \n",
       "9306                            0                       0                   0   \n",
       "9307                            0                       0                   0   \n",
       "\n",
       "     reviews_per_month  distance_from_cbd  \n",
       "0                 0.15           5.205174  \n",
       "1                 1.75           3.649571  \n",
       "2                 0.60           5.437003  \n",
       "3                 2.07           0.072335  \n",
       "4                 0.46           2.794548  \n",
       "...                ...                ...  \n",
       "9303              2.00           0.700146  \n",
       "9304              1.00           5.893982  \n",
       "9305              1.00           3.780995  \n",
       "9306              1.00           8.746854  \n",
       "9307              1.00           3.648557  \n",
       "\n",
       "[9308 rows x 43 columns]"
      ]
     },
     "execution_count": 2,
     "metadata": {},
     "output_type": "execute_result"
    }
   ],
   "source": [
    "# Read raw csv file and view it.\n",
    "listing_data = pd.read_csv(\"clean_data_rs/airbnbFINAL_Swobabika.csv\", low_memory=False, encoding=\"UTF-8\")\n",
    "listing_data"
   ]
  },
  {
   "cell_type": "markdown",
   "metadata": {},
   "source": [
    "### Basic clean up and filtering of relevant Data."
   ]
  },
  {
   "cell_type": "code",
   "execution_count": 3,
   "metadata": {},
   "outputs": [
    {
     "data": {
      "text/plain": [
       "Index(['id', 'host_id', 'host_name', 'host_is_superhost',\n",
       "       'host_total_listings_count', 'street', 'neighbourhood_cleansed', 'city',\n",
       "       'state', 'zipcode', 'latitude', 'longitude', 'property_type',\n",
       "       'accommodates', 'bathrooms', 'bedrooms', 'beds', 'bed_type',\n",
       "       'amenities', 'price', 'weekly_price', 'monthly_price',\n",
       "       'security_deposit', 'cleaning_fee', 'guests_included', 'extra_people',\n",
       "       'minimum_nights', 'maximum_nights', 'has_availability',\n",
       "       'availability_30', 'availability_60', 'availability_90',\n",
       "       'availability_365', 'number_of_reviews', 'review_scores_rating',\n",
       "       'review_scores_accuracy', 'review_scores_cleanliness',\n",
       "       'review_scores_checkin', 'review_scores_communication',\n",
       "       'review_scores_location', 'review_scores_value', 'reviews_per_month',\n",
       "       'distance_from_cbd'],\n",
       "      dtype='object')"
      ]
     },
     "execution_count": 3,
     "metadata": {},
     "output_type": "execute_result"
    }
   ],
   "source": [
    "# Get the column names so that necessary column names can be extracted.\n",
    "listing_data.columns"
   ]
  },
  {
   "cell_type": "code",
   "execution_count": 4,
   "metadata": {},
   "outputs": [
    {
     "data": {
      "text/html": [
       "<div>\n",
       "<style scoped>\n",
       "    .dataframe tbody tr th:only-of-type {\n",
       "        vertical-align: middle;\n",
       "    }\n",
       "\n",
       "    .dataframe tbody tr th {\n",
       "        vertical-align: top;\n",
       "    }\n",
       "\n",
       "    .dataframe thead th {\n",
       "        text-align: right;\n",
       "    }\n",
       "</style>\n",
       "<table border=\"1\" class=\"dataframe\">\n",
       "  <thead>\n",
       "    <tr style=\"text-align: right;\">\n",
       "      <th></th>\n",
       "      <th>city</th>\n",
       "      <th>property_type</th>\n",
       "      <th>accommodates</th>\n",
       "      <th>price</th>\n",
       "    </tr>\n",
       "  </thead>\n",
       "  <tbody>\n",
       "    <tr>\n",
       "      <th>0</th>\n",
       "      <td>St Kilda</td>\n",
       "      <td>Apartment</td>\n",
       "      <td>3</td>\n",
       "      <td>159.0</td>\n",
       "    </tr>\n",
       "    <tr>\n",
       "      <th>1</th>\n",
       "      <td>Richmond</td>\n",
       "      <td>Apartment</td>\n",
       "      <td>2</td>\n",
       "      <td>98.0</td>\n",
       "    </tr>\n",
       "    <tr>\n",
       "      <th>2</th>\n",
       "      <td>St Kilda</td>\n",
       "      <td>Apartment</td>\n",
       "      <td>4</td>\n",
       "      <td>190.0</td>\n",
       "    </tr>\n",
       "    <tr>\n",
       "      <th>3</th>\n",
       "      <td>Melbourne</td>\n",
       "      <td>Loft</td>\n",
       "      <td>4</td>\n",
       "      <td>228.0</td>\n",
       "    </tr>\n",
       "    <tr>\n",
       "      <th>4</th>\n",
       "      <td>Richmond</td>\n",
       "      <td>Apartment</td>\n",
       "      <td>4</td>\n",
       "      <td>138.0</td>\n",
       "    </tr>\n",
       "    <tr>\n",
       "      <th>...</th>\n",
       "      <td>...</td>\n",
       "      <td>...</td>\n",
       "      <td>...</td>\n",
       "      <td>...</td>\n",
       "    </tr>\n",
       "    <tr>\n",
       "      <th>9303</th>\n",
       "      <td>Melbourne</td>\n",
       "      <td>Apartment</td>\n",
       "      <td>5</td>\n",
       "      <td>156.0</td>\n",
       "    </tr>\n",
       "    <tr>\n",
       "      <th>9304</th>\n",
       "      <td>Brunswick West</td>\n",
       "      <td>House</td>\n",
       "      <td>6</td>\n",
       "      <td>199.0</td>\n",
       "    </tr>\n",
       "    <tr>\n",
       "      <th>9305</th>\n",
       "      <td>Port Melbourne</td>\n",
       "      <td>Apartment</td>\n",
       "      <td>4</td>\n",
       "      <td>140.0</td>\n",
       "    </tr>\n",
       "    <tr>\n",
       "      <th>9306</th>\n",
       "      <td>Preston</td>\n",
       "      <td>Apartment</td>\n",
       "      <td>2</td>\n",
       "      <td>71.0</td>\n",
       "    </tr>\n",
       "    <tr>\n",
       "      <th>9307</th>\n",
       "      <td>Richmond</td>\n",
       "      <td>House</td>\n",
       "      <td>4</td>\n",
       "      <td>120.0</td>\n",
       "    </tr>\n",
       "  </tbody>\n",
       "</table>\n",
       "<p>9308 rows × 4 columns</p>\n",
       "</div>"
      ],
      "text/plain": [
       "                city property_type  accommodates  price\n",
       "0           St Kilda     Apartment             3  159.0\n",
       "1           Richmond     Apartment             2   98.0\n",
       "2           St Kilda     Apartment             4  190.0\n",
       "3          Melbourne          Loft             4  228.0\n",
       "4           Richmond     Apartment             4  138.0\n",
       "...              ...           ...           ...    ...\n",
       "9303       Melbourne     Apartment             5  156.0\n",
       "9304  Brunswick West         House             6  199.0\n",
       "9305  Port Melbourne     Apartment             4  140.0\n",
       "9306         Preston     Apartment             2   71.0\n",
       "9307        Richmond         House             4  120.0\n",
       "\n",
       "[9308 rows x 4 columns]"
      ]
     },
     "execution_count": 4,
     "metadata": {},
     "output_type": "execute_result"
    }
   ],
   "source": [
    "# Get the data with relevant columns into a new dataframe and view it.\n",
    "price_airbnb_data = listing_data[[\"city\",\"property_type\",\"accommodates\",\"price\"]]\n",
    "price_airbnb_data"
   ]
  },
  {
   "cell_type": "code",
   "execution_count": 5,
   "metadata": {},
   "outputs": [
    {
     "data": {
      "text/html": [
       "<div>\n",
       "<style scoped>\n",
       "    .dataframe tbody tr th:only-of-type {\n",
       "        vertical-align: middle;\n",
       "    }\n",
       "\n",
       "    .dataframe tbody tr th {\n",
       "        vertical-align: top;\n",
       "    }\n",
       "\n",
       "    .dataframe thead th {\n",
       "        text-align: right;\n",
       "    }\n",
       "</style>\n",
       "<table border=\"1\" class=\"dataframe\">\n",
       "  <thead>\n",
       "    <tr style=\"text-align: right;\">\n",
       "      <th></th>\n",
       "      <th>Suburbs</th>\n",
       "      <th>property_type</th>\n",
       "      <th>accommodates</th>\n",
       "      <th>Price/Day($)</th>\n",
       "    </tr>\n",
       "  </thead>\n",
       "  <tbody>\n",
       "    <tr>\n",
       "      <th>0</th>\n",
       "      <td>St Kilda</td>\n",
       "      <td>Apartment</td>\n",
       "      <td>3</td>\n",
       "      <td>159.0</td>\n",
       "    </tr>\n",
       "    <tr>\n",
       "      <th>1</th>\n",
       "      <td>Richmond</td>\n",
       "      <td>Apartment</td>\n",
       "      <td>2</td>\n",
       "      <td>98.0</td>\n",
       "    </tr>\n",
       "    <tr>\n",
       "      <th>2</th>\n",
       "      <td>St Kilda</td>\n",
       "      <td>Apartment</td>\n",
       "      <td>4</td>\n",
       "      <td>190.0</td>\n",
       "    </tr>\n",
       "    <tr>\n",
       "      <th>3</th>\n",
       "      <td>Melbourne</td>\n",
       "      <td>Loft</td>\n",
       "      <td>4</td>\n",
       "      <td>228.0</td>\n",
       "    </tr>\n",
       "    <tr>\n",
       "      <th>4</th>\n",
       "      <td>Richmond</td>\n",
       "      <td>Apartment</td>\n",
       "      <td>4</td>\n",
       "      <td>138.0</td>\n",
       "    </tr>\n",
       "    <tr>\n",
       "      <th>...</th>\n",
       "      <td>...</td>\n",
       "      <td>...</td>\n",
       "      <td>...</td>\n",
       "      <td>...</td>\n",
       "    </tr>\n",
       "    <tr>\n",
       "      <th>9303</th>\n",
       "      <td>Melbourne</td>\n",
       "      <td>Apartment</td>\n",
       "      <td>5</td>\n",
       "      <td>156.0</td>\n",
       "    </tr>\n",
       "    <tr>\n",
       "      <th>9304</th>\n",
       "      <td>Brunswick West</td>\n",
       "      <td>House</td>\n",
       "      <td>6</td>\n",
       "      <td>199.0</td>\n",
       "    </tr>\n",
       "    <tr>\n",
       "      <th>9305</th>\n",
       "      <td>Port Melbourne</td>\n",
       "      <td>Apartment</td>\n",
       "      <td>4</td>\n",
       "      <td>140.0</td>\n",
       "    </tr>\n",
       "    <tr>\n",
       "      <th>9306</th>\n",
       "      <td>Preston</td>\n",
       "      <td>Apartment</td>\n",
       "      <td>2</td>\n",
       "      <td>71.0</td>\n",
       "    </tr>\n",
       "    <tr>\n",
       "      <th>9307</th>\n",
       "      <td>Richmond</td>\n",
       "      <td>House</td>\n",
       "      <td>4</td>\n",
       "      <td>120.0</td>\n",
       "    </tr>\n",
       "  </tbody>\n",
       "</table>\n",
       "<p>9308 rows × 4 columns</p>\n",
       "</div>"
      ],
      "text/plain": [
       "             Suburbs property_type  accommodates  Price/Day($)\n",
       "0           St Kilda     Apartment             3         159.0\n",
       "1           Richmond     Apartment             2          98.0\n",
       "2           St Kilda     Apartment             4         190.0\n",
       "3          Melbourne          Loft             4         228.0\n",
       "4           Richmond     Apartment             4         138.0\n",
       "...              ...           ...           ...           ...\n",
       "9303       Melbourne     Apartment             5         156.0\n",
       "9304  Brunswick West         House             6         199.0\n",
       "9305  Port Melbourne     Apartment             4         140.0\n",
       "9306         Preston     Apartment             2          71.0\n",
       "9307        Richmond         House             4         120.0\n",
       "\n",
       "[9308 rows x 4 columns]"
      ]
     },
     "execution_count": 5,
     "metadata": {},
     "output_type": "execute_result"
    }
   ],
   "source": [
    "# Rename columns for better readability\n",
    "price_data_renamed=price_airbnb_data.rename(columns={\"city\":\"Suburbs\", \n",
    "                                                     \"price\":\"Price/Day($)\" })\n",
    "price_data_renamed"
   ]
  },
  {
   "cell_type": "code",
   "execution_count": 6,
   "metadata": {},
   "outputs": [
    {
     "data": {
      "text/plain": [
       "Suburbs           object\n",
       "property_type     object\n",
       "accommodates       int64\n",
       "Price/Day($)     float64\n",
       "dtype: object"
      ]
     },
     "execution_count": 6,
     "metadata": {},
     "output_type": "execute_result"
    }
   ],
   "source": [
    "# check datatype to make sure price columns are numerical\n",
    "price_data_renamed.dtypes"
   ]
  },
  {
   "cell_type": "code",
   "execution_count": 7,
   "metadata": {},
   "outputs": [
    {
     "data": {
      "text/plain": [
       "Suburbs          object\n",
       "property_type    object\n",
       "accommodates      int64\n",
       "Price/Day($)      int64\n",
       "dtype: object"
      ]
     },
     "execution_count": 7,
     "metadata": {},
     "output_type": "execute_result"
    }
   ],
   "source": [
    "# Convert Price/Day Column to integer type\n",
    "price_data_renamed[\"Price/Day($)\"] = price_data_renamed[\"Price/Day($)\"].astype('int64')\n",
    "price_data_renamed.dtypes"
   ]
  },
  {
   "cell_type": "code",
   "execution_count": 8,
   "metadata": {},
   "outputs": [
    {
     "data": {
      "text/plain": [
       "<class 'int'>    9308\n",
       "Name: Price/Day($), dtype: int64"
      ]
     },
     "execution_count": 8,
     "metadata": {},
     "output_type": "execute_result"
    }
   ],
   "source": [
    "# To check for split up of datatypes within the same column\n",
    "price_data_renamed['Price/Day($)'].apply(type).value_counts()"
   ]
  },
  {
   "cell_type": "code",
   "execution_count": 9,
   "metadata": {},
   "outputs": [],
   "source": [
    "# Convert all currency columns to numeric data type.\n",
    "#price_data_renamed[['Price/Day($)','security_deposit ($)','cleaning_fee($)']] = price_data_renamed[['Price/Day($)','security_deposit ($)','cleaning_fee($)']].replace({'\\$': '', ',': ''}, regex=True).astype(float)\n",
    "#price_data_renamed.dtypes"
   ]
  },
  {
   "cell_type": "code",
   "execution_count": 10,
   "metadata": {},
   "outputs": [
    {
     "data": {
      "text/plain": [
       "<matplotlib.axes._subplots.AxesSubplot at 0x248d3ab1b38>"
      ]
     },
     "execution_count": 10,
     "metadata": {},
     "output_type": "execute_result"
    },
    {
     "data": {
      "image/png": "[encoded data removed]",
      "text/plain": [
       "<Figure size 432x288 with 1 Axes>"
      ]
     },
     "metadata": {
      "needs_background": "light"
     },
     "output_type": "display_data"
    }
   ],
   "source": [
    "# Check via box and whisker plot if there are extreme values in the dataset.\n",
    "price_data_renamed.boxplot(column='Price/Day($)', return_type='axes')"
   ]
  },
  {
   "cell_type": "code",
   "execution_count": 11,
   "metadata": {},
   "outputs": [
    {
     "name": "stdout",
     "output_type": "stream",
     "text": [
      "[    0    12    30    39    40    46    47    48    50    53    54    55\n",
      "    57    58    60    61    62    64    65    66    68    69    71    72\n",
      "    73    75    76    78    79    80    82    83    84    86    87    89\n",
      "    90    91    93    94    96    97    98   100   101   102   104   105\n",
      "   107   108   109   111   112   114   115   116   118   119   120   121\n",
      "   122   123   125   126   127   129   130   132   133   134   136   137\n",
      "   138   140   141   143   144   145   147   148   150   151   152   154\n",
      "   155   156   158   159   161   162   163   165   166   168   169   170\n",
      "   172   173   174   176   177   179   180   181   183   184   186   187\n",
      "   188   190   191   192   194   195   197   198   199   202   203   205\n",
      "   206   208   209   210   212   213   215   216   217   219   220   221\n",
      "   224   226   227   228   230   233   234   235   237   238   239   241\n",
      "   242   244   245   246   248   249   251   255   256   257   259   260\n",
      "   262   264   266   269   270   271   275   277   278   280   285   287\n",
      "   288   289   291   293   295   296   298   299   300   302   305   307\n",
      "   309   310   316   317   318   320   321   323   324   325   327   329\n",
      "   332   334   335   336   338   339   341   343   345   347   349   350\n",
      "   354   357   359   360   361   365   370   371   372   375   379   385\n",
      "   388   390   395   396   397   399   400   406   408   410   415   417\n",
      "   419   425   429   435   440   444   449   450   453   455   460   464\n",
      "   465   471   475   480   485   489   490   496   498   500   505   509\n",
      "   519   529   530   534   539   545   550   561   566   580   586   590\n",
      "   595   598   599   610   615   646   651   653   670   680   695   699\n",
      "   700   710   720   732   750   779   792   795   799   800   808   820\n",
      "   829   850   862   875   885   890   898   900   921   934   950   959\n",
      "   975   995   999  1023  1045  1139  1200  1250  1395  1400  1449  1501\n",
      "  1771  1800  2171  2475 12624]\n"
     ]
    }
   ],
   "source": [
    "# Making sure unique values show extreme values\n",
    "c=price_data_renamed['Price/Day($)'].unique()\n",
    "c.sort()\n",
    "print(c)"
   ]
  },
  {
   "cell_type": "code",
   "execution_count": 12,
   "metadata": {},
   "outputs": [
    {
     "data": {
      "text/plain": [
       "9304"
      ]
     },
     "execution_count": 12,
     "metadata": {},
     "output_type": "execute_result"
    }
   ],
   "source": [
    "# Clean price data for extreme values i.e. rows with values=0 and <2500 price/day values.\n",
    "price_data_cleaned = price_data_renamed.loc[(price_data_renamed[\"Price/Day($)\"] > 0) &\n",
    "                                            (price_data_renamed[\"Price/Day($)\"] < 2500)]\n",
    "len(price_data_cleaned)"
   ]
  },
  {
   "cell_type": "code",
   "execution_count": 13,
   "metadata": {},
   "outputs": [
    {
     "name": "stdout",
     "output_type": "stream",
     "text": [
      "[  12   30   39   40   46   47   48   50   53   54   55   57   58   60\n",
      "   61   62   64   65   66   68   69   71   72   73   75   76   78   79\n",
      "   80   82   83   84   86   87   89   90   91   93   94   96   97   98\n",
      "  100  101  102  104  105  107  108  109  111  112  114  115  116  118\n",
      "  119  120  121  122  123  125  126  127  129  130  132  133  134  136\n",
      "  137  138  140  141  143  144  145  147  148  150  151  152  154  155\n",
      "  156  158  159  161  162  163  165  166  168  169  170  172  173  174\n",
      "  176  177  179  180  181  183  184  186  187  188  190  191  192  194\n",
      "  195  197  198  199  202  203  205  206  208  209  210  212  213  215\n",
      "  216  217  219  220  221  224  226  227  228  230  233  234  235  237\n",
      "  238  239  241  242  244  245  246  248  249  251  255  256  257  259\n",
      "  260  262  264  266  269  270  271  275  277  278  280  285  287  288\n",
      "  289  291  293  295  296  298  299  300  302  305  307  309  310  316\n",
      "  317  318  320  321  323  324  325  327  329  332  334  335  336  338\n",
      "  339  341  343  345  347  349  350  354  357  359  360  361  365  370\n",
      "  371  372  375  379  385  388  390  395  396  397  399  400  406  408\n",
      "  410  415  417  419  425  429  435  440  444  449  450  453  455  460\n",
      "  464  465  471  475  480  485  489  490  496  498  500  505  509  519\n",
      "  529  530  534  539  545  550  561  566  580  586  590  595  598  599\n",
      "  610  615  646  651  653  670  680  695  699  700  710  720  732  750\n",
      "  779  792  795  799  800  808  820  829  850  862  875  885  890  898\n",
      "  900  921  934  950  959  975  995  999 1023 1045 1139 1200 1250 1395\n",
      " 1400 1449 1501 1771 1800 2171 2475]\n"
     ]
    }
   ],
   "source": [
    "# Making sure extereme values are removed from dataset.\n",
    "b= price_data_cleaned['Price/Day($)'].unique()\n",
    "b.sort()\n",
    "print(b)"
   ]
  },
  {
   "cell_type": "markdown",
   "metadata": {},
   "source": [
    "##  Suburb Analysis. "
   ]
  },
  {
   "cell_type": "code",
   "execution_count": 14,
   "metadata": {},
   "outputs": [
    {
     "data": {
      "text/plain": [
       "<class 'str'>    9304\n",
       "Name: Suburbs, dtype: int64"
      ]
     },
     "execution_count": 14,
     "metadata": {},
     "output_type": "execute_result"
    }
   ],
   "source": [
    "# Check if entire row is the same datatype.\n",
    "price_data_cleaned['Suburbs'].apply(type).value_counts()"
   ]
  },
  {
   "cell_type": "code",
   "execution_count": 15,
   "metadata": {},
   "outputs": [
    {
     "name": "stdout",
     "output_type": "stream",
     "text": [
      "['St Kilda' 'Richmond' 'Melbourne' 'Fitzroy' 'Thornbury' 'Clifton Hill'\n",
      " 'St Kilda East' 'Yarraville' 'Ivanhoe' 'Elwood' 'Middle Park'\n",
      " 'North Melbourne' 'Caulfield North' 'Collingwood' 'Southbank'\n",
      " 'South Yarra' 'Windsor' 'Abbotsford' 'East Melbourne' 'Balaclava'\n",
      " 'Brunswick' 'Caulfield' 'Elsternwick' 'Flemington' 'Hawthorn East'\n",
      " 'South Melbourne' 'Port Melbourne' 'Maidstone' 'Brighton'\n",
      " 'Caulfield South' 'St Kilda West' 'Brunswick East' 'Carlton' 'Seddon'\n",
      " 'Burnley' 'Fairfield' 'Northcote' 'Fitzroy North' 'Kew' 'Toorak'\n",
      " 'Glen Iris' 'Travancore' 'Gardenvale' 'Heidelberg Heights' 'Prahran'\n",
      " 'Coburg' 'Parkville' 'Docklands' 'Pascoe Vale South' 'Cremorne'\n",
      " 'Heidelberg' 'Maribyrnong' 'Moonee Ponds' 'Footscray' 'Brunswick West'\n",
      " 'Malvern East' 'West Melbourne' 'Alphington' 'Kensington' 'Albert Park'\n",
      " 'West Footscray' 'Brighton East' 'Kew East' 'Camberwell' 'Hawthorn'\n",
      " 'Reservoir' 'Preston' 'Princes Hill' 'North Fitzroy' 'Williamstown'\n",
      " 'Ascot Vale' 'Coburg North' 'Eaglemont' 'Armadale' 'Kingsville' 'Malvern'\n",
      " 'South Kingsville' 'Carlton North' 'Ripponlea' 'Carnegie' 'Ivanhoe East'\n",
      " 'Ormond' 'Glen Huntly' 'Balwyn' 'Kooyong' 'Newport' 'Airport West'\n",
      " 'Essendon West' 'Essendon' 'Missing' 'Ashburton' 'Spotswood'\n",
      " 'Keilor East' 'Caulfield East' 'Altona North' 'Canterbury'\n",
      " 'City of Port Phillip' 'Oak Park' 'Surrey Hills' 'Balwyn North'\n",
      " 'Sunshine' 'Rosanna' 'Williamstown North' 'Bellfield' 'Braybrook'\n",
      " 'Hadfield' 'Strathmore' 'å¢¨çˆ¾æœ¬ Melbourne' 'Port Phillip City'\n",
      " 'Pascoe Vale' 'Preston West' 'South Wharf' 'Brooklyn' 'Essendon North']\n",
      "114\n"
     ]
    }
   ],
   "source": [
    "suburb_names = price_data_cleaned['Suburbs'].unique()\n",
    "print(suburb_names)\n",
    "print(len(suburb_names))"
   ]
  },
  {
   "cell_type": "code",
   "execution_count": 16,
   "metadata": {},
   "outputs": [
    {
     "data": {
      "text/html": [
       "<div>\n",
       "<style scoped>\n",
       "    .dataframe tbody tr th:only-of-type {\n",
       "        vertical-align: middle;\n",
       "    }\n",
       "\n",
       "    .dataframe tbody tr th {\n",
       "        vertical-align: top;\n",
       "    }\n",
       "\n",
       "    .dataframe thead th {\n",
       "        text-align: right;\n",
       "    }\n",
       "</style>\n",
       "<table border=\"1\" class=\"dataframe\">\n",
       "  <thead>\n",
       "    <tr style=\"text-align: right;\">\n",
       "      <th></th>\n",
       "      <th>Suburbs</th>\n",
       "      <th>property_type</th>\n",
       "      <th>accommodates</th>\n",
       "      <th>Price/Day($)</th>\n",
       "    </tr>\n",
       "  </thead>\n",
       "  <tbody>\n",
       "    <tr>\n",
       "      <th>0</th>\n",
       "      <td>St Kilda</td>\n",
       "      <td>Apartment</td>\n",
       "      <td>3</td>\n",
       "      <td>159</td>\n",
       "    </tr>\n",
       "    <tr>\n",
       "      <th>1</th>\n",
       "      <td>Richmond</td>\n",
       "      <td>Apartment</td>\n",
       "      <td>2</td>\n",
       "      <td>98</td>\n",
       "    </tr>\n",
       "    <tr>\n",
       "      <th>2</th>\n",
       "      <td>St Kilda</td>\n",
       "      <td>Apartment</td>\n",
       "      <td>4</td>\n",
       "      <td>190</td>\n",
       "    </tr>\n",
       "    <tr>\n",
       "      <th>3</th>\n",
       "      <td>Melbourne</td>\n",
       "      <td>Loft</td>\n",
       "      <td>4</td>\n",
       "      <td>228</td>\n",
       "    </tr>\n",
       "    <tr>\n",
       "      <th>4</th>\n",
       "      <td>Richmond</td>\n",
       "      <td>Apartment</td>\n",
       "      <td>4</td>\n",
       "      <td>138</td>\n",
       "    </tr>\n",
       "    <tr>\n",
       "      <th>...</th>\n",
       "      <td>...</td>\n",
       "      <td>...</td>\n",
       "      <td>...</td>\n",
       "      <td>...</td>\n",
       "    </tr>\n",
       "    <tr>\n",
       "      <th>9303</th>\n",
       "      <td>Melbourne</td>\n",
       "      <td>Apartment</td>\n",
       "      <td>5</td>\n",
       "      <td>156</td>\n",
       "    </tr>\n",
       "    <tr>\n",
       "      <th>9304</th>\n",
       "      <td>Brunswick West</td>\n",
       "      <td>House</td>\n",
       "      <td>6</td>\n",
       "      <td>199</td>\n",
       "    </tr>\n",
       "    <tr>\n",
       "      <th>9305</th>\n",
       "      <td>Port Melbourne</td>\n",
       "      <td>Apartment</td>\n",
       "      <td>4</td>\n",
       "      <td>140</td>\n",
       "    </tr>\n",
       "    <tr>\n",
       "      <th>9306</th>\n",
       "      <td>Preston</td>\n",
       "      <td>Apartment</td>\n",
       "      <td>2</td>\n",
       "      <td>71</td>\n",
       "    </tr>\n",
       "    <tr>\n",
       "      <th>9307</th>\n",
       "      <td>Richmond</td>\n",
       "      <td>House</td>\n",
       "      <td>4</td>\n",
       "      <td>120</td>\n",
       "    </tr>\n",
       "  </tbody>\n",
       "</table>\n",
       "<p>9304 rows × 4 columns</p>\n",
       "</div>"
      ],
      "text/plain": [
       "             Suburbs property_type  accommodates  Price/Day($)\n",
       "0           St Kilda     Apartment             3           159\n",
       "1           Richmond     Apartment             2            98\n",
       "2           St Kilda     Apartment             4           190\n",
       "3          Melbourne          Loft             4           228\n",
       "4           Richmond     Apartment             4           138\n",
       "...              ...           ...           ...           ...\n",
       "9303       Melbourne     Apartment             5           156\n",
       "9304  Brunswick West         House             6           199\n",
       "9305  Port Melbourne     Apartment             4           140\n",
       "9306         Preston     Apartment             2            71\n",
       "9307        Richmond         House             4           120\n",
       "\n",
       "[9304 rows x 4 columns]"
      ]
     },
     "execution_count": 16,
     "metadata": {},
     "output_type": "execute_result"
    }
   ],
   "source": [
    "price_data_cleaned"
   ]
  },
  {
   "cell_type": "code",
   "execution_count": 17,
   "metadata": {},
   "outputs": [
    {
     "name": "stderr",
     "output_type": "stream",
     "text": [
      "C:\\Users\\Rajeeb\\anaconda3\\envs\\PythonData\\lib\\site-packages\\ipykernel_launcher.py:3: SettingWithCopyWarning: \n",
      "A value is trying to be set on a copy of a slice from a DataFrame.\n",
      "Try using .loc[row_indexer,col_indexer] = value instead\n",
      "\n",
      "See the caveats in the documentation: https://pandas.pydata.org/pandas-docs/stable/user_guide/indexing.html#returning-a-view-versus-a-copy\n",
      "  This is separate from the ipykernel package so we can avoid doing imports until\n"
     ]
    },
    {
     "data": {
      "text/html": [
       "<div>\n",
       "<style scoped>\n",
       "    .dataframe tbody tr th:only-of-type {\n",
       "        vertical-align: middle;\n",
       "    }\n",
       "\n",
       "    .dataframe tbody tr th {\n",
       "        vertical-align: top;\n",
       "    }\n",
       "\n",
       "    .dataframe thead th {\n",
       "        text-align: right;\n",
       "    }\n",
       "</style>\n",
       "<table border=\"1\" class=\"dataframe\">\n",
       "  <thead>\n",
       "    <tr style=\"text-align: right;\">\n",
       "      <th></th>\n",
       "      <th>Suburbs</th>\n",
       "      <th>property_type</th>\n",
       "      <th>accommodates</th>\n",
       "      <th>Price/Day($)</th>\n",
       "      <th>Price/Day/Person($)</th>\n",
       "    </tr>\n",
       "  </thead>\n",
       "  <tbody>\n",
       "    <tr>\n",
       "      <th>0</th>\n",
       "      <td>St Kilda</td>\n",
       "      <td>Apartment</td>\n",
       "      <td>3</td>\n",
       "      <td>159</td>\n",
       "      <td>53.00</td>\n",
       "    </tr>\n",
       "    <tr>\n",
       "      <th>1</th>\n",
       "      <td>Richmond</td>\n",
       "      <td>Apartment</td>\n",
       "      <td>2</td>\n",
       "      <td>98</td>\n",
       "      <td>49.00</td>\n",
       "    </tr>\n",
       "    <tr>\n",
       "      <th>2</th>\n",
       "      <td>St Kilda</td>\n",
       "      <td>Apartment</td>\n",
       "      <td>4</td>\n",
       "      <td>190</td>\n",
       "      <td>47.50</td>\n",
       "    </tr>\n",
       "    <tr>\n",
       "      <th>3</th>\n",
       "      <td>Melbourne</td>\n",
       "      <td>Loft</td>\n",
       "      <td>4</td>\n",
       "      <td>228</td>\n",
       "      <td>57.00</td>\n",
       "    </tr>\n",
       "    <tr>\n",
       "      <th>4</th>\n",
       "      <td>Richmond</td>\n",
       "      <td>Apartment</td>\n",
       "      <td>4</td>\n",
       "      <td>138</td>\n",
       "      <td>34.50</td>\n",
       "    </tr>\n",
       "    <tr>\n",
       "      <th>...</th>\n",
       "      <td>...</td>\n",
       "      <td>...</td>\n",
       "      <td>...</td>\n",
       "      <td>...</td>\n",
       "      <td>...</td>\n",
       "    </tr>\n",
       "    <tr>\n",
       "      <th>9303</th>\n",
       "      <td>Melbourne</td>\n",
       "      <td>Apartment</td>\n",
       "      <td>5</td>\n",
       "      <td>156</td>\n",
       "      <td>31.20</td>\n",
       "    </tr>\n",
       "    <tr>\n",
       "      <th>9304</th>\n",
       "      <td>Brunswick West</td>\n",
       "      <td>House</td>\n",
       "      <td>6</td>\n",
       "      <td>199</td>\n",
       "      <td>33.17</td>\n",
       "    </tr>\n",
       "    <tr>\n",
       "      <th>9305</th>\n",
       "      <td>Port Melbourne</td>\n",
       "      <td>Apartment</td>\n",
       "      <td>4</td>\n",
       "      <td>140</td>\n",
       "      <td>35.00</td>\n",
       "    </tr>\n",
       "    <tr>\n",
       "      <th>9306</th>\n",
       "      <td>Preston</td>\n",
       "      <td>Apartment</td>\n",
       "      <td>2</td>\n",
       "      <td>71</td>\n",
       "      <td>35.50</td>\n",
       "    </tr>\n",
       "    <tr>\n",
       "      <th>9307</th>\n",
       "      <td>Richmond</td>\n",
       "      <td>House</td>\n",
       "      <td>4</td>\n",
       "      <td>120</td>\n",
       "      <td>30.00</td>\n",
       "    </tr>\n",
       "  </tbody>\n",
       "</table>\n",
       "<p>9304 rows × 5 columns</p>\n",
       "</div>"
      ],
      "text/plain": [
       "             Suburbs property_type  accommodates  Price/Day($)  \\\n",
       "0           St Kilda     Apartment             3           159   \n",
       "1           Richmond     Apartment             2            98   \n",
       "2           St Kilda     Apartment             4           190   \n",
       "3          Melbourne          Loft             4           228   \n",
       "4           Richmond     Apartment             4           138   \n",
       "...              ...           ...           ...           ...   \n",
       "9303       Melbourne     Apartment             5           156   \n",
       "9304  Brunswick West         House             6           199   \n",
       "9305  Port Melbourne     Apartment             4           140   \n",
       "9306         Preston     Apartment             2            71   \n",
       "9307        Richmond         House             4           120   \n",
       "\n",
       "      Price/Day/Person($)  \n",
       "0                   53.00  \n",
       "1                   49.00  \n",
       "2                   47.50  \n",
       "3                   57.00  \n",
       "4                   34.50  \n",
       "...                   ...  \n",
       "9303                31.20  \n",
       "9304                33.17  \n",
       "9305                35.00  \n",
       "9306                35.50  \n",
       "9307                30.00  \n",
       "\n",
       "[9304 rows x 5 columns]"
      ]
     },
     "execution_count": 17,
     "metadata": {},
     "output_type": "execute_result"
    }
   ],
   "source": [
    "# Create a new column for price/day/person and fill calculated values\n",
    "price_per_person = round((price_data_cleaned['Price/Day($)']/price_data_cleaned['accommodates']),2)\n",
    "price_data_cleaned['Price/Day/Person($)'] = price_per_person\n",
    "price_data_cleaned"
   ]
  },
  {
   "cell_type": "code",
   "execution_count": 18,
   "metadata": {},
   "outputs": [
    {
     "name": "stdout",
     "output_type": "stream",
     "text": [
      "Apartment             7391\n",
      "House                 1131\n",
      "Townhouse              377\n",
      "Serviced apartment     280\n",
      "Loft                   125\n",
      "Name: property_type, dtype: int64\n"
     ]
    }
   ],
   "source": [
    "# Get all unique property types.\n",
    "unique_property = price_data_cleaned['property_type'].value_counts()\n",
    "print(unique_property)"
   ]
  },
  {
   "cell_type": "code",
   "execution_count": 19,
   "metadata": {},
   "outputs": [
    {
     "data": {
      "text/html": [
       "<div>\n",
       "<style scoped>\n",
       "    .dataframe tbody tr th:only-of-type {\n",
       "        vertical-align: middle;\n",
       "    }\n",
       "\n",
       "    .dataframe tbody tr th {\n",
       "        vertical-align: top;\n",
       "    }\n",
       "\n",
       "    .dataframe thead th {\n",
       "        text-align: right;\n",
       "    }\n",
       "</style>\n",
       "<table border=\"1\" class=\"dataframe\">\n",
       "  <thead>\n",
       "    <tr style=\"text-align: right;\">\n",
       "      <th></th>\n",
       "      <th>Suburbs</th>\n",
       "      <th>property_type</th>\n",
       "      <th>accommodates</th>\n",
       "      <th>Price/Day($)</th>\n",
       "      <th>Price/Day/Person($)</th>\n",
       "    </tr>\n",
       "  </thead>\n",
       "  <tbody>\n",
       "    <tr>\n",
       "      <th>0</th>\n",
       "      <td>St Kilda</td>\n",
       "      <td>Apartment</td>\n",
       "      <td>3</td>\n",
       "      <td>159</td>\n",
       "      <td>53.00</td>\n",
       "    </tr>\n",
       "    <tr>\n",
       "      <th>1</th>\n",
       "      <td>Richmond</td>\n",
       "      <td>Apartment</td>\n",
       "      <td>2</td>\n",
       "      <td>98</td>\n",
       "      <td>49.00</td>\n",
       "    </tr>\n",
       "    <tr>\n",
       "      <th>2</th>\n",
       "      <td>St Kilda</td>\n",
       "      <td>Apartment</td>\n",
       "      <td>4</td>\n",
       "      <td>190</td>\n",
       "      <td>47.50</td>\n",
       "    </tr>\n",
       "    <tr>\n",
       "      <th>4</th>\n",
       "      <td>Richmond</td>\n",
       "      <td>Apartment</td>\n",
       "      <td>4</td>\n",
       "      <td>138</td>\n",
       "      <td>34.50</td>\n",
       "    </tr>\n",
       "    <tr>\n",
       "      <th>7</th>\n",
       "      <td>Clifton Hill</td>\n",
       "      <td>Apartment</td>\n",
       "      <td>4</td>\n",
       "      <td>180</td>\n",
       "      <td>45.00</td>\n",
       "    </tr>\n",
       "    <tr>\n",
       "      <th>...</th>\n",
       "      <td>...</td>\n",
       "      <td>...</td>\n",
       "      <td>...</td>\n",
       "      <td>...</td>\n",
       "      <td>...</td>\n",
       "    </tr>\n",
       "    <tr>\n",
       "      <th>9301</th>\n",
       "      <td>Melbourne</td>\n",
       "      <td>Apartment</td>\n",
       "      <td>2</td>\n",
       "      <td>134</td>\n",
       "      <td>67.00</td>\n",
       "    </tr>\n",
       "    <tr>\n",
       "      <th>9302</th>\n",
       "      <td>Melbourne</td>\n",
       "      <td>Apartment</td>\n",
       "      <td>3</td>\n",
       "      <td>112</td>\n",
       "      <td>37.33</td>\n",
       "    </tr>\n",
       "    <tr>\n",
       "      <th>9303</th>\n",
       "      <td>Melbourne</td>\n",
       "      <td>Apartment</td>\n",
       "      <td>5</td>\n",
       "      <td>156</td>\n",
       "      <td>31.20</td>\n",
       "    </tr>\n",
       "    <tr>\n",
       "      <th>9305</th>\n",
       "      <td>Port Melbourne</td>\n",
       "      <td>Apartment</td>\n",
       "      <td>4</td>\n",
       "      <td>140</td>\n",
       "      <td>35.00</td>\n",
       "    </tr>\n",
       "    <tr>\n",
       "      <th>9306</th>\n",
       "      <td>Preston</td>\n",
       "      <td>Apartment</td>\n",
       "      <td>2</td>\n",
       "      <td>71</td>\n",
       "      <td>35.50</td>\n",
       "    </tr>\n",
       "  </tbody>\n",
       "</table>\n",
       "<p>7391 rows × 5 columns</p>\n",
       "</div>"
      ],
      "text/plain": [
       "             Suburbs property_type  accommodates  Price/Day($)  \\\n",
       "0           St Kilda     Apartment             3           159   \n",
       "1           Richmond     Apartment             2            98   \n",
       "2           St Kilda     Apartment             4           190   \n",
       "4           Richmond     Apartment             4           138   \n",
       "7       Clifton Hill     Apartment             4           180   \n",
       "...              ...           ...           ...           ...   \n",
       "9301       Melbourne     Apartment             2           134   \n",
       "9302       Melbourne     Apartment             3           112   \n",
       "9303       Melbourne     Apartment             5           156   \n",
       "9305  Port Melbourne     Apartment             4           140   \n",
       "9306         Preston     Apartment             2            71   \n",
       "\n",
       "      Price/Day/Person($)  \n",
       "0                   53.00  \n",
       "1                   49.00  \n",
       "2                   47.50  \n",
       "4                   34.50  \n",
       "7                   45.00  \n",
       "...                   ...  \n",
       "9301                67.00  \n",
       "9302                37.33  \n",
       "9303                31.20  \n",
       "9305                35.00  \n",
       "9306                35.50  \n",
       "\n",
       "[7391 rows x 5 columns]"
      ]
     },
     "execution_count": 19,
     "metadata": {},
     "output_type": "execute_result"
    }
   ],
   "source": [
    "# Limiting suburb analysis to only entire apartments.\n",
    "only_apartment = price_data_cleaned.loc[(price_data_cleaned[\"property_type\"]==\"Apartment\"),:]\n",
    "only_apartment"
   ]
  },
  {
   "cell_type": "code",
   "execution_count": 20,
   "metadata": {},
   "outputs": [],
   "source": [
    "# Create a new column for price/day/person and fill calculated values\n",
    "#price_per_person = round((only_apartment['Price/Day($)']/only_apartment['accommodates']),2)\n",
    "#only_apartment['Price/Day/Person($)'] = price_per_person\n",
    "#only_apartment\n"
   ]
  },
  {
   "cell_type": "code",
   "execution_count": 21,
   "metadata": {},
   "outputs": [],
   "source": [
    "# Check the distribution of data for no. of people an apartment can accomodate\n",
    "#unique_accomodates = only_apartment['accommodates'].value_counts()\n",
    "#print(unique_accomodates)"
   ]
  },
  {
   "cell_type": "code",
   "execution_count": 22,
   "metadata": {},
   "outputs": [],
   "source": [
    "# Limit analysis to apartments that can accomodate smaller groups i.e. 2-6 people. Check no.of datapoints after.\n",
    "#apartment_accomodate = only_apartment.loc[(only_apartment[\"accommodates\"] >= 2) & (only_apartment[\"accommodates\"] <= 6)]\n",
    "#print(apartment_accomodate.head())\n",
    "#print(len(apartment_accomodate))"
   ]
  },
  {
   "cell_type": "markdown",
   "metadata": {},
   "source": [
    "### Analyse price data distribution with Price/Day Column"
   ]
  },
  {
   "cell_type": "code",
   "execution_count": 23,
   "metadata": {},
   "outputs": [
    {
     "data": {
      "text/plain": [
       "NormaltestResult(statistic=77.61714038554688, pvalue=1.3984666524175488e-17)"
      ]
     },
     "execution_count": 23,
     "metadata": {},
     "output_type": "execute_result"
    }
   ],
   "source": [
    "# check if price/day data is normally distributed\n",
    "#plt.hist(price_data_renamed['Price/Day($)'])\n",
    "normal_test = sts.normaltest(only_apartment['Price/Day($)'].sample(70))\n",
    "normal_test"
   ]
  },
  {
   "cell_type": "code",
   "execution_count": 24,
   "metadata": {},
   "outputs": [
    {
     "data": {
      "text/plain": [
       "<matplotlib.axes._subplots.AxesSubplot at 0x248d4331080>"
      ]
     },
     "execution_count": 24,
     "metadata": {},
     "output_type": "execute_result"
    },
    {
     "data": {
      "image/png": "[encoded data removed]",
      "text/plain": [
       "<Figure size 432x288 with 1 Axes>"
      ]
     },
     "metadata": {
      "needs_background": "light"
     },
     "output_type": "display_data"
    }
   ],
   "source": [
    "only_apartment.boxplot(column='Price/Day($)', return_type='axes')"
   ]
  },
  {
   "cell_type": "code",
   "execution_count": 25,
   "metadata": {},
   "outputs": [
    {
     "name": "stdout",
     "output_type": "stream",
     "text": [
      "The lower quartile of price/day for entire apartments is: 105.0\n",
      "The upper quartile of price/day for entire apartment is: 169.0\n",
      "The interquartile range of price/day for entire apartment is: 64.0\n",
      "The the median of price/days for entire apartment is: 130.0 \n",
      "Values below 9.0 could be outliers.\n",
      "Values above 265.0 could be outliers.\n"
     ]
    }
   ],
   "source": [
    "prices = only_apartment['Price/Day($)']\n",
    "quartiles = prices.quantile([.25,.5,.75])\n",
    "lowerq = quartiles[0.25]\n",
    "upperq = quartiles[0.75]\n",
    "iqr = upperq-lowerq\n",
    "\n",
    "print(f\"The lower quartile of price/day for entire apartments is: {lowerq}\")\n",
    "print(f\"The upper quartile of price/day for entire apartment is: {upperq}\")\n",
    "print(f\"The interquartile range of price/day for entire apartment is: {iqr}\")\n",
    "print(f\"The the median of price/days for entire apartment is: {quartiles[0.5]} \")\n",
    "\n",
    "lower_bound = lowerq - (1.5*iqr)\n",
    "upper_bound = upperq + (1.5*iqr)\n",
    "print(f\"Values below {lower_bound} could be outliers.\")\n",
    "print(f\"Values above {upper_bound} could be outliers.\")"
   ]
  },
  {
   "cell_type": "code",
   "execution_count": 26,
   "metadata": {},
   "outputs": [
    {
     "data": {
      "text/plain": [
       "6929"
      ]
     },
     "execution_count": 26,
     "metadata": {},
     "output_type": "execute_result"
    }
   ],
   "source": [
    "# If we filter data to exclude all outlier bounds as per calculated data, we are only left with 345 data points. \n",
    "# This is because different property types will have different price ranges.  \n",
    "outlier_filtered = only_apartment.loc[(only_apartment['Price/Day($)'] > lower_bound)\n",
    "                                        &(only_apartment['Price/Day($)'] < upper_bound)]\n",
    "len(outlier_filtered)"
   ]
  },
  {
   "cell_type": "code",
   "execution_count": 27,
   "metadata": {},
   "outputs": [
    {
     "data": {
      "text/plain": [
       "<matplotlib.axes._subplots.AxesSubplot at 0x248d439df98>"
      ]
     },
     "execution_count": 27,
     "metadata": {},
     "output_type": "execute_result"
    },
    {
     "data": {
      "image/png": "[encoded data removed]",
      "text/plain": [
       "<Figure size 432x288 with 1 Axes>"
      ]
     },
     "metadata": {
      "needs_background": "light"
     },
     "output_type": "display_data"
    }
   ],
   "source": [
    "# Create box and whisker plot to check if data is rid of ouliers.\n",
    "outlier_filtered.boxplot(column='Price/Day($)', return_type='axes')"
   ]
  },
  {
   "cell_type": "markdown",
   "metadata": {},
   "source": [
    "### Analyse price data distribution with Price/Day/Person Column"
   ]
  },
  {
   "cell_type": "code",
   "execution_count": 28,
   "metadata": {},
   "outputs": [
    {
     "data": {
      "text/plain": [
       "NormaltestResult(statistic=32.560647154741275, pvalue=8.502473886163182e-08)"
      ]
     },
     "execution_count": 28,
     "metadata": {},
     "output_type": "execute_result"
    }
   ],
   "source": [
    "# check if price/day data is normally distributed\n",
    "#plt.hist(price_data_renamed['Price/Day($)'])\n",
    "normal_test = sts.normaltest(only_apartment['Price/Day/Person($)'].sample(70))\n",
    "normal_test"
   ]
  },
  {
   "cell_type": "code",
   "execution_count": 29,
   "metadata": {},
   "outputs": [
    {
     "data": {
      "text/plain": [
       "<matplotlib.axes._subplots.AxesSubplot at 0x248d43fd390>"
      ]
     },
     "execution_count": 29,
     "metadata": {},
     "output_type": "execute_result"
    },
    {
     "data": {
      "image/png": "[encoded data removed]",
      "text/plain": [
       "<Figure size 432x288 with 1 Axes>"
      ]
     },
     "metadata": {
      "needs_background": "light"
     },
     "output_type": "display_data"
    }
   ],
   "source": [
    "only_apartment.boxplot(column='Price/Day/Person($)', return_type='axes')"
   ]
  },
  {
   "cell_type": "code",
   "execution_count": 30,
   "metadata": {},
   "outputs": [
    {
     "name": "stdout",
     "output_type": "stream",
     "text": [
      "The lower quartile of price/day for entire apartments is: 29.75\n",
      "The upper quartile of price/day for entire apartment is: 50.5\n",
      "The interquartile range of price/day for entire apartment is: 20.75\n",
      "The the median of price/days for entire apartment is: 38.4 \n",
      "Values below -1.375 could be outliers.\n",
      "Values above 81.625 could be outliers.\n"
     ]
    }
   ],
   "source": [
    "prices2=only_apartment['Price/Day/Person($)']\n",
    "quartiles = prices2.quantile([.25,.5,.75])\n",
    "lowerq = quartiles[0.25]\n",
    "upperq = quartiles[0.75]\n",
    "iqr = upperq-lowerq\n",
    "\n",
    "print(f\"The lower quartile of price/day for entire apartments is: {lowerq}\")\n",
    "print(f\"The upper quartile of price/day for entire apartment is: {upperq}\")\n",
    "print(f\"The interquartile range of price/day for entire apartment is: {iqr}\")\n",
    "print(f\"The the median of price/days for entire apartment is: {quartiles[0.5]} \")\n",
    "\n",
    "lower_bound = lowerq - (1.5*iqr)\n",
    "upper_bound = upperq + (1.5*iqr)\n",
    "print(f\"Values below {lower_bound} could be outliers.\")\n",
    "print(f\"Values above {upper_bound} could be outliers.\")"
   ]
  },
  {
   "cell_type": "code",
   "execution_count": 31,
   "metadata": {},
   "outputs": [
    {
     "data": {
      "text/plain": [
       "7025"
      ]
     },
     "execution_count": 31,
     "metadata": {},
     "output_type": "execute_result"
    }
   ],
   "source": [
    "# If we filter data to exclude all outlier bounds as per calculated data, we are only left with 345 data points. \n",
    "# This is because different property types will have different price ranges.  \n",
    "outlier_filtered2 = only_apartment.loc[(only_apartment['Price/Day/Person($)'] > lower_bound)\n",
    "                                        &(only_apartment['Price/Day/Person($)'] < upper_bound)]\n",
    "len(outlier_filtered2)"
   ]
  },
  {
   "cell_type": "code",
   "execution_count": 32,
   "metadata": {},
   "outputs": [
    {
     "data": {
      "text/plain": [
       "<matplotlib.axes._subplots.AxesSubplot at 0x248d43fdf60>"
      ]
     },
     "execution_count": 32,
     "metadata": {},
     "output_type": "execute_result"
    },
    {
     "data": {
      "image/png": "[encoded data removed]",
      "text/plain": [
       "<Figure size 432x288 with 1 Axes>"
      ]
     },
     "metadata": {
      "needs_background": "light"
     },
     "output_type": "display_data"
    }
   ],
   "source": [
    "# Create box and whisker plot to check if data is rid of ouliers.\n",
    "outlier_filtered2.boxplot(column='Price/Day/Person($)', return_type='axes')"
   ]
  },
  {
   "cell_type": "markdown",
   "metadata": {},
   "source": [
    "### TOP 10 Suburbs"
   ]
  },
  {
   "cell_type": "code",
   "execution_count": 33,
   "metadata": {},
   "outputs": [
    {
     "data": {
      "text/plain": [
       "Suburbs\n",
       "Braybrook               46.670000\n",
       "å¢¨çˆ¾æœ¬ Melbourne     46.670000\n",
       "Moonee Ponds            49.572500\n",
       "City of Port Phillip    49.830000\n",
       "Port Phillip City       50.000000\n",
       "Albert Park             50.615385\n",
       "Fitzroy                 50.746160\n",
       "Ivanhoe East            52.500000\n",
       "Pascoe Vale South       57.500000\n",
       "South Kingsville        72.500000\n",
       "Name: Price/Day/Person($), dtype: float64"
      ]
     },
     "execution_count": 33,
     "metadata": {},
     "output_type": "execute_result"
    }
   ],
   "source": [
    "# Grouping apartments accomodating small groupsizes of 2-6 based on suburbs, find average price/day and get top 10 suburbs.\n",
    "grouped_top = outlier_filtered2.groupby(\"Suburbs\")['Price/Day/Person($)'].mean().sort_values().tail(10)\n",
    "grouped_top"
   ]
  },
  {
   "cell_type": "code",
   "execution_count": 34,
   "metadata": {},
   "outputs": [
    {
     "data": {
      "text/plain": [
       "Suburbs\n",
       "Cremorne                47.600\n",
       "Seddon                  48.335\n",
       "Ivanhoe                 49.750\n",
       "City of Port Phillip    49.830\n",
       "Moonee Ponds            49.875\n",
       "Port Phillip City       50.000\n",
       "Fitzroy                 50.000\n",
       "Ivanhoe East            52.500\n",
       "Pascoe Vale South       57.500\n",
       "South Kingsville        72.500\n",
       "Name: Price/Day/Person($), dtype: float64"
      ]
     },
     "execution_count": 34,
     "metadata": {},
     "output_type": "execute_result"
    }
   ],
   "source": [
    "grouped_top_median = outlier_filtered2.groupby(\"Suburbs\")['Price/Day/Person($)'].median().sort_values().tail(10)\n",
    "grouped_top_median"
   ]
  },
  {
   "cell_type": "code",
   "execution_count": 35,
   "metadata": {},
   "outputs": [
    {
     "data": {
      "image/png": "[encoded data removed]",
      "text/plain": [
       "<Figure size 720x576 with 1 Axes>"
      ]
     },
     "metadata": {
      "needs_background": "light"
     },
     "output_type": "display_data"
    }
   ],
   "source": [
    "# Plot the top 10 suburbs with highest averageper/day prices.\n",
    "bplot=grouped_top.plot(kind=\"barh\",figsize=(10,8),color=\"green\")\n",
    "plt.xlabel(\"Average Price/Day/Person (in $)\")\n",
    "plt.title(\"Top 10 Suburbs with Highest Average Price/Day/Person\")\n",
    "for b in bplot.patches:\n",
    "    width = b.get_width()\n",
    "    plt.text(2.5+b.get_width(), b.get_y()+0.55*b.get_height(),\n",
    "             '{:1.2f}'.format(width),\n",
    "             ha='center', va='center')"
   ]
  },
  {
   "cell_type": "code",
   "execution_count": 36,
   "metadata": {},
   "outputs": [
    {
     "name": "stdout",
     "output_type": "stream",
     "text": [
      "Top 10 Suburbs with Highest Average Price/Day/Person for renting out Entire Apartments are : \n",
      "-----------------------------------------\n",
      "Braybrook has an average price/day/person of $47.0\n",
      "å¢¨çˆ¾æœ¬ Melbourne has an average price/day/person of $47.0\n",
      "Moonee Ponds has an average price/day/person of $50.0\n",
      "City of Port Phillip has an average price/day/person of $50.0\n",
      "Port Phillip City has an average price/day/person of $50.0\n",
      "Albert Park has an average price/day/person of $51.0\n",
      "Fitzroy has an average price/day/person of $51.0\n",
      "Ivanhoe East has an average price/day/person of $52.0\n",
      "Pascoe Vale South has an average price/day/person of $58.0\n",
      "South Kingsville has an average price/day/person of $72.0\n"
     ]
    }
   ],
   "source": [
    "## Print Output Data.\n",
    "\n",
    "# convert top10 dataseries to a Dataframe\n",
    "grouped_top_DF=pd.DataFrame(grouped_top)\n",
    "grouped_top_DF.reset_index(level=0, inplace=True)\n",
    "grouped_top_DF\n",
    "\n",
    "print(\"Top 10 Suburbs with Highest Average Price/Day/Person for renting out Entire Apartments are : \")\n",
    "print(\"-----------------------------------------\")\n",
    "for i in range(0,10):\n",
    "    suburb_name=grouped_top_DF.iloc[i,0]\n",
    "    suburb_price=round(grouped_top_DF.iloc[i,1],0)\n",
    "    print(f\"{suburb_name} has an average price/day/person of ${suburb_price}\")"
   ]
  },
  {
   "cell_type": "code",
   "execution_count": 37,
   "metadata": {},
   "outputs": [
    {
     "data": {
      "text/plain": [
       "Suburbs\n",
       "Keilor East       12.860000\n",
       "Hadfield          15.000000\n",
       "Reservoir         23.333333\n",
       "Maidstone         25.140000\n",
       "West Footscray    25.816667\n",
       "Eaglemont         26.330000\n",
       "Brighton East     26.653333\n",
       "Rosanna           26.750000\n",
       "Airport West      27.250000\n",
       "Kew East          28.000000\n",
       "Name: Price/Day/Person($), dtype: float64"
      ]
     },
     "execution_count": 37,
     "metadata": {},
     "output_type": "execute_result"
    }
   ],
   "source": [
    "## BOTTOM 10 Suburbs\n",
    "# Grouping apartments accomodating small groupsizes of 2-6 based on suburbs, find average price/day and get top 10 suburbs.\n",
    "grouped_bottom = outlier_filtered2.groupby(\"Suburbs\")['Price/Day/Person($)'].mean().sort_values().head(10)\n",
    "grouped_bottom"
   ]
  },
  {
   "cell_type": "code",
   "execution_count": 38,
   "metadata": {},
   "outputs": [
    {
     "data": {
      "image/png": "[encoded data removed]",
      "text/plain": [
       "<Figure size 720x576 with 1 Axes>"
      ]
     },
     "metadata": {
      "needs_background": "light"
     },
     "output_type": "display_data"
    }
   ],
   "source": [
    "# Plot the bottom 10 suburbs with lowest averageper/day prices.\n",
    "bplot2=grouped_bottom.plot(kind=\"barh\",figsize=(10,8),color=\"orange\")\n",
    "plt.xlabel(\"Average Price/Day/Person (in $)\")\n",
    "plt.title(\"Bottom 10 Suburbs with Lowest Average Price/Day/Person\")\n",
    "for b in bplot2.patches:\n",
    "    width = b.get_width()\n",
    "    plt.text(1+b.get_width(), b.get_y()+0.55*b.get_height(),\n",
    "             '{:1.2f}'.format(width),\n",
    "             ha='center', va='center')"
   ]
  },
  {
   "cell_type": "code",
   "execution_count": 39,
   "metadata": {},
   "outputs": [
    {
     "name": "stdout",
     "output_type": "stream",
     "text": [
      "Top 10 Suburbs with Lowest Average Price/Day/Person (Entire Apartments accomodating 2-6 guests only) are : \n",
      "-----------------------------------------\n",
      "Keilor East has an average Price/Day/Person of $13.0\n",
      "Hadfield has an average Price/Day/Person of $15.0\n",
      "Reservoir has an average Price/Day/Person of $23.0\n",
      "Maidstone has an average Price/Day/Person of $25.0\n",
      "West Footscray has an average Price/Day/Person of $26.0\n",
      "Eaglemont has an average Price/Day/Person of $26.0\n",
      "Brighton East has an average Price/Day/Person of $27.0\n",
      "Rosanna has an average Price/Day/Person of $27.0\n",
      "Airport West has an average Price/Day/Person of $27.0\n",
      "Kew East has an average Price/Day/Person of $28.0\n"
     ]
    }
   ],
   "source": [
    "## Print Output Data.\n",
    "\n",
    "# convert bottom 10 dataseries to a Dataframe\n",
    "grouped_bottom_DF=pd.DataFrame(grouped_bottom)\n",
    "grouped_bottom_DF.reset_index(level=0, inplace=True)\n",
    "grouped_bottom_DF\n",
    "\n",
    "print(\"Top 10 Suburbs with Lowest Average Price/Day/Person (Entire Apartments accomodating 2-6 guests only) are : \")\n",
    "print(\"-----------------------------------------\")\n",
    "for i in range(0,10):\n",
    "    suburb_name=grouped_bottom_DF.iloc[i,0]\n",
    "    suburb_price=round(grouped_bottom_DF.iloc[i,1],0)\n",
    "    print(f\"{suburb_name} has an average Price/Day/Person of ${suburb_price}\")"
   ]
  },
  {
   "cell_type": "markdown",
   "metadata": {},
   "source": [
    "### FOR EXPLANATION ONLY"
   ]
  },
  {
   "cell_type": "markdown",
   "metadata": {},
   "source": [
    "#Checking if median yeilds similar results.\n",
    "#apt_acc_grouped_med = apt_acc_grouped.groupby([\"Suburbs\"]).median()\n",
    "#apt_acc_grouped2_med"
   ]
  },
  {
   "cell_type": "markdown",
   "metadata": {},
   "source": [
    "#Checking if median yeilds similar results.Note: Indeed getting similar ratings\n",
    "#topsuburbs_med = apt_acc_grouped2_med.sort_values(\"Price/Day($)\",ascending=False)\n",
    "#topsuburbs_med.head(10)"
   ]
  },
  {
   "cell_type": "markdown",
   "metadata": {},
   "source": [
    "### Price/Day based on Property_Type "
   ]
  },
  {
   "cell_type": "code",
   "execution_count": 40,
   "metadata": {},
   "outputs": [
    {
     "data": {
      "text/html": [
       "<div>\n",
       "<style scoped>\n",
       "    .dataframe tbody tr th:only-of-type {\n",
       "        vertical-align: middle;\n",
       "    }\n",
       "\n",
       "    .dataframe tbody tr th {\n",
       "        vertical-align: top;\n",
       "    }\n",
       "\n",
       "    .dataframe thead th {\n",
       "        text-align: right;\n",
       "    }\n",
       "</style>\n",
       "<table border=\"1\" class=\"dataframe\">\n",
       "  <thead>\n",
       "    <tr style=\"text-align: right;\">\n",
       "      <th></th>\n",
       "      <th>Suburbs</th>\n",
       "      <th>property_type</th>\n",
       "      <th>accommodates</th>\n",
       "      <th>Price/Day($)</th>\n",
       "      <th>Price/Day/Person($)</th>\n",
       "    </tr>\n",
       "  </thead>\n",
       "  <tbody>\n",
       "    <tr>\n",
       "      <th>0</th>\n",
       "      <td>St Kilda</td>\n",
       "      <td>Apartment</td>\n",
       "      <td>3</td>\n",
       "      <td>159</td>\n",
       "      <td>53.0</td>\n",
       "    </tr>\n",
       "    <tr>\n",
       "      <th>1</th>\n",
       "      <td>Richmond</td>\n",
       "      <td>Apartment</td>\n",
       "      <td>2</td>\n",
       "      <td>98</td>\n",
       "      <td>49.0</td>\n",
       "    </tr>\n",
       "    <tr>\n",
       "      <th>2</th>\n",
       "      <td>St Kilda</td>\n",
       "      <td>Apartment</td>\n",
       "      <td>4</td>\n",
       "      <td>190</td>\n",
       "      <td>47.5</td>\n",
       "    </tr>\n",
       "    <tr>\n",
       "      <th>3</th>\n",
       "      <td>Melbourne</td>\n",
       "      <td>Loft</td>\n",
       "      <td>4</td>\n",
       "      <td>228</td>\n",
       "      <td>57.0</td>\n",
       "    </tr>\n",
       "    <tr>\n",
       "      <th>4</th>\n",
       "      <td>Richmond</td>\n",
       "      <td>Apartment</td>\n",
       "      <td>4</td>\n",
       "      <td>138</td>\n",
       "      <td>34.5</td>\n",
       "    </tr>\n",
       "  </tbody>\n",
       "</table>\n",
       "</div>"
      ],
      "text/plain": [
       "     Suburbs property_type  accommodates  Price/Day($)  Price/Day/Person($)\n",
       "0   St Kilda     Apartment             3           159                 53.0\n",
       "1   Richmond     Apartment             2            98                 49.0\n",
       "2   St Kilda     Apartment             4           190                 47.5\n",
       "3  Melbourne          Loft             4           228                 57.0\n",
       "4   Richmond     Apartment             4           138                 34.5"
      ]
     },
     "execution_count": 40,
     "metadata": {},
     "output_type": "execute_result"
    }
   ],
   "source": [
    "price_data_cleaned.head()"
   ]
  },
  {
   "cell_type": "code",
   "execution_count": 41,
   "metadata": {},
   "outputs": [
    {
     "data": {
      "text/plain": [
       "property_type\n",
       "Townhouse             43.436658\n",
       "Apartment             44.377391\n",
       "House                 45.708771\n",
       "Loft                  51.321040\n",
       "Serviced apartment    58.848679\n",
       "Name: Price/Day/Person($), dtype: float64"
      ]
     },
     "execution_count": 41,
     "metadata": {},
     "output_type": "execute_result"
    }
   ],
   "source": [
    "# Groupby on propert types and find the mean price/day/person for each type.\n",
    "grouped_property_type = price_data_cleaned.groupby('property_type')[\"Price/Day/Person($)\"].mean().sort_values()\n",
    "grouped_property_type"
   ]
  },
  {
   "cell_type": "code",
   "execution_count": 42,
   "metadata": {},
   "outputs": [
    {
     "data": {
      "image/png": "[encoded data removed]",
      "text/plain": [
       "<Figure size 720x576 with 1 Axes>"
      ]
     },
     "metadata": {
      "needs_background": "light"
     },
     "output_type": "display_data"
    }
   ],
   "source": [
    "# Plot the average price/day/person based on propert_type.\n",
    "bplot3=grouped_property_type.plot(kind=\"barh\",figsize=(10,8),color=\"blue\")\n",
    "plt.xlabel(\"Average Price/Day/Person (in $)\")\n",
    "plt.title(\"Average Price/Day/Person for each Property Type\")\n",
    "for b in bplot3.patches:\n",
    "    width = b.get_width()\n",
    "    plt.text(2+b.get_width(), b.get_y()+0.55*b.get_height(),\n",
    "             '{:1.2f}'.format(width),\n",
    "             ha='center', va='center')"
   ]
  },
  {
   "cell_type": "code",
   "execution_count": 43,
   "metadata": {},
   "outputs": [],
   "source": [
    "# Checking for results if median value is taken for calculation, will the results change.\n",
    "#grouped_suburb2 = suburb_analysis_df.groupby(['Suburbs']).median()\n",
    "#grouped_suburb2"
   ]
  },
  {
   "cell_type": "code",
   "execution_count": 44,
   "metadata": {},
   "outputs": [],
   "source": [
    "# Checking if choosing median changes the results. \n",
    "#sorted_topsuburbs2 = grouped_suburb2.sort_values(\"Price/Day($)\",ascending=False)\n",
    "#sorted_topsuburbs2.head(10)"
   ]
  }
 ],
 "metadata": {
  "kernelspec": {
   "display_name": "Python [conda env:PythonData] *",
   "language": "python",
   "name": "conda-env-PythonData-py"
  },
  "language_info": {
   "codemirror_mode": {
    "name": "ipython",
    "version": 3
   },
   "file_extension": ".py",
   "mimetype": "text/x-python",
   "name": "python",
   "nbconvert_exporter": "python",
   "pygments_lexer": "ipython3",
   "version": "3.6.10"
  }
 },
 "nbformat": 4,
 "nbformat_minor": 4
}
