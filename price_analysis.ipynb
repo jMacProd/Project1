{
 "cells": [
  {
   "cell_type": "code",
   "execution_count": 1,
   "metadata": {},
   "outputs": [],
   "source": [
    "import matplotlib.pyplot as plt\n",
    "import pandas as pd\n",
    "import scipy.stats as sts\n",
    "import numpy as np\n",
    "from scipy.stats import linregress\n"
   ]
  },
  {
   "cell_type": "code",
   "execution_count": 2,
   "metadata": {
    "scrolled": true
   },
   "outputs": [
    {
     "data": {
      "text/html": [
       "<div>\n",
       "<style scoped>\n",
       "    .dataframe tbody tr th:only-of-type {\n",
       "        vertical-align: middle;\n",
       "    }\n",
       "\n",
       "    .dataframe tbody tr th {\n",
       "        vertical-align: top;\n",
       "    }\n",
       "\n",
       "    .dataframe thead th {\n",
       "        text-align: right;\n",
       "    }\n",
       "</style>\n",
       "<table border=\"1\" class=\"dataframe\">\n",
       "  <thead>\n",
       "    <tr style=\"text-align: right;\">\n",
       "      <th></th>\n",
       "      <th>id</th>\n",
       "      <th>host_id</th>\n",
       "      <th>host_name</th>\n",
       "      <th>host_is_superhost</th>\n",
       "      <th>host_total_listings_count</th>\n",
       "      <th>street</th>\n",
       "      <th>neighbourhood_cleansed</th>\n",
       "      <th>city</th>\n",
       "      <th>state</th>\n",
       "      <th>zipcode</th>\n",
       "      <th>...</th>\n",
       "      <th>number_of_reviews</th>\n",
       "      <th>review_scores_rating</th>\n",
       "      <th>review_scores_accuracy</th>\n",
       "      <th>review_scores_cleanliness</th>\n",
       "      <th>review_scores_checkin</th>\n",
       "      <th>review_scores_communication</th>\n",
       "      <th>review_scores_location</th>\n",
       "      <th>review_scores_value</th>\n",
       "      <th>reviews_per_month</th>\n",
       "      <th>distance_from_cbd</th>\n",
       "    </tr>\n",
       "  </thead>\n",
       "  <tbody>\n",
       "    <tr>\n",
       "      <th>0</th>\n",
       "      <td>12936</td>\n",
       "      <td>50121</td>\n",
       "      <td>Frank &amp; Vince</td>\n",
       "      <td>t</td>\n",
       "      <td>17</td>\n",
       "      <td>St Kilda, VIC, Australia</td>\n",
       "      <td>Port Phillip</td>\n",
       "      <td>St Kilda</td>\n",
       "      <td>Vic</td>\n",
       "      <td>3182</td>\n",
       "      <td>...</td>\n",
       "      <td>15</td>\n",
       "      <td>94</td>\n",
       "      <td>9</td>\n",
       "      <td>10</td>\n",
       "      <td>94</td>\n",
       "      <td>9</td>\n",
       "      <td>9</td>\n",
       "      <td>9</td>\n",
       "      <td>0.15</td>\n",
       "      <td>5.205174</td>\n",
       "    </tr>\n",
       "    <tr>\n",
       "      <th>1</th>\n",
       "      <td>47100</td>\n",
       "      <td>212071</td>\n",
       "      <td>Loren</td>\n",
       "      <td>t</td>\n",
       "      <td>4</td>\n",
       "      <td>Richmond, VIC, Australia</td>\n",
       "      <td>Yarra</td>\n",
       "      <td>Richmond</td>\n",
       "      <td>Vic</td>\n",
       "      <td>3121</td>\n",
       "      <td>...</td>\n",
       "      <td>176</td>\n",
       "      <td>98</td>\n",
       "      <td>10</td>\n",
       "      <td>10</td>\n",
       "      <td>98</td>\n",
       "      <td>10</td>\n",
       "      <td>10</td>\n",
       "      <td>10</td>\n",
       "      <td>1.75</td>\n",
       "      <td>3.649571</td>\n",
       "    </tr>\n",
       "    <tr>\n",
       "      <th>2</th>\n",
       "      <td>50492</td>\n",
       "      <td>50121</td>\n",
       "      <td>Frank &amp; Vince</td>\n",
       "      <td>t</td>\n",
       "      <td>17</td>\n",
       "      <td>St Kilda, VIC, Australia</td>\n",
       "      <td>Port Phillip</td>\n",
       "      <td>St Kilda</td>\n",
       "      <td>Vic</td>\n",
       "      <td>3182</td>\n",
       "      <td>...</td>\n",
       "      <td>44</td>\n",
       "      <td>97</td>\n",
       "      <td>10</td>\n",
       "      <td>10</td>\n",
       "      <td>97</td>\n",
       "      <td>10</td>\n",
       "      <td>9</td>\n",
       "      <td>10</td>\n",
       "      <td>0.60</td>\n",
       "      <td>5.437003</td>\n",
       "    </tr>\n",
       "    <tr>\n",
       "      <th>3</th>\n",
       "      <td>51592</td>\n",
       "      <td>190879</td>\n",
       "      <td>Michelle</td>\n",
       "      <td>t</td>\n",
       "      <td>1</td>\n",
       "      <td>Melbourne, VIC, Australia</td>\n",
       "      <td>Melbourne</td>\n",
       "      <td>Melbourne</td>\n",
       "      <td>Vic</td>\n",
       "      <td>3000</td>\n",
       "      <td>...</td>\n",
       "      <td>196</td>\n",
       "      <td>99</td>\n",
       "      <td>10</td>\n",
       "      <td>9</td>\n",
       "      <td>99</td>\n",
       "      <td>10</td>\n",
       "      <td>10</td>\n",
       "      <td>10</td>\n",
       "      <td>2.07</td>\n",
       "      <td>0.072335</td>\n",
       "    </tr>\n",
       "    <tr>\n",
       "      <th>4</th>\n",
       "      <td>66754</td>\n",
       "      <td>50121</td>\n",
       "      <td>Frank &amp; Vince</td>\n",
       "      <td>t</td>\n",
       "      <td>17</td>\n",
       "      <td>Richmond, VIC, Australia</td>\n",
       "      <td>Yarra</td>\n",
       "      <td>Richmond</td>\n",
       "      <td>Vic</td>\n",
       "      <td>3121</td>\n",
       "      <td>...</td>\n",
       "      <td>43</td>\n",
       "      <td>95</td>\n",
       "      <td>9</td>\n",
       "      <td>10</td>\n",
       "      <td>95</td>\n",
       "      <td>10</td>\n",
       "      <td>10</td>\n",
       "      <td>9</td>\n",
       "      <td>0.46</td>\n",
       "      <td>2.794548</td>\n",
       "    </tr>\n",
       "    <tr>\n",
       "      <th>...</th>\n",
       "      <td>...</td>\n",
       "      <td>...</td>\n",
       "      <td>...</td>\n",
       "      <td>...</td>\n",
       "      <td>...</td>\n",
       "      <td>...</td>\n",
       "      <td>...</td>\n",
       "      <td>...</td>\n",
       "      <td>...</td>\n",
       "      <td>...</td>\n",
       "      <td>...</td>\n",
       "      <td>...</td>\n",
       "      <td>...</td>\n",
       "      <td>...</td>\n",
       "      <td>...</td>\n",
       "      <td>...</td>\n",
       "      <td>...</td>\n",
       "      <td>...</td>\n",
       "      <td>...</td>\n",
       "      <td>...</td>\n",
       "      <td>...</td>\n",
       "    </tr>\n",
       "    <tr>\n",
       "      <th>9884</th>\n",
       "      <td>30410904</td>\n",
       "      <td>127327853</td>\n",
       "      <td>Nathan</td>\n",
       "      <td>f</td>\n",
       "      <td>1</td>\n",
       "      <td>Melbourne, VIC, Australia</td>\n",
       "      <td>Melbourne</td>\n",
       "      <td>Melbourne</td>\n",
       "      <td>Vic</td>\n",
       "      <td>3000</td>\n",
       "      <td>...</td>\n",
       "      <td>2</td>\n",
       "      <td>100</td>\n",
       "      <td>10</td>\n",
       "      <td>10</td>\n",
       "      <td>100</td>\n",
       "      <td>10</td>\n",
       "      <td>10</td>\n",
       "      <td>10</td>\n",
       "      <td>2.00</td>\n",
       "      <td>0.700146</td>\n",
       "    </tr>\n",
       "    <tr>\n",
       "      <th>9885</th>\n",
       "      <td>30468406</td>\n",
       "      <td>30322920</td>\n",
       "      <td>Robyn</td>\n",
       "      <td>f</td>\n",
       "      <td>1</td>\n",
       "      <td>Brunswick West, VIC, Australia</td>\n",
       "      <td>Moreland</td>\n",
       "      <td>Brunswick West</td>\n",
       "      <td>Vic</td>\n",
       "      <td>3055</td>\n",
       "      <td>...</td>\n",
       "      <td>1</td>\n",
       "      <td>0</td>\n",
       "      <td>0</td>\n",
       "      <td>0</td>\n",
       "      <td>0</td>\n",
       "      <td>0</td>\n",
       "      <td>0</td>\n",
       "      <td>0</td>\n",
       "      <td>1.00</td>\n",
       "      <td>5.893982</td>\n",
       "    </tr>\n",
       "    <tr>\n",
       "      <th>9886</th>\n",
       "      <td>30470482</td>\n",
       "      <td>36410227</td>\n",
       "      <td>Sabrina</td>\n",
       "      <td>f</td>\n",
       "      <td>276</td>\n",
       "      <td>Port Melbourne, Australia</td>\n",
       "      <td>Port Phillip</td>\n",
       "      <td>Port Melbourne</td>\n",
       "      <td>Vic</td>\n",
       "      <td>3207</td>\n",
       "      <td>...</td>\n",
       "      <td>1</td>\n",
       "      <td>0</td>\n",
       "      <td>0</td>\n",
       "      <td>0</td>\n",
       "      <td>0</td>\n",
       "      <td>0</td>\n",
       "      <td>0</td>\n",
       "      <td>0</td>\n",
       "      <td>1.00</td>\n",
       "      <td>3.780995</td>\n",
       "    </tr>\n",
       "    <tr>\n",
       "      <th>9887</th>\n",
       "      <td>30483362</td>\n",
       "      <td>154023219</td>\n",
       "      <td>Aishah</td>\n",
       "      <td>f</td>\n",
       "      <td>1</td>\n",
       "      <td>Preston, VIC, Australia</td>\n",
       "      <td>Darebin</td>\n",
       "      <td>Preston</td>\n",
       "      <td>Vic</td>\n",
       "      <td>3072</td>\n",
       "      <td>...</td>\n",
       "      <td>1</td>\n",
       "      <td>0</td>\n",
       "      <td>0</td>\n",
       "      <td>0</td>\n",
       "      <td>0</td>\n",
       "      <td>0</td>\n",
       "      <td>0</td>\n",
       "      <td>0</td>\n",
       "      <td>1.00</td>\n",
       "      <td>8.746854</td>\n",
       "    </tr>\n",
       "    <tr>\n",
       "      <th>9888</th>\n",
       "      <td>30490522</td>\n",
       "      <td>12676584</td>\n",
       "      <td>Eli</td>\n",
       "      <td>f</td>\n",
       "      <td>1</td>\n",
       "      <td>Richmond, VIC, Australia</td>\n",
       "      <td>Yarra</td>\n",
       "      <td>Richmond</td>\n",
       "      <td>Vic</td>\n",
       "      <td>3121</td>\n",
       "      <td>...</td>\n",
       "      <td>1</td>\n",
       "      <td>0</td>\n",
       "      <td>0</td>\n",
       "      <td>0</td>\n",
       "      <td>0</td>\n",
       "      <td>0</td>\n",
       "      <td>0</td>\n",
       "      <td>0</td>\n",
       "      <td>1.00</td>\n",
       "      <td>3.648557</td>\n",
       "    </tr>\n",
       "  </tbody>\n",
       "</table>\n",
       "<p>9889 rows × 43 columns</p>\n",
       "</div>"
      ],
      "text/plain": [
       "            id    host_id      host_name host_is_superhost  \\\n",
       "0        12936      50121  Frank & Vince                 t   \n",
       "1        47100     212071          Loren                 t   \n",
       "2        50492      50121  Frank & Vince                 t   \n",
       "3        51592     190879       Michelle                 t   \n",
       "4        66754      50121  Frank & Vince                 t   \n",
       "...        ...        ...            ...               ...   \n",
       "9884  30410904  127327853         Nathan                 f   \n",
       "9885  30468406   30322920          Robyn                 f   \n",
       "9886  30470482   36410227        Sabrina                 f   \n",
       "9887  30483362  154023219         Aishah                 f   \n",
       "9888  30490522   12676584            Eli                 f   \n",
       "\n",
       "      host_total_listings_count                          street  \\\n",
       "0                            17        St Kilda, VIC, Australia   \n",
       "1                             4        Richmond, VIC, Australia   \n",
       "2                            17        St Kilda, VIC, Australia   \n",
       "3                             1       Melbourne, VIC, Australia   \n",
       "4                            17        Richmond, VIC, Australia   \n",
       "...                         ...                             ...   \n",
       "9884                          1       Melbourne, VIC, Australia   \n",
       "9885                          1  Brunswick West, VIC, Australia   \n",
       "9886                        276       Port Melbourne, Australia   \n",
       "9887                          1         Preston, VIC, Australia   \n",
       "9888                          1        Richmond, VIC, Australia   \n",
       "\n",
       "     neighbourhood_cleansed            city state zipcode  ...  \\\n",
       "0              Port Phillip        St Kilda   Vic    3182  ...   \n",
       "1                     Yarra        Richmond   Vic    3121  ...   \n",
       "2              Port Phillip        St Kilda   Vic    3182  ...   \n",
       "3                 Melbourne       Melbourne   Vic    3000  ...   \n",
       "4                     Yarra        Richmond   Vic    3121  ...   \n",
       "...                     ...             ...   ...     ...  ...   \n",
       "9884              Melbourne       Melbourne   Vic    3000  ...   \n",
       "9885               Moreland  Brunswick West   Vic    3055  ...   \n",
       "9886           Port Phillip  Port Melbourne   Vic    3207  ...   \n",
       "9887                Darebin         Preston   Vic    3072  ...   \n",
       "9888                  Yarra        Richmond   Vic    3121  ...   \n",
       "\n",
       "      number_of_reviews  review_scores_rating review_scores_accuracy  \\\n",
       "0                    15                    94                      9   \n",
       "1                   176                    98                     10   \n",
       "2                    44                    97                     10   \n",
       "3                   196                    99                     10   \n",
       "4                    43                    95                      9   \n",
       "...                 ...                   ...                    ...   \n",
       "9884                  2                   100                     10   \n",
       "9885                  1                     0                      0   \n",
       "9886                  1                     0                      0   \n",
       "9887                  1                     0                      0   \n",
       "9888                  1                     0                      0   \n",
       "\n",
       "      review_scores_cleanliness  review_scores_checkin  \\\n",
       "0                            10                     94   \n",
       "1                            10                     98   \n",
       "2                            10                     97   \n",
       "3                             9                     99   \n",
       "4                            10                     95   \n",
       "...                         ...                    ...   \n",
       "9884                         10                    100   \n",
       "9885                          0                      0   \n",
       "9886                          0                      0   \n",
       "9887                          0                      0   \n",
       "9888                          0                      0   \n",
       "\n",
       "      review_scores_communication  review_scores_location review_scores_value  \\\n",
       "0                               9                       9                   9   \n",
       "1                              10                      10                  10   \n",
       "2                              10                       9                  10   \n",
       "3                              10                      10                  10   \n",
       "4                              10                      10                   9   \n",
       "...                           ...                     ...                 ...   \n",
       "9884                           10                      10                  10   \n",
       "9885                            0                       0                   0   \n",
       "9886                            0                       0                   0   \n",
       "9887                            0                       0                   0   \n",
       "9888                            0                       0                   0   \n",
       "\n",
       "     reviews_per_month  distance_from_cbd  \n",
       "0                 0.15           5.205174  \n",
       "1                 1.75           3.649571  \n",
       "2                 0.60           5.437003  \n",
       "3                 2.07           0.072335  \n",
       "4                 0.46           2.794548  \n",
       "...                ...                ...  \n",
       "9884              2.00           0.700146  \n",
       "9885              1.00           5.893982  \n",
       "9886              1.00           3.780995  \n",
       "9887              1.00           8.746854  \n",
       "9888              1.00           3.648557  \n",
       "\n",
       "[9889 rows x 43 columns]"
      ]
     },
     "execution_count": 2,
     "metadata": {},
     "output_type": "execute_result"
    }
   ],
   "source": [
    "# Read raw csv file and view it.\n",
    "listing_data = pd.read_csv(\"clean_data_rs/airbnbFINAL_JS.csv\", low_memory=False, encoding=\"UTF-8\")\n",
    "listing_data"
   ]
  },
  {
   "cell_type": "markdown",
   "metadata": {},
   "source": [
    "### Basic clean up and filtering of relevant Data."
   ]
  },
  {
   "cell_type": "code",
   "execution_count": 3,
   "metadata": {},
   "outputs": [
    {
     "data": {
      "text/plain": [
       "Index(['id', 'host_id', 'host_name', 'host_is_superhost',\n",
       "       'host_total_listings_count', 'street', 'neighbourhood_cleansed', 'city',\n",
       "       'state', 'zipcode', 'latitude', 'longitude', 'property_type',\n",
       "       'accommodates', 'bathrooms', 'bedrooms', 'beds', 'bed_type',\n",
       "       'amenities', 'price', 'weekly_price', 'monthly_price',\n",
       "       'security_deposit', 'cleaning_fee', 'guests_included', 'extra_people',\n",
       "       'minimum_nights', 'maximum_nights', 'has_availability',\n",
       "       'availability_30', 'availability_60', 'availability_90',\n",
       "       'availability_365', 'number_of_reviews', 'review_scores_rating',\n",
       "       'review_scores_accuracy', 'review_scores_cleanliness',\n",
       "       'review_scores_checkin', 'review_scores_communication',\n",
       "       'review_scores_location', 'review_scores_value', 'reviews_per_month',\n",
       "       'distance_from_cbd'],\n",
       "      dtype='object')"
      ]
     },
     "execution_count": 3,
     "metadata": {},
     "output_type": "execute_result"
    }
   ],
   "source": [
    "# Get the column names so that necessary column names can be extracted.\n",
    "listing_data.columns"
   ]
  },
  {
   "cell_type": "code",
   "execution_count": 4,
   "metadata": {},
   "outputs": [
    {
     "data": {
      "text/html": [
       "<div>\n",
       "<style scoped>\n",
       "    .dataframe tbody tr th:only-of-type {\n",
       "        vertical-align: middle;\n",
       "    }\n",
       "\n",
       "    .dataframe tbody tr th {\n",
       "        vertical-align: top;\n",
       "    }\n",
       "\n",
       "    .dataframe thead th {\n",
       "        text-align: right;\n",
       "    }\n",
       "</style>\n",
       "<table border=\"1\" class=\"dataframe\">\n",
       "  <thead>\n",
       "    <tr style=\"text-align: right;\">\n",
       "      <th></th>\n",
       "      <th>id</th>\n",
       "      <th>city</th>\n",
       "      <th>property_type</th>\n",
       "      <th>accommodates</th>\n",
       "      <th>price</th>\n",
       "      <th>security_deposit</th>\n",
       "      <th>cleaning_fee</th>\n",
       "    </tr>\n",
       "  </thead>\n",
       "  <tbody>\n",
       "    <tr>\n",
       "      <th>0</th>\n",
       "      <td>12936</td>\n",
       "      <td>St Kilda</td>\n",
       "      <td>Apartment</td>\n",
       "      <td>3</td>\n",
       "      <td>159</td>\n",
       "      <td>450</td>\n",
       "      <td>100</td>\n",
       "    </tr>\n",
       "    <tr>\n",
       "      <th>1</th>\n",
       "      <td>47100</td>\n",
       "      <td>Richmond</td>\n",
       "      <td>Apartment</td>\n",
       "      <td>2</td>\n",
       "      <td>98</td>\n",
       "      <td>200</td>\n",
       "      <td>80</td>\n",
       "    </tr>\n",
       "    <tr>\n",
       "      <th>2</th>\n",
       "      <td>50492</td>\n",
       "      <td>St Kilda</td>\n",
       "      <td>Apartment</td>\n",
       "      <td>4</td>\n",
       "      <td>190</td>\n",
       "      <td>500</td>\n",
       "      <td>110</td>\n",
       "    </tr>\n",
       "    <tr>\n",
       "      <th>3</th>\n",
       "      <td>51592</td>\n",
       "      <td>Melbourne</td>\n",
       "      <td>Loft</td>\n",
       "      <td>4</td>\n",
       "      <td>228</td>\n",
       "      <td>250</td>\n",
       "      <td>40</td>\n",
       "    </tr>\n",
       "    <tr>\n",
       "      <th>4</th>\n",
       "      <td>66754</td>\n",
       "      <td>Richmond</td>\n",
       "      <td>Apartment</td>\n",
       "      <td>4</td>\n",
       "      <td>138</td>\n",
       "      <td>450</td>\n",
       "      <td>100</td>\n",
       "    </tr>\n",
       "    <tr>\n",
       "      <th>...</th>\n",
       "      <td>...</td>\n",
       "      <td>...</td>\n",
       "      <td>...</td>\n",
       "      <td>...</td>\n",
       "      <td>...</td>\n",
       "      <td>...</td>\n",
       "      <td>...</td>\n",
       "    </tr>\n",
       "    <tr>\n",
       "      <th>9884</th>\n",
       "      <td>30410904</td>\n",
       "      <td>Melbourne</td>\n",
       "      <td>Apartment</td>\n",
       "      <td>5</td>\n",
       "      <td>156</td>\n",
       "      <td>0</td>\n",
       "      <td>75</td>\n",
       "    </tr>\n",
       "    <tr>\n",
       "      <th>9885</th>\n",
       "      <td>30468406</td>\n",
       "      <td>Brunswick West</td>\n",
       "      <td>House</td>\n",
       "      <td>6</td>\n",
       "      <td>199</td>\n",
       "      <td>0</td>\n",
       "      <td>60</td>\n",
       "    </tr>\n",
       "    <tr>\n",
       "      <th>9886</th>\n",
       "      <td>30470482</td>\n",
       "      <td>Port Melbourne</td>\n",
       "      <td>Apartment</td>\n",
       "      <td>4</td>\n",
       "      <td>140</td>\n",
       "      <td>250</td>\n",
       "      <td>140</td>\n",
       "    </tr>\n",
       "    <tr>\n",
       "      <th>9887</th>\n",
       "      <td>30483362</td>\n",
       "      <td>Preston</td>\n",
       "      <td>Apartment</td>\n",
       "      <td>2</td>\n",
       "      <td>71</td>\n",
       "      <td>0</td>\n",
       "      <td>0</td>\n",
       "    </tr>\n",
       "    <tr>\n",
       "      <th>9888</th>\n",
       "      <td>30490522</td>\n",
       "      <td>Richmond</td>\n",
       "      <td>House</td>\n",
       "      <td>4</td>\n",
       "      <td>120</td>\n",
       "      <td>0</td>\n",
       "      <td>0</td>\n",
       "    </tr>\n",
       "  </tbody>\n",
       "</table>\n",
       "<p>9889 rows × 7 columns</p>\n",
       "</div>"
      ],
      "text/plain": [
       "            id            city property_type  accommodates  price  \\\n",
       "0        12936        St Kilda     Apartment             3    159   \n",
       "1        47100        Richmond     Apartment             2     98   \n",
       "2        50492        St Kilda     Apartment             4    190   \n",
       "3        51592       Melbourne          Loft             4    228   \n",
       "4        66754        Richmond     Apartment             4    138   \n",
       "...        ...             ...           ...           ...    ...   \n",
       "9884  30410904       Melbourne     Apartment             5    156   \n",
       "9885  30468406  Brunswick West         House             6    199   \n",
       "9886  30470482  Port Melbourne     Apartment             4    140   \n",
       "9887  30483362         Preston     Apartment             2     71   \n",
       "9888  30490522        Richmond         House             4    120   \n",
       "\n",
       "      security_deposit  cleaning_fee  \n",
       "0                  450           100  \n",
       "1                  200            80  \n",
       "2                  500           110  \n",
       "3                  250            40  \n",
       "4                  450           100  \n",
       "...                ...           ...  \n",
       "9884                 0            75  \n",
       "9885                 0            60  \n",
       "9886               250           140  \n",
       "9887                 0             0  \n",
       "9888                 0             0  \n",
       "\n",
       "[9889 rows x 7 columns]"
      ]
     },
     "execution_count": 4,
     "metadata": {},
     "output_type": "execute_result"
    }
   ],
   "source": [
    "# Get the data with relevant columns into a new dataframe and view it.\n",
    "price_airbnb_data = listing_data[[\"id\",\"city\",\"property_type\",\"accommodates\",\"price\",\"security_deposit\",\n",
    "                                  \"cleaning_fee\"]]\n",
    "price_airbnb_data"
   ]
  },
  {
   "cell_type": "code",
   "execution_count": 5,
   "metadata": {},
   "outputs": [
    {
     "data": {
      "text/html": [
       "<div>\n",
       "<style scoped>\n",
       "    .dataframe tbody tr th:only-of-type {\n",
       "        vertical-align: middle;\n",
       "    }\n",
       "\n",
       "    .dataframe tbody tr th {\n",
       "        vertical-align: top;\n",
       "    }\n",
       "\n",
       "    .dataframe thead th {\n",
       "        text-align: right;\n",
       "    }\n",
       "</style>\n",
       "<table border=\"1\" class=\"dataframe\">\n",
       "  <thead>\n",
       "    <tr style=\"text-align: right;\">\n",
       "      <th></th>\n",
       "      <th>Listing ID</th>\n",
       "      <th>Suburbs</th>\n",
       "      <th>property_type</th>\n",
       "      <th>accommodates</th>\n",
       "      <th>Price/Day($)</th>\n",
       "      <th>security_deposit ($)</th>\n",
       "      <th>cleaning_fee($)</th>\n",
       "    </tr>\n",
       "  </thead>\n",
       "  <tbody>\n",
       "    <tr>\n",
       "      <th>0</th>\n",
       "      <td>12936</td>\n",
       "      <td>St Kilda</td>\n",
       "      <td>Apartment</td>\n",
       "      <td>3</td>\n",
       "      <td>159</td>\n",
       "      <td>450</td>\n",
       "      <td>100</td>\n",
       "    </tr>\n",
       "    <tr>\n",
       "      <th>1</th>\n",
       "      <td>47100</td>\n",
       "      <td>Richmond</td>\n",
       "      <td>Apartment</td>\n",
       "      <td>2</td>\n",
       "      <td>98</td>\n",
       "      <td>200</td>\n",
       "      <td>80</td>\n",
       "    </tr>\n",
       "    <tr>\n",
       "      <th>2</th>\n",
       "      <td>50492</td>\n",
       "      <td>St Kilda</td>\n",
       "      <td>Apartment</td>\n",
       "      <td>4</td>\n",
       "      <td>190</td>\n",
       "      <td>500</td>\n",
       "      <td>110</td>\n",
       "    </tr>\n",
       "    <tr>\n",
       "      <th>3</th>\n",
       "      <td>51592</td>\n",
       "      <td>Melbourne</td>\n",
       "      <td>Loft</td>\n",
       "      <td>4</td>\n",
       "      <td>228</td>\n",
       "      <td>250</td>\n",
       "      <td>40</td>\n",
       "    </tr>\n",
       "    <tr>\n",
       "      <th>4</th>\n",
       "      <td>66754</td>\n",
       "      <td>Richmond</td>\n",
       "      <td>Apartment</td>\n",
       "      <td>4</td>\n",
       "      <td>138</td>\n",
       "      <td>450</td>\n",
       "      <td>100</td>\n",
       "    </tr>\n",
       "    <tr>\n",
       "      <th>...</th>\n",
       "      <td>...</td>\n",
       "      <td>...</td>\n",
       "      <td>...</td>\n",
       "      <td>...</td>\n",
       "      <td>...</td>\n",
       "      <td>...</td>\n",
       "      <td>...</td>\n",
       "    </tr>\n",
       "    <tr>\n",
       "      <th>9884</th>\n",
       "      <td>30410904</td>\n",
       "      <td>Melbourne</td>\n",
       "      <td>Apartment</td>\n",
       "      <td>5</td>\n",
       "      <td>156</td>\n",
       "      <td>0</td>\n",
       "      <td>75</td>\n",
       "    </tr>\n",
       "    <tr>\n",
       "      <th>9885</th>\n",
       "      <td>30468406</td>\n",
       "      <td>Brunswick West</td>\n",
       "      <td>House</td>\n",
       "      <td>6</td>\n",
       "      <td>199</td>\n",
       "      <td>0</td>\n",
       "      <td>60</td>\n",
       "    </tr>\n",
       "    <tr>\n",
       "      <th>9886</th>\n",
       "      <td>30470482</td>\n",
       "      <td>Port Melbourne</td>\n",
       "      <td>Apartment</td>\n",
       "      <td>4</td>\n",
       "      <td>140</td>\n",
       "      <td>250</td>\n",
       "      <td>140</td>\n",
       "    </tr>\n",
       "    <tr>\n",
       "      <th>9887</th>\n",
       "      <td>30483362</td>\n",
       "      <td>Preston</td>\n",
       "      <td>Apartment</td>\n",
       "      <td>2</td>\n",
       "      <td>71</td>\n",
       "      <td>0</td>\n",
       "      <td>0</td>\n",
       "    </tr>\n",
       "    <tr>\n",
       "      <th>9888</th>\n",
       "      <td>30490522</td>\n",
       "      <td>Richmond</td>\n",
       "      <td>House</td>\n",
       "      <td>4</td>\n",
       "      <td>120</td>\n",
       "      <td>0</td>\n",
       "      <td>0</td>\n",
       "    </tr>\n",
       "  </tbody>\n",
       "</table>\n",
       "<p>9889 rows × 7 columns</p>\n",
       "</div>"
      ],
      "text/plain": [
       "      Listing ID         Suburbs property_type  accommodates  Price/Day($)  \\\n",
       "0          12936        St Kilda     Apartment             3           159   \n",
       "1          47100        Richmond     Apartment             2            98   \n",
       "2          50492        St Kilda     Apartment             4           190   \n",
       "3          51592       Melbourne          Loft             4           228   \n",
       "4          66754        Richmond     Apartment             4           138   \n",
       "...          ...             ...           ...           ...           ...   \n",
       "9884    30410904       Melbourne     Apartment             5           156   \n",
       "9885    30468406  Brunswick West         House             6           199   \n",
       "9886    30470482  Port Melbourne     Apartment             4           140   \n",
       "9887    30483362         Preston     Apartment             2            71   \n",
       "9888    30490522        Richmond         House             4           120   \n",
       "\n",
       "      security_deposit ($)  cleaning_fee($)  \n",
       "0                      450              100  \n",
       "1                      200               80  \n",
       "2                      500              110  \n",
       "3                      250               40  \n",
       "4                      450              100  \n",
       "...                    ...              ...  \n",
       "9884                     0               75  \n",
       "9885                     0               60  \n",
       "9886                   250              140  \n",
       "9887                     0                0  \n",
       "9888                     0                0  \n",
       "\n",
       "[9889 rows x 7 columns]"
      ]
     },
     "execution_count": 5,
     "metadata": {},
     "output_type": "execute_result"
    }
   ],
   "source": [
    "# Rename columns for better readability\n",
    "price_data_renamed=price_airbnb_data.rename(columns={\"id\":\"Listing ID\", \n",
    "                                                     \"city\":\"Suburbs\", \n",
    "                                                     \"price\":\"Price/Day($)\", \n",
    "                                                    \"security_deposit\": \"security_deposit ($)\", \n",
    "                                                     \"cleaning_fee\": \"cleaning_fee($)\"})\n",
    "price_data_renamed"
   ]
  },
  {
   "cell_type": "code",
   "execution_count": 6,
   "metadata": {},
   "outputs": [
    {
     "data": {
      "text/plain": [
       "Listing ID               int64\n",
       "Suburbs                 object\n",
       "property_type           object\n",
       "accommodates             int64\n",
       "Price/Day($)             int64\n",
       "security_deposit ($)     int64\n",
       "cleaning_fee($)          int64\n",
       "dtype: object"
      ]
     },
     "execution_count": 6,
     "metadata": {},
     "output_type": "execute_result"
    }
   ],
   "source": [
    "# check datatype to make sure price columns are numerical\n",
    "price_data_renamed.dtypes"
   ]
  },
  {
   "cell_type": "code",
   "execution_count": 7,
   "metadata": {},
   "outputs": [
    {
     "data": {
      "text/plain": [
       "<class 'int'>    9889\n",
       "Name: Price/Day($), dtype: int64"
      ]
     },
     "execution_count": 7,
     "metadata": {},
     "output_type": "execute_result"
    }
   ],
   "source": [
    "# To check for split up of datatypes within the same column\n",
    "price_data_renamed['Price/Day($)'].apply(type).value_counts()"
   ]
  },
  {
   "cell_type": "code",
   "execution_count": 8,
   "metadata": {},
   "outputs": [],
   "source": [
    "# Convert all currency columns to numeric data type.\n",
    "#price_data_renamed[['Price/Day($)','security_deposit ($)','cleaning_fee($)']] = price_data_renamed[['Price/Day($)','security_deposit ($)','cleaning_fee($)']].replace({'\\$': '', ',': ''}, regex=True).astype(float)\n",
    "#price_data_renamed.dtypes"
   ]
  },
  {
   "cell_type": "code",
   "execution_count": 9,
   "metadata": {},
   "outputs": [
    {
     "data": {
      "text/plain": [
       "<matplotlib.axes._subplots.AxesSubplot at 0x2c05c165630>"
      ]
     },
     "execution_count": 9,
     "metadata": {},
     "output_type": "execute_result"
    },
    {
     "data": {
      "image/png": "[encoded data removed]",
      "text/plain": [
       "<Figure size 432x288 with 1 Axes>"
      ]
     },
     "metadata": {
      "needs_background": "light"
     },
     "output_type": "display_data"
    }
   ],
   "source": [
    "# Check via box and whisker plot if there are extreme values in the dataset.\n",
    "price_data_renamed.boxplot(column='Price/Day($)', return_type='axes')"
   ]
  },
  {
   "cell_type": "code",
   "execution_count": 10,
   "metadata": {},
   "outputs": [
    {
     "name": "stdout",
     "output_type": "stream",
     "text": [
      "[    0    12    25    30    39    40    44    46    47    48    50    53\n",
      "    54    55    57    58    60    61    62    64    65    66    68    69\n",
      "    71    72    73    75    76    78    79    80    82    83    84    86\n",
      "    87    89    90    91    93    94    96    97    98   100   101   102\n",
      "   104   105   107   108   109   111   112   114   115   116   118   119\n",
      "   120   121   122   123   125   126   127   129   130   132   133   134\n",
      "   136   137   138   140   141   143   144   145   147   148   150   151\n",
      "   152   154   155   156   158   159   161   162   163   165   166   168\n",
      "   169   170   172   173   174   176   177   179   180   181   183   184\n",
      "   186   187   188   190   191   192   194   195   197   198   199   202\n",
      "   203   205   206   208   209   210   212   213   215   216   217   219\n",
      "   220   221   224   226   227   228   230   233   234   235   237   238\n",
      "   239   241   242   244   245   246   248   249   251   255   256   257\n",
      "   259   260   262   264   266   267   269   270   271   275   277   278\n",
      "   280   285   287   288   289   291   293   295   296   298   299   300\n",
      "   302   305   307   309   310   316   317   318   320   321   323   324\n",
      "   325   327   329   332   334   335   336   338   339   341   343   345\n",
      "   347   349   350   354   357   359   360   361   365   370   371   372\n",
      "   375   379   385   388   390   395   396   397   399   400   406   408\n",
      "   410   415   417   419   425   429   435   440   444   449   450   453\n",
      "   455   460   464   465   471   475   480   485   487   489   490   496\n",
      "   498   500   505   509   519   529   530   534   539   545   550   561\n",
      "   566   580   586   590   595   598   599   610   615   624   646   651\n",
      "   653   670   680   695   699   700   710   720   732   750   779   792\n",
      "   795   799   800   808   820   829   850   862   875   885   890   898\n",
      "   900   921   934   950   959   975   995   999  1023  1045  1139  1200\n",
      "  1250  1395  1400  1449  1501  1737  1771  1784  1800  1888  2171  2475\n",
      " 12624]\n"
     ]
    }
   ],
   "source": [
    "# Making sure unique values show extreme values\n",
    "c=price_data_renamed['Price/Day($)'].unique()\n",
    "c.sort()\n",
    "print(c)"
   ]
  },
  {
   "cell_type": "code",
   "execution_count": 11,
   "metadata": {},
   "outputs": [
    {
     "data": {
      "text/plain": [
       "9885"
      ]
     },
     "execution_count": 11,
     "metadata": {},
     "output_type": "execute_result"
    }
   ],
   "source": [
    "# Clean price data for extreme values i.e. rows with values=0 and <2500 price/day values.\n",
    "price_data_cleaned = price_data_renamed.loc[(price_data_renamed[\"Price/Day($)\"] > 0) &\n",
    "                                            (price_data_renamed[\"Price/Day($)\"] < 2500)]\n",
    "len(price_data_cleaned)"
   ]
  },
  {
   "cell_type": "code",
   "execution_count": 12,
   "metadata": {},
   "outputs": [
    {
     "name": "stdout",
     "output_type": "stream",
     "text": [
      "[  12   25   30   39   40   44   46   47   48   50   53   54   55   57\n",
      "   58   60   61   62   64   65   66   68   69   71   72   73   75   76\n",
      "   78   79   80   82   83   84   86   87   89   90   91   93   94   96\n",
      "   97   98  100  101  102  104  105  107  108  109  111  112  114  115\n",
      "  116  118  119  120  121  122  123  125  126  127  129  130  132  133\n",
      "  134  136  137  138  140  141  143  144  145  147  148  150  151  152\n",
      "  154  155  156  158  159  161  162  163  165  166  168  169  170  172\n",
      "  173  174  176  177  179  180  181  183  184  186  187  188  190  191\n",
      "  192  194  195  197  198  199  202  203  205  206  208  209  210  212\n",
      "  213  215  216  217  219  220  221  224  226  227  228  230  233  234\n",
      "  235  237  238  239  241  242  244  245  246  248  249  251  255  256\n",
      "  257  259  260  262  264  266  267  269  270  271  275  277  278  280\n",
      "  285  287  288  289  291  293  295  296  298  299  300  302  305  307\n",
      "  309  310  316  317  318  320  321  323  324  325  327  329  332  334\n",
      "  335  336  338  339  341  343  345  347  349  350  354  357  359  360\n",
      "  361  365  370  371  372  375  379  385  388  390  395  396  397  399\n",
      "  400  406  408  410  415  417  419  425  429  435  440  444  449  450\n",
      "  453  455  460  464  465  471  475  480  485  487  489  490  496  498\n",
      "  500  505  509  519  529  530  534  539  545  550  561  566  580  586\n",
      "  590  595  598  599  610  615  624  646  651  653  670  680  695  699\n",
      "  700  710  720  732  750  779  792  795  799  800  808  820  829  850\n",
      "  862  875  885  890  898  900  921  934  950  959  975  995  999 1023\n",
      " 1045 1139 1200 1250 1395 1400 1449 1501 1737 1771 1784 1800 1888 2171\n",
      " 2475]\n"
     ]
    }
   ],
   "source": [
    "# Making sure extereme values are removed from dataset.\n",
    "b= price_data_cleaned['Price/Day($)'].unique()\n",
    "b.sort()\n",
    "print(b)"
   ]
  },
  {
   "cell_type": "markdown",
   "metadata": {},
   "source": [
    "### Price/Day for property types Analysis"
   ]
  },
  {
   "cell_type": "markdown",
   "metadata": {},
   "source": [
    "###  Price/Day Vs Suburb Analysis. "
   ]
  },
  {
   "cell_type": "code",
   "execution_count": 13,
   "metadata": {},
   "outputs": [
    {
     "data": {
      "text/plain": [
       "<class 'str'>    9885\n",
       "Name: Suburbs, dtype: int64"
      ]
     },
     "execution_count": 13,
     "metadata": {},
     "output_type": "execute_result"
    }
   ],
   "source": [
    "# Check if entire row is the same datatype.\n",
    "price_data_cleaned['Suburbs'].apply(type).value_counts()"
   ]
  },
  {
   "cell_type": "code",
   "execution_count": 14,
   "metadata": {},
   "outputs": [
    {
     "name": "stdout",
     "output_type": "stream",
     "text": [
      "['St Kilda' 'Richmond' 'Melbourne' 'Fitzroy' 'Thornbury' 'Clifton Hill'\n",
      " 'St Kilda East' 'Yarraville' 'Ivanhoe' 'Elwood' 'Middle Park' 'Carlton'\n",
      " 'Hadfield' 'Parkville' 'North Melbourne' 'Caulfield North' 'Collingwood'\n",
      " 'Southbank' 'South Yarra' 'Windsor' 'Abbotsford' 'East Melbourne'\n",
      " 'Balaclava' 'Brunswick' 'Caulfield' 'Elsternwick' 'Kooyong' 'Flemington'\n",
      " 'Hawthorn East' 'South Melbourne' 'Port Melbourne' 'Maidstone' 'Brighton'\n",
      " 'Caulfield South' 'St Kilda West' 'Brunswick East' 'Seddon' 'Alphington'\n",
      " 'Burnley' 'Fairfield' 'Northcote' 'Fitzroy North' 'Kew' 'Toorak'\n",
      " 'Docklands' 'Glen Iris' 'Travancore' 'Gardenvale' 'Heidelberg Heights'\n",
      " 'Prahran' 'Coburg' 'Pascoe Vale South' 'Newport' 'Cremorne' 'Heidelberg'\n",
      " 'Maribyrnong' 'Glen Huntly' 'Moonee Ponds' 'Footscray' 'Brunswick West'\n",
      " 'Malvern East' 'West Melbourne' 'Williamstown' 'Kensington' 'Albert Park'\n",
      " 'West Footscray' 'Armadale' 'Brighton East' 'Ascot Vale' 'Kew East'\n",
      " 'Camberwell' 'Hawthorn' 'Reservoir' 'Preston' 'Princes Hill'\n",
      " 'North Fitzroy' 'Coburg North' 'Caulfield East' 'Eaglemont' 'Strathmore'\n",
      " 'Kingsville' 'Malvern' 'South Kingsville' 'Carlton North' 'Ripponlea'\n",
      " 'Carnegie' 'Ivanhoe East' 'Ormond' 'Balwyn' 'Airport West'\n",
      " 'Essendon West' 'Essendon' 'Missing' 'Ashburton' 'Spotswood'\n",
      " 'Keilor East' 'Altona North' 'Canterbury' 'City of Port Phillip'\n",
      " 'Oak Park' 'Balwyn North' 'Moreland City' 'Surrey Hills' 'Sunshine'\n",
      " 'Rosanna' 'Williamstown North' 'Bellfield' 'Braybrook'\n",
      " 'Port Phillip City' 'Pascoe Vale' 'Preston West' 'Niddrie' 'Fawkner'\n",
      " 'South Wharf' 'Brooklyn' 'Essendon North']\n",
      "116\n"
     ]
    }
   ],
   "source": [
    "suburb_names = price_data_cleaned['Suburbs'].unique()\n",
    "print(suburb_names)\n",
    "print(len(suburb_names))"
   ]
  },
  {
   "cell_type": "code",
   "execution_count": 15,
   "metadata": {},
   "outputs": [
    {
     "name": "stdout",
     "output_type": "stream",
     "text": [
      "Apartment             7390\n",
      "House                 1131\n",
      "Townhouse              377\n",
      "Condominium            323\n",
      "Serviced apartment     280\n",
      "Loft                   125\n",
      "Guesthouse              93\n",
      "Guest suite             70\n",
      "Bungalow                33\n",
      "Villa                   21\n",
      "Cottage                 12\n",
      "Tiny house               8\n",
      "Boat                     6\n",
      "Other                    5\n",
      "Barn                     3\n",
      "Bed and breakfast        2\n",
      "Cabin                    1\n",
      "Resort                   1\n",
      "Nature lodge             1\n",
      "Castle                   1\n",
      "Camper/RV                1\n",
      "Treehouse                1\n",
      "Name: property_type, dtype: int64\n"
     ]
    }
   ],
   "source": [
    "# Get all unique property types.\n",
    "unique_property = price_data_cleaned['property_type'].value_counts()\n",
    "print(unique_property)"
   ]
  },
  {
   "cell_type": "code",
   "execution_count": 17,
   "metadata": {},
   "outputs": [
    {
     "data": {
      "text/html": [
       "<div>\n",
       "<style scoped>\n",
       "    .dataframe tbody tr th:only-of-type {\n",
       "        vertical-align: middle;\n",
       "    }\n",
       "\n",
       "    .dataframe tbody tr th {\n",
       "        vertical-align: top;\n",
       "    }\n",
       "\n",
       "    .dataframe thead th {\n",
       "        text-align: right;\n",
       "    }\n",
       "</style>\n",
       "<table border=\"1\" class=\"dataframe\">\n",
       "  <thead>\n",
       "    <tr style=\"text-align: right;\">\n",
       "      <th></th>\n",
       "      <th>Suburbs</th>\n",
       "      <th>property_type</th>\n",
       "      <th>accommodates</th>\n",
       "      <th>Price/Day($)</th>\n",
       "    </tr>\n",
       "  </thead>\n",
       "  <tbody>\n",
       "    <tr>\n",
       "      <th>0</th>\n",
       "      <td>St Kilda</td>\n",
       "      <td>Apartment</td>\n",
       "      <td>3</td>\n",
       "      <td>159</td>\n",
       "    </tr>\n",
       "    <tr>\n",
       "      <th>1</th>\n",
       "      <td>Richmond</td>\n",
       "      <td>Apartment</td>\n",
       "      <td>2</td>\n",
       "      <td>98</td>\n",
       "    </tr>\n",
       "    <tr>\n",
       "      <th>2</th>\n",
       "      <td>St Kilda</td>\n",
       "      <td>Apartment</td>\n",
       "      <td>4</td>\n",
       "      <td>190</td>\n",
       "    </tr>\n",
       "    <tr>\n",
       "      <th>4</th>\n",
       "      <td>Richmond</td>\n",
       "      <td>Apartment</td>\n",
       "      <td>4</td>\n",
       "      <td>138</td>\n",
       "    </tr>\n",
       "    <tr>\n",
       "      <th>7</th>\n",
       "      <td>Clifton Hill</td>\n",
       "      <td>Apartment</td>\n",
       "      <td>4</td>\n",
       "      <td>180</td>\n",
       "    </tr>\n",
       "    <tr>\n",
       "      <th>...</th>\n",
       "      <td>...</td>\n",
       "      <td>...</td>\n",
       "      <td>...</td>\n",
       "      <td>...</td>\n",
       "    </tr>\n",
       "    <tr>\n",
       "      <th>9882</th>\n",
       "      <td>Melbourne</td>\n",
       "      <td>Apartment</td>\n",
       "      <td>2</td>\n",
       "      <td>134</td>\n",
       "    </tr>\n",
       "    <tr>\n",
       "      <th>9883</th>\n",
       "      <td>Melbourne</td>\n",
       "      <td>Apartment</td>\n",
       "      <td>3</td>\n",
       "      <td>112</td>\n",
       "    </tr>\n",
       "    <tr>\n",
       "      <th>9884</th>\n",
       "      <td>Melbourne</td>\n",
       "      <td>Apartment</td>\n",
       "      <td>5</td>\n",
       "      <td>156</td>\n",
       "    </tr>\n",
       "    <tr>\n",
       "      <th>9886</th>\n",
       "      <td>Port Melbourne</td>\n",
       "      <td>Apartment</td>\n",
       "      <td>4</td>\n",
       "      <td>140</td>\n",
       "    </tr>\n",
       "    <tr>\n",
       "      <th>9887</th>\n",
       "      <td>Preston</td>\n",
       "      <td>Apartment</td>\n",
       "      <td>2</td>\n",
       "      <td>71</td>\n",
       "    </tr>\n",
       "  </tbody>\n",
       "</table>\n",
       "<p>7390 rows × 4 columns</p>\n",
       "</div>"
      ],
      "text/plain": [
       "             Suburbs property_type  accommodates  Price/Day($)\n",
       "0           St Kilda     Apartment             3           159\n",
       "1           Richmond     Apartment             2            98\n",
       "2           St Kilda     Apartment             4           190\n",
       "4           Richmond     Apartment             4           138\n",
       "7       Clifton Hill     Apartment             4           180\n",
       "...              ...           ...           ...           ...\n",
       "9882       Melbourne     Apartment             2           134\n",
       "9883       Melbourne     Apartment             3           112\n",
       "9884       Melbourne     Apartment             5           156\n",
       "9886  Port Melbourne     Apartment             4           140\n",
       "9887         Preston     Apartment             2            71\n",
       "\n",
       "[7390 rows x 4 columns]"
      ]
     },
     "execution_count": 17,
     "metadata": {},
     "output_type": "execute_result"
    }
   ],
   "source": [
    "# Limiting suburb analysis to only entire apartments.\n",
    "only_apartment = price_data_cleaned.loc[(price_data_cleaned[\"property_type\"]==\"Apartment\"),['Suburbs','property_type','accommodates','Price/Day($)']]\n",
    "only_apartment"
   ]
  },
  {
   "cell_type": "code",
   "execution_count": null,
   "metadata": {},
   "outputs": [],
   "source": [
    "# Create a new column for price/day/person and fill calculated values\n",
    "\n"
   ]
  },
  {
   "cell_type": "code",
   "execution_count": 18,
   "metadata": {},
   "outputs": [
    {
     "name": "stdout",
     "output_type": "stream",
     "text": [
      "4     2442\n",
      "2     2248\n",
      "6      971\n",
      "3      757\n",
      "5      590\n",
      "8      123\n",
      "7      108\n",
      "10      33\n",
      "9       32\n",
      "1       30\n",
      "12      21\n",
      "11      12\n",
      "16      10\n",
      "13       6\n",
      "14       4\n",
      "15       3\n",
      "Name: accommodates, dtype: int64\n"
     ]
    }
   ],
   "source": [
    "# Check the distribution of data for no. of people an apartment can accomodate\n",
    "unique_accomodates = only_apartment['accommodates'].value_counts()\n",
    "print(unique_accomodates)"
   ]
  },
  {
   "cell_type": "code",
   "execution_count": 19,
   "metadata": {},
   "outputs": [
    {
     "name": "stdout",
     "output_type": "stream",
     "text": [
      "        Suburbs property_type  accommodates  Price/Day($)\n",
      "0      St Kilda     Apartment             3           159\n",
      "1      Richmond     Apartment             2            98\n",
      "2      St Kilda     Apartment             4           190\n",
      "4      Richmond     Apartment             4           138\n",
      "7  Clifton Hill     Apartment             4           180\n",
      "7008\n"
     ]
    }
   ],
   "source": [
    "# Limit analysis to apartments that can accomodate smaller groups i.e. 2-6 people. Check no.of datapoints after.\n",
    "apartment_accomodate = only_apartment.loc[(only_apartment[\"accommodates\"] >= 2) & (only_apartment[\"accommodates\"] <= 6)]\n",
    "print(apartment_accomodate.head())\n",
    "print(len(apartment_accomodate))"
   ]
  },
  {
   "cell_type": "code",
   "execution_count": 20,
   "metadata": {},
   "outputs": [
    {
     "data": {
      "text/plain": [
       "NormaltestResult(statistic=25.456017364761195, pvalue=2.9668532388237555e-06)"
      ]
     },
     "execution_count": 20,
     "metadata": {},
     "output_type": "execute_result"
    }
   ],
   "source": [
    "# check if price/day data is normally distributed\n",
    "#plt.hist(price_data_renamed['Price/Day($)'])\n",
    "normal_test = sts.normaltest(apartment_accomodate['Price/Day($)'].sample(70))\n",
    "normal_test"
   ]
  },
  {
   "cell_type": "code",
   "execution_count": 21,
   "metadata": {},
   "outputs": [
    {
     "data": {
      "text/plain": [
       "<matplotlib.axes._subplots.AxesSubplot at 0x2c05c8dc198>"
      ]
     },
     "execution_count": 21,
     "metadata": {},
     "output_type": "execute_result"
    },
    {
     "data": {
      "image/png": "[encoded data removed]",
      "text/plain": [
       "<Figure size 432x288 with 1 Axes>"
      ]
     },
     "metadata": {
      "needs_background": "light"
     },
     "output_type": "display_data"
    }
   ],
   "source": [
    "apartment_accomodate.boxplot(column='Price/Day($)', return_type='axes')"
   ]
  },
  {
   "cell_type": "code",
   "execution_count": 22,
   "metadata": {},
   "outputs": [
    {
     "name": "stdout",
     "output_type": "stream",
     "text": [
      "The lower quartile of price/day for entire apartments is: 104.0\n",
      "The upper quartile of price/day for entire apartment is: 163.0\n",
      "The interquartile range of price/day for entire apartment is: 59.0\n",
      "The the median of price/days for entire apartment is: 130.0 \n",
      "Values below 15.5 could be outliers.\n",
      "Values above 251.5 could be outliers.\n"
     ]
    }
   ],
   "source": [
    "prices=apartment_accomodate['Price/Day($)']\n",
    "quartiles = prices.quantile([.25,.5,.75])\n",
    "lowerq = quartiles[0.25]\n",
    "upperq = quartiles[0.75]\n",
    "iqr = upperq-lowerq\n",
    "\n",
    "print(f\"The lower quartile of price/day for entire apartments is: {lowerq}\")\n",
    "print(f\"The upper quartile of price/day for entire apartment is: {upperq}\")\n",
    "print(f\"The interquartile range of price/day for entire apartment is: {iqr}\")\n",
    "print(f\"The the median of price/days for entire apartment is: {quartiles[0.5]} \")\n",
    "\n",
    "lower_bound = lowerq - (1.5*iqr)\n",
    "upper_bound = upperq + (1.5*iqr)\n",
    "print(f\"Values below {lower_bound} could be outliers.\")\n",
    "print(f\"Values above {upper_bound} could be outliers.\")"
   ]
  },
  {
   "cell_type": "code",
   "execution_count": 30,
   "metadata": {},
   "outputs": [
    {
     "data": {
      "text/plain": [
       "6663"
      ]
     },
     "execution_count": 30,
     "metadata": {},
     "output_type": "execute_result"
    }
   ],
   "source": [
    "# If we filter data to exclude all outlier bounds as per calculated data, we are only left with 345 data points. \n",
    "# This is because different property types will have different price ranges.  \n",
    "outlier_filtered = apartment_accomodate.loc[(apartment_accomodate['Price/Day($)'] > lower_bound)\n",
    "                                        &(apartment_accomodate['Price/Day($)'] < upper_bound)]\n",
    "len(outlier_filtered)"
   ]
  },
  {
   "cell_type": "code",
   "execution_count": 29,
   "metadata": {},
   "outputs": [
    {
     "data": {
      "text/plain": [
       "<matplotlib.axes._subplots.AxesSubplot at 0x2c05ca03a58>"
      ]
     },
     "execution_count": 29,
     "metadata": {},
     "output_type": "execute_result"
    },
    {
     "data": {
      "image/png": "[encoded data removed]",
      "text/plain": [
       "<Figure size 432x288 with 1 Axes>"
      ]
     },
     "metadata": {
      "needs_background": "light"
     },
     "output_type": "display_data"
    }
   ],
   "source": [
    "# Create box and whisker plot to check if data is rid of ouliers.\n",
    "outlier_filtered.boxplot(column='Price/Day($)', return_type='axes')"
   ]
  },
  {
   "cell_type": "code",
   "execution_count": 130,
   "metadata": {},
   "outputs": [
    {
     "data": {
      "text/plain": [
       "Suburbs\n",
       "Maribyrnong           144.307692\n",
       "Malvern East          144.923077\n",
       "South Kingsville      145.000000\n",
       "Port Melbourne        146.402778\n",
       "Southbank             155.614754\n",
       "Cremorne              157.500000\n",
       "Brighton              157.650000\n",
       "South Wharf           159.000000\n",
       "Middle Park           177.357143\n",
       "Heidelberg Heights    195.000000\n",
       "Name: Price/Day($), dtype: float64"
      ]
     },
     "execution_count": 130,
     "metadata": {},
     "output_type": "execute_result"
    }
   ],
   "source": [
    "## TOP 10 Suburbs\n",
    "# Grouping apartments accomodating small groupsizes of 2-6 based on suburbs, find average price/day and get top 10 suburbs.\n",
    "grouped_top = outlier_filtered.groupby(\"Suburbs\")['Price/Day($)'].mean().sort_values().tail(10)\n",
    "grouped_top"
   ]
  },
  {
   "cell_type": "code",
   "execution_count": 114,
   "metadata": {},
   "outputs": [
    {
     "data": {
      "image/png": "[encoded data removed]",
      "text/plain": [
       "<Figure size 720x576 with 1 Axes>"
      ]
     },
     "metadata": {
      "needs_background": "light"
     },
     "output_type": "display_data"
    }
   ],
   "source": [
    "# Plot the top 10 suburbs with highest averageper/day prices.\n",
    "bplot=grouped_top.plot(kind=\"barh\",figsize=(10,8),color=\"green\")\n",
    "plt.xlabel(\"Average Price/Day (in $)\")\n",
    "plt.title(\"Top 10 Suburbs with Highest Average Price/Day\")\n",
    "for b in bplot.patches:\n",
    "    width = b.get_width()\n",
    "    plt.text(8+b.get_width(), b.get_y()+0.55*b.get_height(),\n",
    "             '{:1.2f}'.format(width),\n",
    "             ha='center', va='center')"
   ]
  },
  {
   "cell_type": "code",
   "execution_count": 133,
   "metadata": {},
   "outputs": [
    {
     "name": "stdout",
     "output_type": "stream",
     "text": [
      "Top 10 Suburbs with Highest Average Price/Day (Entire Apartments accomodating 2-6 guests only) are : \n",
      "-----------------------------------------\n",
      "Maribyrnong has an average per/day price of $144.0\n",
      "Malvern East has an average per/day price of $145.0\n",
      "South Kingsville has an average per/day price of $145.0\n",
      "Port Melbourne has an average per/day price of $146.0\n",
      "Southbank has an average per/day price of $156.0\n",
      "Cremorne has an average per/day price of $158.0\n",
      "Brighton has an average per/day price of $158.0\n",
      "South Wharf has an average per/day price of $159.0\n",
      "Middle Park has an average per/day price of $177.0\n",
      "Heidelberg Heights has an average per/day price of $195.0\n"
     ]
    }
   ],
   "source": [
    "## Print Output Data.\n",
    "\n",
    "# convert top10 dataseries to a Dataframe\n",
    "grouped_top_DF=pd.DataFrame(grouped_top)\n",
    "grouped_top_DF.reset_index(level=0, inplace=True)\n",
    "grouped_top_DF\n",
    "\n",
    "print(\"Top 10 Suburbs with Highest Average Price/Day (Entire Apartments accomodating 2-6 guests only) are : \")\n",
    "print(\"-----------------------------------------\")\n",
    "for i in range(0,10):\n",
    "    suburb_name=grouped_top_DF.iloc[i,0]\n",
    "    suburb_price=round(grouped_top_DF.iloc[i,1],0)\n",
    "    print(f\"{suburb_name} has an average per/day price of ${suburb_price}\")"
   ]
  },
  {
   "cell_type": "code",
   "execution_count": 134,
   "metadata": {},
   "outputs": [
    {
     "data": {
      "text/plain": [
       "Suburbs\n",
       "Hadfield          60.000000\n",
       "Caulfield East    70.000000\n",
       "Brighton East     77.500000\n",
       "Eaglemont         79.000000\n",
       "Fairfield         83.000000\n",
       "Kew East          84.000000\n",
       "Ormond            84.666667\n",
       "Carnegie          86.400000\n",
       "Thornbury         88.580645\n",
       "West Footscray    89.666667\n",
       "Name: Price/Day($), dtype: float64"
      ]
     },
     "execution_count": 134,
     "metadata": {},
     "output_type": "execute_result"
    }
   ],
   "source": [
    "## BOTTOM 10 Suburbs\n",
    "# Grouping apartments accomodating small groupsizes of 2-6 based on suburbs, find average price/day and get top 10 suburbs.\n",
    "grouped_bottom = outlier_filtered.groupby(\"Suburbs\")['Price/Day($)'].mean().sort_values().head(10)\n",
    "grouped_bottom"
   ]
  },
  {
   "cell_type": "code",
   "execution_count": 135,
   "metadata": {},
   "outputs": [
    {
     "data": {
      "image/png": "[encoded data removed]",
      "text/plain": [
       "<Figure size 720x576 with 1 Axes>"
      ]
     },
     "metadata": {
      "needs_background": "light"
     },
     "output_type": "display_data"
    }
   ],
   "source": [
    "# Plot the bottom 10 suburbs with lowest averageper/day prices.\n",
    "bplot2=grouped_bottom.plot(kind=\"barh\",figsize=(10,8),color=\"orange\")\n",
    "plt.xlabel(\"Average Price/Day (in $)\")\n",
    "plt.title(\"Bottom 10 Suburbs with Lowest Average Price/Day\")\n",
    "for b in bplot2.patches:\n",
    "    width = b.get_width()\n",
    "    plt.text(3+b.get_width(), b.get_y()+0.55*b.get_height(),\n",
    "             '{:1.2f}'.format(width),\n",
    "             ha='center', va='center')"
   ]
  },
  {
   "cell_type": "code",
   "execution_count": 136,
   "metadata": {},
   "outputs": [
    {
     "name": "stdout",
     "output_type": "stream",
     "text": [
      "Top 10 Suburbs with Highest Average Price/Day (Entire Apartments accomodating 2-6 guests only) are : \n",
      "-----------------------------------------\n",
      "Hadfield has an average per/day price of $60.0\n",
      "Caulfield East has an average per/day price of $70.0\n",
      "Brighton East has an average per/day price of $78.0\n",
      "Eaglemont has an average per/day price of $79.0\n",
      "Fairfield has an average per/day price of $83.0\n",
      "Kew East has an average per/day price of $84.0\n",
      "Ormond has an average per/day price of $85.0\n",
      "Carnegie has an average per/day price of $86.0\n",
      "Thornbury has an average per/day price of $89.0\n",
      "West Footscray has an average per/day price of $90.0\n"
     ]
    }
   ],
   "source": [
    "## Print Output Data.\n",
    "\n",
    "# convert bottom 10 dataseries to a Dataframe\n",
    "grouped_bottom_DF=pd.DataFrame(grouped_bottom)\n",
    "grouped_bottom_DF.reset_index(level=0, inplace=True)\n",
    "grouped_bottom_DF\n",
    "\n",
    "print(\"Top 10 Suburbs with Highest Average Price/Day (Entire Apartments accomodating 2-6 guests only) are : \")\n",
    "print(\"-----------------------------------------\")\n",
    "for i in range(0,10):\n",
    "    suburb_name=grouped_bottom_DF.iloc[i,0]\n",
    "    suburb_price=round(grouped_bottom_DF.iloc[i,1],0)\n",
    "    print(f\"{suburb_name} has an average per/day price of ${suburb_price}\")"
   ]
  },
  {
   "cell_type": "markdown",
   "metadata": {},
   "source": [
    "### FOR EXPLANATION ONLY"
   ]
  },
  {
   "cell_type": "markdown",
   "metadata": {},
   "source": [
    "#Checking if median yeilds similar results.\n",
    "#apt_acc_grouped_med = apt_acc_grouped.groupby([\"Suburbs\"]).median()\n",
    "#apt_acc_grouped2_med"
   ]
  },
  {
   "cell_type": "markdown",
   "metadata": {},
   "source": [
    "#Checking if median yeilds similar results.Note: Indeed getting similar ratings\n",
    "#topsuburbs_med = apt_acc_grouped2_med.sort_values(\"Price/Day($)\",ascending=False)\n",
    "#topsuburbs_med.head(10)"
   ]
  },
  {
   "cell_type": "markdown",
   "metadata": {},
   "source": [
    "### Price/Day based on Property_Type and No. of guests"
   ]
  },
  {
   "cell_type": "code",
   "execution_count": 137,
   "metadata": {},
   "outputs": [
    {
     "name": "stdout",
     "output_type": "stream",
     "text": [
      "Apartment             7390\n",
      "House                 1131\n",
      "Townhouse              377\n",
      "Condominium            323\n",
      "Serviced apartment     280\n",
      "Loft                   125\n",
      "Guesthouse              93\n",
      "Guest suite             70\n",
      "Bungalow                33\n",
      "Villa                   21\n",
      "Cottage                 12\n",
      "Tiny house               8\n",
      "Boat                     6\n",
      "Other                    5\n",
      "Barn                     3\n",
      "Bed and breakfast        2\n",
      "Cabin                    1\n",
      "Resort                   1\n",
      "Nature lodge             1\n",
      "Castle                   1\n",
      "Camper/RV                1\n",
      "Treehouse                1\n",
      "Name: property_type, dtype: int64\n"
     ]
    }
   ],
   "source": [
    "# Get all unique property types.\n",
    "unique_property = price_data_cleaned['property_type'].value_counts()\n",
    "print(unique_property)"
   ]
  },
  {
   "cell_type": "code",
   "execution_count": 140,
   "metadata": {},
   "outputs": [
    {
     "data": {
      "text/html": [
       "<div>\n",
       "<style scoped>\n",
       "    .dataframe tbody tr th:only-of-type {\n",
       "        vertical-align: middle;\n",
       "    }\n",
       "\n",
       "    .dataframe tbody tr th {\n",
       "        vertical-align: top;\n",
       "    }\n",
       "\n",
       "    .dataframe thead th {\n",
       "        text-align: right;\n",
       "    }\n",
       "</style>\n",
       "<table border=\"1\" class=\"dataframe\">\n",
       "  <thead>\n",
       "    <tr style=\"text-align: right;\">\n",
       "      <th></th>\n",
       "      <th>Listing ID</th>\n",
       "      <th>Suburbs</th>\n",
       "      <th>property_type</th>\n",
       "      <th>accommodates</th>\n",
       "      <th>Price/Day($)</th>\n",
       "      <th>security_deposit ($)</th>\n",
       "      <th>cleaning_fee($)</th>\n",
       "    </tr>\n",
       "  </thead>\n",
       "  <tbody>\n",
       "    <tr>\n",
       "      <th>0</th>\n",
       "      <td>12936</td>\n",
       "      <td>St Kilda</td>\n",
       "      <td>Apartment</td>\n",
       "      <td>3</td>\n",
       "      <td>159</td>\n",
       "      <td>450</td>\n",
       "      <td>100</td>\n",
       "    </tr>\n",
       "    <tr>\n",
       "      <th>1</th>\n",
       "      <td>47100</td>\n",
       "      <td>Richmond</td>\n",
       "      <td>Apartment</td>\n",
       "      <td>2</td>\n",
       "      <td>98</td>\n",
       "      <td>200</td>\n",
       "      <td>80</td>\n",
       "    </tr>\n",
       "    <tr>\n",
       "      <th>2</th>\n",
       "      <td>50492</td>\n",
       "      <td>St Kilda</td>\n",
       "      <td>Apartment</td>\n",
       "      <td>4</td>\n",
       "      <td>190</td>\n",
       "      <td>500</td>\n",
       "      <td>110</td>\n",
       "    </tr>\n",
       "    <tr>\n",
       "      <th>3</th>\n",
       "      <td>51592</td>\n",
       "      <td>Melbourne</td>\n",
       "      <td>Loft</td>\n",
       "      <td>4</td>\n",
       "      <td>228</td>\n",
       "      <td>250</td>\n",
       "      <td>40</td>\n",
       "    </tr>\n",
       "    <tr>\n",
       "      <th>4</th>\n",
       "      <td>66754</td>\n",
       "      <td>Richmond</td>\n",
       "      <td>Apartment</td>\n",
       "      <td>4</td>\n",
       "      <td>138</td>\n",
       "      <td>450</td>\n",
       "      <td>100</td>\n",
       "    </tr>\n",
       "    <tr>\n",
       "      <th>...</th>\n",
       "      <td>...</td>\n",
       "      <td>...</td>\n",
       "      <td>...</td>\n",
       "      <td>...</td>\n",
       "      <td>...</td>\n",
       "      <td>...</td>\n",
       "      <td>...</td>\n",
       "    </tr>\n",
       "    <tr>\n",
       "      <th>9884</th>\n",
       "      <td>30410904</td>\n",
       "      <td>Melbourne</td>\n",
       "      <td>Apartment</td>\n",
       "      <td>5</td>\n",
       "      <td>156</td>\n",
       "      <td>0</td>\n",
       "      <td>75</td>\n",
       "    </tr>\n",
       "    <tr>\n",
       "      <th>9885</th>\n",
       "      <td>30468406</td>\n",
       "      <td>Brunswick West</td>\n",
       "      <td>House</td>\n",
       "      <td>6</td>\n",
       "      <td>199</td>\n",
       "      <td>0</td>\n",
       "      <td>60</td>\n",
       "    </tr>\n",
       "    <tr>\n",
       "      <th>9886</th>\n",
       "      <td>30470482</td>\n",
       "      <td>Port Melbourne</td>\n",
       "      <td>Apartment</td>\n",
       "      <td>4</td>\n",
       "      <td>140</td>\n",
       "      <td>250</td>\n",
       "      <td>140</td>\n",
       "    </tr>\n",
       "    <tr>\n",
       "      <th>9887</th>\n",
       "      <td>30483362</td>\n",
       "      <td>Preston</td>\n",
       "      <td>Apartment</td>\n",
       "      <td>2</td>\n",
       "      <td>71</td>\n",
       "      <td>0</td>\n",
       "      <td>0</td>\n",
       "    </tr>\n",
       "    <tr>\n",
       "      <th>9888</th>\n",
       "      <td>30490522</td>\n",
       "      <td>Richmond</td>\n",
       "      <td>House</td>\n",
       "      <td>4</td>\n",
       "      <td>120</td>\n",
       "      <td>0</td>\n",
       "      <td>0</td>\n",
       "    </tr>\n",
       "  </tbody>\n",
       "</table>\n",
       "<p>9303 rows × 7 columns</p>\n",
       "</div>"
      ],
      "text/plain": [
       "      Listing ID         Suburbs property_type  accommodates  Price/Day($)  \\\n",
       "0          12936        St Kilda     Apartment             3           159   \n",
       "1          47100        Richmond     Apartment             2            98   \n",
       "2          50492        St Kilda     Apartment             4           190   \n",
       "3          51592       Melbourne          Loft             4           228   \n",
       "4          66754        Richmond     Apartment             4           138   \n",
       "...          ...             ...           ...           ...           ...   \n",
       "9884    30410904       Melbourne     Apartment             5           156   \n",
       "9885    30468406  Brunswick West         House             6           199   \n",
       "9886    30470482  Port Melbourne     Apartment             4           140   \n",
       "9887    30483362         Preston     Apartment             2            71   \n",
       "9888    30490522        Richmond         House             4           120   \n",
       "\n",
       "      security_deposit ($)  cleaning_fee($)  \n",
       "0                      450              100  \n",
       "1                      200               80  \n",
       "2                      500              110  \n",
       "3                      250               40  \n",
       "4                      450              100  \n",
       "...                    ...              ...  \n",
       "9884                     0               75  \n",
       "9885                     0               60  \n",
       "9886                   250              140  \n",
       "9887                     0                0  \n",
       "9888                     0                0  \n",
       "\n",
       "[9303 rows x 7 columns]"
      ]
     },
     "execution_count": 140,
     "metadata": {},
     "output_type": "execute_result"
    }
   ],
   "source": [
    "# Filter property_type to keep those with more than 100 datapoints.\n",
    "type_price_data = price_data_cleaned.loc[(price_data_cleaned[\"property_type\"]==\"Apartment\") | \n",
    "                                             (price_data_cleaned[\"property_type\"]==\"House\") |\n",
    "                                            (price_data_cleaned[\"property_type\"]==\"Townhouse\") |\n",
    "                                            (price_data_cleaned[\"property_type\"]==\"HouseCondominium\") |\n",
    "                                            (price_data_cleaned[\"property_type\"]==\"Serviced apartment\") |\n",
    "                                            (price_data_cleaned[\"property_type\"]==\"Loft\") ,:]\n",
    "                                            #(price_data_cleaned[\"property_type\"]==\"Guesthouse\"),:]\n",
    "type_price_data"
   ]
  },
  {
   "cell_type": "code",
   "execution_count": 141,
   "metadata": {},
   "outputs": [
    {
     "name": "stdout",
     "output_type": "stream",
     "text": [
      "4     3054\n",
      "2     2484\n",
      "6     1401\n",
      "3      854\n",
      "5      788\n",
      "8      258\n",
      "7      197\n",
      "10      69\n",
      "9       47\n",
      "12      41\n",
      "1       34\n",
      "16      29\n",
      "11      16\n",
      "13      14\n",
      "14      11\n",
      "15       6\n",
      "Name: accommodates, dtype: int64\n"
     ]
    }
   ],
   "source": [
    "# Get the unique values of no. of people accomodated\n",
    "unique_acc = type_price_data['accommodates'].value_counts()\n",
    "print(unique_acc)"
   ]
  },
  {
   "cell_type": "code",
   "execution_count": 143,
   "metadata": {},
   "outputs": [
    {
     "name": "stdout",
     "output_type": "stream",
     "text": [
      "   Listing ID    Suburbs property_type  accommodates  Price/Day($)  \\\n",
      "0       12936   St Kilda     Apartment             3           159   \n",
      "1       47100   Richmond     Apartment             2            98   \n",
      "2       50492   St Kilda     Apartment             4           190   \n",
      "3       51592  Melbourne          Loft             4           228   \n",
      "4       66754   Richmond     Apartment             4           138   \n",
      "\n",
      "   security_deposit ($)  cleaning_fee($)  \n",
      "0                   450              100  \n",
      "1                   200               80  \n",
      "2                   500              110  \n",
      "3                   250               40  \n",
      "4                   450              100  \n",
      "8581\n"
     ]
    }
   ],
   "source": [
    "# Again limiting the analysis to smalled groups of 2-6 people\n",
    "type_accomodate = type_price_data.loc[(type_price_data[\"accommodates\"] >= 2) & (type_price_data[\"accommodates\"] <= 6)]\n",
    "print(type_accomodate.head())\n",
    "print(len(type_accomodate))"
   ]
  },
  {
   "cell_type": "code",
   "execution_count": null,
   "metadata": {},
   "outputs": [],
   "source": [
    "topsuburbs_df = grouped_suburb.sort_values(\"Price/Day($)\",ascending=False)\n",
    "topsuburbs_df.head(10)"
   ]
  },
  {
   "cell_type": "code",
   "execution_count": null,
   "metadata": {},
   "outputs": [],
   "source": [
    "# check if price/day data is normally distributed\n",
    "#plt.hist(price_data_renamed['Price/Day($)'])\n",
    "normal_test = sts.normaltest(only_apartment['Price/Day($)'].sample(500))\n",
    "normal_test"
   ]
  },
  {
   "cell_type": "code",
   "execution_count": null,
   "metadata": {},
   "outputs": [],
   "source": [
    "only_apartment.boxplot(column='Price/Day($)', return_type='axes')"
   ]
  },
  {
   "cell_type": "code",
   "execution_count": null,
   "metadata": {},
   "outputs": [],
   "source": [
    "prices=only_apartment['Price/Day($)']\n",
    "quartiles = prices.quantile([.25,.5,.75])\n",
    "lowerq = quartiles[0.25]\n",
    "upperq = quartiles[0.75]\n",
    "iqr = upperq-lowerq\n",
    "\n",
    "print(f\"The lower quartile of price/day for enitre apartments is: {lowerq}\")\n",
    "print(f\"The upper quartile of price/day for enitre apartment is: {upperq}\")\n",
    "print(f\"The interquartile range of price/day for enitre apartment is: {iqr}\")\n",
    "print(f\"The the median of price/days for enitre apartment is: {quartiles[0.5]} \")\n",
    "\n",
    "lower_bound = lowerq - (1.5*iqr)\n",
    "upper_bound = upperq + (1.5*iqr)\n",
    "print(f\"Values below {lower_bound} could be outliers.\")\n",
    "print(f\"Values above {upper_bound} could be outliers.\")"
   ]
  },
  {
   "cell_type": "code",
   "execution_count": null,
   "metadata": {},
   "outputs": [],
   "source": [
    "# If we filter data to exclude all outlier bounds as per calculated data, we are only left with 462 data points. \n",
    "# This is because different property types will have different price ranges.  \n",
    "outlier_price_check = only_apartment.loc[(price_data_cleaned2['Price/Day($)'] < lower_bound) | \n",
    "                                            (price_data_cleaned2['Price/Day($)'] > upper_bound)]\n",
    "len(outlier_price_check)"
   ]
  },
  {
   "cell_type": "code",
   "execution_count": null,
   "metadata": {},
   "outputs": [],
   "source": [
    "# Hence based on box and whisker plot, we can remove only extreme outliers i.e any data with price/day more than $2000.\n",
    "outlier_prices_df = price_data_cleaned2.loc[(price_data_cleaned2['Price/Day($)'] <= 2000)]\n",
    "outlier_prices_df"
   ]
  },
  {
   "cell_type": "code",
   "execution_count": null,
   "metadata": {},
   "outputs": [],
   "source": [
    "suburb_type_sorted=outlier_prices_df.groupby(['Suburbs','property_type']).mean()\n",
    "suburb_type_sorted"
   ]
  },
  {
   "cell_type": "code",
   "execution_count": null,
   "metadata": {},
   "outputs": [],
   "source": [
    "# For suburb based analysis, get the relevant columns.\n",
    "suburb_analysis_df = outlier_prices_df[[\"Suburbs\",\"property_type\",\"Price/Day($)\"]]\n",
    "suburb_analysis_df"
   ]
  },
  {
   "cell_type": "code",
   "execution_count": null,
   "metadata": {},
   "outputs": [],
   "source": [
    "grouped_suburb=suburb_analysis_df.groupby(['Suburbs']).mean()\n",
    "grouped_suburb"
   ]
  },
  {
   "cell_type": "code",
   "execution_count": null,
   "metadata": {},
   "outputs": [],
   "source": [
    "# Checking for results if median value is taken for calculation, will the results change.\n",
    "#grouped_suburb2 = suburb_analysis_df.groupby(['Suburbs']).median()\n",
    "#grouped_suburb2"
   ]
  },
  {
   "cell_type": "code",
   "execution_count": null,
   "metadata": {},
   "outputs": [],
   "source": [
    "# Checking if choosing median changes the results. \n",
    "#sorted_topsuburbs2 = grouped_suburb2.sort_values(\"Price/Day($)\",ascending=False)\n",
    "#sorted_topsuburbs2.head(10)"
   ]
  },
  {
   "cell_type": "code",
   "execution_count": null,
   "metadata": {},
   "outputs": [],
   "source": []
  },
  {
   "cell_type": "code",
   "execution_count": null,
   "metadata": {},
   "outputs": [],
   "source": []
  },
  {
   "cell_type": "code",
   "execution_count": null,
   "metadata": {},
   "outputs": [],
   "source": [
    "# Get average price/day for each locality and room type\n",
    "\n",
    "grouped_city_roomtyp = price_data_renamed.groupby(['Suburbs'])\n",
    "grouped_city_roomtyp.mean()\n"
   ]
  },
  {
   "cell_type": "code",
   "execution_count": null,
   "metadata": {},
   "outputs": [],
   "source": []
  },
  {
   "cell_type": "code",
   "execution_count": null,
   "metadata": {},
   "outputs": [],
   "source": []
  },
  {
   "cell_type": "code",
   "execution_count": null,
   "metadata": {},
   "outputs": [],
   "source": []
  }
 ],
 "metadata": {
  "kernelspec": {
   "display_name": "Python [conda env:PythonData] *",
   "language": "python",
   "name": "conda-env-PythonData-py"
  },
  "language_info": {
   "codemirror_mode": {
    "name": "ipython",
    "version": 3
   },
   "file_extension": ".py",
   "mimetype": "text/x-python",
   "name": "python",
   "nbconvert_exporter": "python",
   "pygments_lexer": "ipython3",
   "version": "3.6.10"
  }
 },
 "nbformat": 4,
 "nbformat_minor": 4
}
